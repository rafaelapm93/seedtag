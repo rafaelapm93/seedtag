{
 "cells": [
  {
   "cell_type": "code",
   "execution_count": 2,
   "metadata": {},
   "outputs": [],
   "source": [
    "import pandas as pd\n",
    "pd.set_option('display.max_columns',None,'display.max_rows',None) \n",
    "import numpy as np\n",
    "import matplotlib.pyplot as plt\n",
    "import seaborn as sns\n",
    "import datetime\n",
    "import plotly.express as px\n",
    "import statsmodels"
   ]
  },
  {
   "cell_type": "markdown",
   "metadata": {},
   "source": [
    "# Data Description\n",
    "\n",
    "The data is compose by 31 columns and 3022 rows, they describe location of the squirrels, physical characteristics (fur), ages and interactions.\n",
    "\n",
    "I will try to do a segmentation by location of the squirrels,determinate if the color has somenthing to do with the loction where they were spotted, also explore if the interaction change with age or color."
   ]
  },
  {
   "cell_type": "code",
   "execution_count": 3,
   "metadata": {},
   "outputs": [],
   "source": [
    "path = './data/2018_Central_Park_Squirrel_Census_-_Squirrel_Data.csv'"
   ]
  },
  {
   "cell_type": "code",
   "execution_count": 4,
   "metadata": {},
   "outputs": [],
   "source": [
    "df = pd.read_csv(path)"
   ]
  },
  {
   "cell_type": "markdown",
   "metadata": {},
   "source": [
    "After we import the data we need to have an overview of the main structure , the column types that we have, how many unknown or n/a registers are, if we need to change the type of some varibles (cast) also take a peek of the dataset itself."
   ]
  },
  {
   "cell_type": "code",
   "execution_count": 5,
   "metadata": {},
   "outputs": [
    {
     "data": {
      "text/plain": [
       "Index(['X', 'Y', 'Unique Squirrel ID', 'Hectare', 'Shift', 'Date',\n",
       "       'Hectare Squirrel Number', 'Age', 'Primary Fur Color',\n",
       "       'Highlight Fur Color', 'Combination of Primary and Highlight Color',\n",
       "       'Color notes', 'Location', 'Above Ground Sighter Measurement',\n",
       "       'Specific Location', 'Running', 'Chasing', 'Climbing', 'Eating',\n",
       "       'Foraging', 'Other Activities', 'Kuks', 'Quaas', 'Moans', 'Tail flags',\n",
       "       'Tail twitches', 'Approaches', 'Indifferent', 'Runs from',\n",
       "       'Other Interactions', 'Lat/Long'],\n",
       "      dtype='object')"
      ]
     },
     "execution_count": 5,
     "metadata": {},
     "output_type": "execute_result"
    }
   ],
   "source": [
    "df.columns"
   ]
  },
  {
   "cell_type": "code",
   "execution_count": 6,
   "metadata": {},
   "outputs": [
    {
     "data": {
      "text/plain": [
       "3018"
      ]
     },
     "execution_count": 6,
     "metadata": {},
     "output_type": "execute_result"
    }
   ],
   "source": [
    "df[\"Unique Squirrel ID\"].nunique()"
   ]
  },
  {
   "cell_type": "code",
   "execution_count": 7,
   "metadata": {},
   "outputs": [
    {
     "name": "stdout",
     "output_type": "stream",
     "text": [
      "<class 'pandas.core.frame.DataFrame'>\n",
      "RangeIndex: 3023 entries, 0 to 3022\n",
      "Data columns (total 31 columns):\n",
      " #   Column                                      Non-Null Count  Dtype  \n",
      "---  ------                                      --------------  -----  \n",
      " 0   X                                           3023 non-null   float64\n",
      " 1   Y                                           3023 non-null   float64\n",
      " 2   Unique Squirrel ID                          3023 non-null   object \n",
      " 3   Hectare                                     3023 non-null   object \n",
      " 4   Shift                                       3023 non-null   object \n",
      " 5   Date                                        3023 non-null   int64  \n",
      " 6   Hectare Squirrel Number                     3023 non-null   int64  \n",
      " 7   Age                                         2902 non-null   object \n",
      " 8   Primary Fur Color                           2968 non-null   object \n",
      " 9   Highlight Fur Color                         1937 non-null   object \n",
      " 10  Combination of Primary and Highlight Color  3023 non-null   object \n",
      " 11  Color notes                                 182 non-null    object \n",
      " 12  Location                                    2959 non-null   object \n",
      " 13  Above Ground Sighter Measurement            2909 non-null   object \n",
      " 14  Specific Location                           476 non-null    object \n",
      " 15  Running                                     3023 non-null   bool   \n",
      " 16  Chasing                                     3023 non-null   bool   \n",
      " 17  Climbing                                    3023 non-null   bool   \n",
      " 18  Eating                                      3023 non-null   bool   \n",
      " 19  Foraging                                    3023 non-null   bool   \n",
      " 20  Other Activities                            437 non-null    object \n",
      " 21  Kuks                                        3023 non-null   bool   \n",
      " 22  Quaas                                       3023 non-null   bool   \n",
      " 23  Moans                                       3023 non-null   bool   \n",
      " 24  Tail flags                                  3023 non-null   bool   \n",
      " 25  Tail twitches                               3023 non-null   bool   \n",
      " 26  Approaches                                  3023 non-null   bool   \n",
      " 27  Indifferent                                 3023 non-null   bool   \n",
      " 28  Runs from                                   3023 non-null   bool   \n",
      " 29  Other Interactions                          240 non-null    object \n",
      " 30  Lat/Long                                    3023 non-null   object \n",
      "dtypes: bool(13), float64(2), int64(2), object(14)\n",
      "memory usage: 463.6+ KB\n"
     ]
    }
   ],
   "source": [
    "df.info()"
   ]
  },
  {
   "cell_type": "markdown",
   "metadata": {},
   "source": [
    "To make the analysis easier i think that we could use the \"Date\" column as a proper date, also fill the n/a in some categories will be helpfull for summarizations and plots."
   ]
  },
  {
   "cell_type": "code",
   "execution_count": 8,
   "metadata": {},
   "outputs": [
    {
     "data": {
      "text/html": [
       "<div>\n",
       "<style scoped>\n",
       "    .dataframe tbody tr th:only-of-type {\n",
       "        vertical-align: middle;\n",
       "    }\n",
       "\n",
       "    .dataframe tbody tr th {\n",
       "        vertical-align: top;\n",
       "    }\n",
       "\n",
       "    .dataframe thead th {\n",
       "        text-align: right;\n",
       "    }\n",
       "</style>\n",
       "<table border=\"1\" class=\"dataframe\">\n",
       "  <thead>\n",
       "    <tr style=\"text-align: right;\">\n",
       "      <th></th>\n",
       "      <th>X</th>\n",
       "      <th>Y</th>\n",
       "      <th>Unique Squirrel ID</th>\n",
       "      <th>Hectare</th>\n",
       "      <th>Shift</th>\n",
       "      <th>Date</th>\n",
       "      <th>Hectare Squirrel Number</th>\n",
       "      <th>Age</th>\n",
       "      <th>Primary Fur Color</th>\n",
       "      <th>Highlight Fur Color</th>\n",
       "      <th>Combination of Primary and Highlight Color</th>\n",
       "      <th>Color notes</th>\n",
       "      <th>Location</th>\n",
       "      <th>Above Ground Sighter Measurement</th>\n",
       "      <th>Specific Location</th>\n",
       "      <th>Running</th>\n",
       "      <th>Chasing</th>\n",
       "      <th>Climbing</th>\n",
       "      <th>Eating</th>\n",
       "      <th>Foraging</th>\n",
       "      <th>Other Activities</th>\n",
       "      <th>Kuks</th>\n",
       "      <th>Quaas</th>\n",
       "      <th>Moans</th>\n",
       "      <th>Tail flags</th>\n",
       "      <th>Tail twitches</th>\n",
       "      <th>Approaches</th>\n",
       "      <th>Indifferent</th>\n",
       "      <th>Runs from</th>\n",
       "      <th>Other Interactions</th>\n",
       "      <th>Lat/Long</th>\n",
       "    </tr>\n",
       "  </thead>\n",
       "  <tbody>\n",
       "    <tr>\n",
       "      <th>0</th>\n",
       "      <td>-73.956134</td>\n",
       "      <td>40.794082</td>\n",
       "      <td>37F-PM-1014-03</td>\n",
       "      <td>37F</td>\n",
       "      <td>PM</td>\n",
       "      <td>10142018</td>\n",
       "      <td>3</td>\n",
       "      <td>NaN</td>\n",
       "      <td>NaN</td>\n",
       "      <td>NaN</td>\n",
       "      <td>+</td>\n",
       "      <td>NaN</td>\n",
       "      <td>NaN</td>\n",
       "      <td>NaN</td>\n",
       "      <td>NaN</td>\n",
       "      <td>False</td>\n",
       "      <td>False</td>\n",
       "      <td>False</td>\n",
       "      <td>False</td>\n",
       "      <td>False</td>\n",
       "      <td>NaN</td>\n",
       "      <td>False</td>\n",
       "      <td>False</td>\n",
       "      <td>False</td>\n",
       "      <td>False</td>\n",
       "      <td>False</td>\n",
       "      <td>False</td>\n",
       "      <td>False</td>\n",
       "      <td>False</td>\n",
       "      <td>NaN</td>\n",
       "      <td>POINT (-73.9561344937861 40.7940823884086)</td>\n",
       "    </tr>\n",
       "    <tr>\n",
       "      <th>1</th>\n",
       "      <td>-73.968857</td>\n",
       "      <td>40.783783</td>\n",
       "      <td>21B-AM-1019-04</td>\n",
       "      <td>21B</td>\n",
       "      <td>AM</td>\n",
       "      <td>10192018</td>\n",
       "      <td>4</td>\n",
       "      <td>NaN</td>\n",
       "      <td>NaN</td>\n",
       "      <td>NaN</td>\n",
       "      <td>+</td>\n",
       "      <td>NaN</td>\n",
       "      <td>NaN</td>\n",
       "      <td>NaN</td>\n",
       "      <td>NaN</td>\n",
       "      <td>False</td>\n",
       "      <td>False</td>\n",
       "      <td>False</td>\n",
       "      <td>False</td>\n",
       "      <td>False</td>\n",
       "      <td>NaN</td>\n",
       "      <td>False</td>\n",
       "      <td>False</td>\n",
       "      <td>False</td>\n",
       "      <td>False</td>\n",
       "      <td>False</td>\n",
       "      <td>False</td>\n",
       "      <td>False</td>\n",
       "      <td>False</td>\n",
       "      <td>NaN</td>\n",
       "      <td>POINT (-73.9688574691102 40.7837825208444)</td>\n",
       "    </tr>\n",
       "    <tr>\n",
       "      <th>2</th>\n",
       "      <td>-73.974281</td>\n",
       "      <td>40.775534</td>\n",
       "      <td>11B-PM-1014-08</td>\n",
       "      <td>11B</td>\n",
       "      <td>PM</td>\n",
       "      <td>10142018</td>\n",
       "      <td>8</td>\n",
       "      <td>NaN</td>\n",
       "      <td>Gray</td>\n",
       "      <td>NaN</td>\n",
       "      <td>Gray+</td>\n",
       "      <td>NaN</td>\n",
       "      <td>Above Ground</td>\n",
       "      <td>10</td>\n",
       "      <td>NaN</td>\n",
       "      <td>False</td>\n",
       "      <td>True</td>\n",
       "      <td>False</td>\n",
       "      <td>False</td>\n",
       "      <td>False</td>\n",
       "      <td>NaN</td>\n",
       "      <td>False</td>\n",
       "      <td>False</td>\n",
       "      <td>False</td>\n",
       "      <td>False</td>\n",
       "      <td>False</td>\n",
       "      <td>False</td>\n",
       "      <td>False</td>\n",
       "      <td>False</td>\n",
       "      <td>NaN</td>\n",
       "      <td>POINT (-73.97428114848522 40.775533619083)</td>\n",
       "    </tr>\n",
       "    <tr>\n",
       "      <th>3</th>\n",
       "      <td>-73.959641</td>\n",
       "      <td>40.790313</td>\n",
       "      <td>32E-PM-1017-14</td>\n",
       "      <td>32E</td>\n",
       "      <td>PM</td>\n",
       "      <td>10172018</td>\n",
       "      <td>14</td>\n",
       "      <td>Adult</td>\n",
       "      <td>Gray</td>\n",
       "      <td>NaN</td>\n",
       "      <td>Gray+</td>\n",
       "      <td>Nothing selected as Primary. Gray selected as ...</td>\n",
       "      <td>NaN</td>\n",
       "      <td>NaN</td>\n",
       "      <td>NaN</td>\n",
       "      <td>False</td>\n",
       "      <td>False</td>\n",
       "      <td>False</td>\n",
       "      <td>True</td>\n",
       "      <td>True</td>\n",
       "      <td>NaN</td>\n",
       "      <td>False</td>\n",
       "      <td>False</td>\n",
       "      <td>False</td>\n",
       "      <td>False</td>\n",
       "      <td>False</td>\n",
       "      <td>False</td>\n",
       "      <td>False</td>\n",
       "      <td>True</td>\n",
       "      <td>NaN</td>\n",
       "      <td>POINT (-73.9596413903948 40.7903128889029)</td>\n",
       "    </tr>\n",
       "    <tr>\n",
       "      <th>4</th>\n",
       "      <td>-73.970268</td>\n",
       "      <td>40.776213</td>\n",
       "      <td>13E-AM-1017-05</td>\n",
       "      <td>13E</td>\n",
       "      <td>AM</td>\n",
       "      <td>10172018</td>\n",
       "      <td>5</td>\n",
       "      <td>Adult</td>\n",
       "      <td>Gray</td>\n",
       "      <td>Cinnamon</td>\n",
       "      <td>Gray+Cinnamon</td>\n",
       "      <td>NaN</td>\n",
       "      <td>Above Ground</td>\n",
       "      <td>NaN</td>\n",
       "      <td>on tree stump</td>\n",
       "      <td>False</td>\n",
       "      <td>False</td>\n",
       "      <td>False</td>\n",
       "      <td>False</td>\n",
       "      <td>True</td>\n",
       "      <td>NaN</td>\n",
       "      <td>False</td>\n",
       "      <td>False</td>\n",
       "      <td>False</td>\n",
       "      <td>False</td>\n",
       "      <td>False</td>\n",
       "      <td>False</td>\n",
       "      <td>False</td>\n",
       "      <td>False</td>\n",
       "      <td>NaN</td>\n",
       "      <td>POINT (-73.9702676472613 40.7762126854894)</td>\n",
       "    </tr>\n",
       "  </tbody>\n",
       "</table>\n",
       "</div>"
      ],
      "text/plain": [
       "           X          Y Unique Squirrel ID Hectare Shift      Date  \\\n",
       "0 -73.956134  40.794082     37F-PM-1014-03     37F    PM  10142018   \n",
       "1 -73.968857  40.783783     21B-AM-1019-04     21B    AM  10192018   \n",
       "2 -73.974281  40.775534     11B-PM-1014-08     11B    PM  10142018   \n",
       "3 -73.959641  40.790313     32E-PM-1017-14     32E    PM  10172018   \n",
       "4 -73.970268  40.776213     13E-AM-1017-05     13E    AM  10172018   \n",
       "\n",
       "   Hectare Squirrel Number    Age Primary Fur Color Highlight Fur Color  \\\n",
       "0                        3    NaN               NaN                 NaN   \n",
       "1                        4    NaN               NaN                 NaN   \n",
       "2                        8    NaN              Gray                 NaN   \n",
       "3                       14  Adult              Gray                 NaN   \n",
       "4                        5  Adult              Gray            Cinnamon   \n",
       "\n",
       "  Combination of Primary and Highlight Color  \\\n",
       "0                                          +   \n",
       "1                                          +   \n",
       "2                                      Gray+   \n",
       "3                                      Gray+   \n",
       "4                              Gray+Cinnamon   \n",
       "\n",
       "                                         Color notes      Location  \\\n",
       "0                                                NaN           NaN   \n",
       "1                                                NaN           NaN   \n",
       "2                                                NaN  Above Ground   \n",
       "3  Nothing selected as Primary. Gray selected as ...           NaN   \n",
       "4                                                NaN  Above Ground   \n",
       "\n",
       "  Above Ground Sighter Measurement Specific Location  Running  Chasing  \\\n",
       "0                              NaN               NaN    False    False   \n",
       "1                              NaN               NaN    False    False   \n",
       "2                               10               NaN    False     True   \n",
       "3                              NaN               NaN    False    False   \n",
       "4                              NaN     on tree stump    False    False   \n",
       "\n",
       "   Climbing  Eating  Foraging Other Activities   Kuks  Quaas  Moans  \\\n",
       "0     False   False     False              NaN  False  False  False   \n",
       "1     False   False     False              NaN  False  False  False   \n",
       "2     False   False     False              NaN  False  False  False   \n",
       "3     False    True      True              NaN  False  False  False   \n",
       "4     False   False      True              NaN  False  False  False   \n",
       "\n",
       "   Tail flags  Tail twitches  Approaches  Indifferent  Runs from  \\\n",
       "0       False          False       False        False      False   \n",
       "1       False          False       False        False      False   \n",
       "2       False          False       False        False      False   \n",
       "3       False          False       False        False       True   \n",
       "4       False          False       False        False      False   \n",
       "\n",
       "  Other Interactions                                    Lat/Long  \n",
       "0                NaN  POINT (-73.9561344937861 40.7940823884086)  \n",
       "1                NaN  POINT (-73.9688574691102 40.7837825208444)  \n",
       "2                NaN  POINT (-73.97428114848522 40.775533619083)  \n",
       "3                NaN  POINT (-73.9596413903948 40.7903128889029)  \n",
       "4                NaN  POINT (-73.9702676472613 40.7762126854894)  "
      ]
     },
     "execution_count": 8,
     "metadata": {},
     "output_type": "execute_result"
    }
   ],
   "source": [
    "df.head()"
   ]
  },
  {
   "cell_type": "code",
   "execution_count": 9,
   "metadata": {},
   "outputs": [],
   "source": [
    "def date_int_str(date):\n",
    "\n",
    "    str_date = str(date)\n",
    "\n",
    "    m = str_date[:2]\n",
    "    d = str_date[2:4]\n",
    "    y = str_date[4:]\n",
    "\n",
    "    return '{}-{}-{}'.format(y,m,d)\n",
    "    "
   ]
  },
  {
   "cell_type": "code",
   "execution_count": 10,
   "metadata": {},
   "outputs": [],
   "source": [
    "df['Date'] = pd.to_datetime(df['Date'].apply(lambda x : date_int_str(x)))"
   ]
  },
  {
   "cell_type": "markdown",
   "metadata": {},
   "source": [
    "First things first! is important to know a proper way to segment the data, fur color and age could do the part! , so we may ask ourself what Proportion of the squirrels correspond to each fur color and age?"
   ]
  },
  {
   "cell_type": "code",
   "execution_count": 11,
   "metadata": {},
   "outputs": [],
   "source": [
    "dict_classes = {'Age':['red','blue'],\n",
    "                'Primary Fur Color':['black', 'brown','gray']}"
   ]
  },
  {
   "cell_type": "code",
   "execution_count": 12,
   "metadata": {},
   "outputs": [],
   "source": [
    "def plot_pie_chart(DataFrame,column):\n",
    "    \n",
    "    pfc = df.groupby(column).size().reset_index()\n",
    "    pfc.rename(columns={0:'n'},inplace=True)\n",
    "    plt.figure(figsize=(10,8))\n",
    "    plt.pie(pfc['n'],autopct='%1.2f%%', colors=dict_classes[column])\n",
    "    plt.axis('equal')\n",
    "    plt.legend(labels=pfc['n'],loc='best',fontsize='12')\n",
    "    plt.title(column + ' Distribution', fontsize='15',color='w')\n",
    "    plt.show()\n",
    "    plt.close()\n",
    "\n",
    "    return pfc"
   ]
  },
  {
   "cell_type": "code",
   "execution_count": 13,
   "metadata": {},
   "outputs": [
    {
     "data": {
      "image/png": "[encoded data removed]",
      "text/plain": [
       "<Figure size 720x576 with 1 Axes>"
      ]
     },
     "metadata": {},
     "output_type": "display_data"
    },
    {
     "data": {
      "text/html": [
       "<div>\n",
       "<style scoped>\n",
       "    .dataframe tbody tr th:only-of-type {\n",
       "        vertical-align: middle;\n",
       "    }\n",
       "\n",
       "    .dataframe tbody tr th {\n",
       "        vertical-align: top;\n",
       "    }\n",
       "\n",
       "    .dataframe thead th {\n",
       "        text-align: right;\n",
       "    }\n",
       "</style>\n",
       "<table border=\"1\" class=\"dataframe\">\n",
       "  <thead>\n",
       "    <tr style=\"text-align: right;\">\n",
       "      <th></th>\n",
       "      <th>Primary Fur Color</th>\n",
       "      <th>n</th>\n",
       "    </tr>\n",
       "  </thead>\n",
       "  <tbody>\n",
       "    <tr>\n",
       "      <th>0</th>\n",
       "      <td>Black</td>\n",
       "      <td>103</td>\n",
       "    </tr>\n",
       "    <tr>\n",
       "      <th>1</th>\n",
       "      <td>Cinnamon</td>\n",
       "      <td>392</td>\n",
       "    </tr>\n",
       "    <tr>\n",
       "      <th>2</th>\n",
       "      <td>Gray</td>\n",
       "      <td>2473</td>\n",
       "    </tr>\n",
       "  </tbody>\n",
       "</table>\n",
       "</div>"
      ],
      "text/plain": [
       "  Primary Fur Color     n\n",
       "0             Black   103\n",
       "1          Cinnamon   392\n",
       "2              Gray  2473"
      ]
     },
     "execution_count": 13,
     "metadata": {},
     "output_type": "execute_result"
    }
   ],
   "source": [
    "plot_pie_chart(df,'Primary Fur Color')"
   ]
  },
  {
   "cell_type": "code",
   "execution_count": 14,
   "metadata": {},
   "outputs": [
    {
     "data": {
      "image/png": "[encoded data removed]",
      "text/plain": [
       "<Figure size 720x576 with 1 Axes>"
      ]
     },
     "metadata": {},
     "output_type": "display_data"
    },
    {
     "data": {
      "text/html": [
       "<div>\n",
       "<style scoped>\n",
       "    .dataframe tbody tr th:only-of-type {\n",
       "        vertical-align: middle;\n",
       "    }\n",
       "\n",
       "    .dataframe tbody tr th {\n",
       "        vertical-align: top;\n",
       "    }\n",
       "\n",
       "    .dataframe thead th {\n",
       "        text-align: right;\n",
       "    }\n",
       "</style>\n",
       "<table border=\"1\" class=\"dataframe\">\n",
       "  <thead>\n",
       "    <tr style=\"text-align: right;\">\n",
       "      <th></th>\n",
       "      <th>Age</th>\n",
       "      <th>n</th>\n",
       "    </tr>\n",
       "  </thead>\n",
       "  <tbody>\n",
       "    <tr>\n",
       "      <th>0</th>\n",
       "      <td>?</td>\n",
       "      <td>4</td>\n",
       "    </tr>\n",
       "    <tr>\n",
       "      <th>1</th>\n",
       "      <td>Adult</td>\n",
       "      <td>2568</td>\n",
       "    </tr>\n",
       "    <tr>\n",
       "      <th>2</th>\n",
       "      <td>Juvenile</td>\n",
       "      <td>330</td>\n",
       "    </tr>\n",
       "  </tbody>\n",
       "</table>\n",
       "</div>"
      ],
      "text/plain": [
       "        Age     n\n",
       "0         ?     4\n",
       "1     Adult  2568\n",
       "2  Juvenile   330"
      ]
     },
     "execution_count": 14,
     "metadata": {},
     "output_type": "execute_result"
    }
   ],
   "source": [
    "plot_pie_chart(df,'Age')"
   ]
  },
  {
   "cell_type": "markdown",
   "metadata": {},
   "source": [
    "Now that we know the way they are divide, it will be nice to see how sparse are they in the dimension of the park? so the question is:\n",
    "\n",
    "How is the squirrels’ distribution in the park?\n",
    "\n",
    "To answer this question, for aesthetic pourpuses (location of squirrels)  a rough estimation of the center of each hectare will be made,taking the mean of the X,Y (longitude, latitude).\n",
    "\n",
    "\n",
    "The first plot is a chess table type with the letter of the hectare in the \"x\" axis and the number on the \"y\" axis, the number inside each box is the amount of animal per hectare.\n",
    "\n",
    "The second one, is an interactive density plot, similar to the first type but this one offers a better representation of the real distribution.\n",
    "\n",
    "The third one is the location of each animal with their respective color\n"
   ]
  },
  {
   "cell_type": "code",
   "execution_count": 15,
   "metadata": {},
   "outputs": [],
   "source": [
    "n_squirrels_by_hectare = df.groupby('Hectare').size().sort_values(ascending=False)\n",
    "n_squirrels_by_hectare = n_squirrels_by_hectare.to_frame()\n",
    "n_squirrels_by_hectare.reset_index(inplace = True)\n",
    "n_squirrels_by_hectare.columns = ['Hectare','n_squirrels']"
   ]
  },
  {
   "cell_type": "markdown",
   "metadata": {},
   "source": [
    "# Hectares with the most squirrels!"
   ]
  },
  {
   "cell_type": "code",
   "execution_count": 16,
   "metadata": {},
   "outputs": [
    {
     "data": {
      "text/html": [
       "<div>\n",
       "<style scoped>\n",
       "    .dataframe tbody tr th:only-of-type {\n",
       "        vertical-align: middle;\n",
       "    }\n",
       "\n",
       "    .dataframe tbody tr th {\n",
       "        vertical-align: top;\n",
       "    }\n",
       "\n",
       "    .dataframe thead th {\n",
       "        text-align: right;\n",
       "    }\n",
       "</style>\n",
       "<table border=\"1\" class=\"dataframe\">\n",
       "  <thead>\n",
       "    <tr style=\"text-align: right;\">\n",
       "      <th></th>\n",
       "      <th>Hectare</th>\n",
       "      <th>n_squirrels</th>\n",
       "    </tr>\n",
       "  </thead>\n",
       "  <tbody>\n",
       "    <tr>\n",
       "      <th>0</th>\n",
       "      <td>14D</td>\n",
       "      <td>32</td>\n",
       "    </tr>\n",
       "    <tr>\n",
       "      <th>1</th>\n",
       "      <td>32E</td>\n",
       "      <td>30</td>\n",
       "    </tr>\n",
       "    <tr>\n",
       "      <th>2</th>\n",
       "      <td>14E</td>\n",
       "      <td>28</td>\n",
       "    </tr>\n",
       "    <tr>\n",
       "      <th>3</th>\n",
       "      <td>01B</td>\n",
       "      <td>27</td>\n",
       "    </tr>\n",
       "    <tr>\n",
       "      <th>4</th>\n",
       "      <td>07H</td>\n",
       "      <td>26</td>\n",
       "    </tr>\n",
       "    <tr>\n",
       "      <th>5</th>\n",
       "      <td>13D</td>\n",
       "      <td>25</td>\n",
       "    </tr>\n",
       "    <tr>\n",
       "      <th>6</th>\n",
       "      <td>13E</td>\n",
       "      <td>24</td>\n",
       "    </tr>\n",
       "    <tr>\n",
       "      <th>7</th>\n",
       "      <td>03D</td>\n",
       "      <td>22</td>\n",
       "    </tr>\n",
       "    <tr>\n",
       "      <th>8</th>\n",
       "      <td>33E</td>\n",
       "      <td>22</td>\n",
       "    </tr>\n",
       "    <tr>\n",
       "      <th>9</th>\n",
       "      <td>04C</td>\n",
       "      <td>22</td>\n",
       "    </tr>\n",
       "  </tbody>\n",
       "</table>\n",
       "</div>"
      ],
      "text/plain": [
       "  Hectare  n_squirrels\n",
       "0     14D           32\n",
       "1     32E           30\n",
       "2     14E           28\n",
       "3     01B           27\n",
       "4     07H           26\n",
       "5     13D           25\n",
       "6     13E           24\n",
       "7     03D           22\n",
       "8     33E           22\n",
       "9     04C           22"
      ]
     },
     "execution_count": 16,
     "metadata": {},
     "output_type": "execute_result"
    }
   ],
   "source": [
    "n_squirrels_by_hectare.head(10)"
   ]
  },
  {
   "cell_type": "code",
   "execution_count": 17,
   "metadata": {},
   "outputs": [
    {
     "name": "stderr",
     "output_type": "stream",
     "text": [
      "C:\\Users\\raperez\\AppData\\Local\\Temp\\ipykernel_12232\\26159670.py:1: FutureWarning: Indexing with multiple keys (implicitly converted to a tuple of keys) will be deprecated, use a list instead.\n",
      "  hectare_coor = df.groupby('Hectare')['X','Y'].mean()\n"
     ]
    }
   ],
   "source": [
    "hectare_coor = df.groupby('Hectare')['X','Y'].mean()"
   ]
  },
  {
   "cell_type": "code",
   "execution_count": 18,
   "metadata": {},
   "outputs": [],
   "source": [
    "hectare_coor_squirrel = pd.merge(hectare_coor,n_squirrels_by_hectare,on = 'Hectare',how = 'inner')"
   ]
  },
  {
   "cell_type": "code",
   "execution_count": 19,
   "metadata": {},
   "outputs": [
    {
     "data": {
      "text/html": [
       "<div>\n",
       "<style scoped>\n",
       "    .dataframe tbody tr th:only-of-type {\n",
       "        vertical-align: middle;\n",
       "    }\n",
       "\n",
       "    .dataframe tbody tr th {\n",
       "        vertical-align: top;\n",
       "    }\n",
       "\n",
       "    .dataframe thead th {\n",
       "        text-align: right;\n",
       "    }\n",
       "</style>\n",
       "<table border=\"1\" class=\"dataframe\">\n",
       "  <thead>\n",
       "    <tr style=\"text-align: right;\">\n",
       "      <th></th>\n",
       "      <th>Hectare</th>\n",
       "      <th>X</th>\n",
       "      <th>Y</th>\n",
       "      <th>n_squirrels</th>\n",
       "    </tr>\n",
       "  </thead>\n",
       "  <tbody>\n",
       "    <tr>\n",
       "      <th>0</th>\n",
       "      <td>01A</td>\n",
       "      <td>-73.980887</td>\n",
       "      <td>40.768198</td>\n",
       "      <td>11</td>\n",
       "    </tr>\n",
       "    <tr>\n",
       "      <th>1</th>\n",
       "      <td>01B</td>\n",
       "      <td>-73.980241</td>\n",
       "      <td>40.767892</td>\n",
       "      <td>27</td>\n",
       "    </tr>\n",
       "    <tr>\n",
       "      <th>2</th>\n",
       "      <td>01C</td>\n",
       "      <td>-73.979395</td>\n",
       "      <td>40.767560</td>\n",
       "      <td>12</td>\n",
       "    </tr>\n",
       "    <tr>\n",
       "      <th>3</th>\n",
       "      <td>01D</td>\n",
       "      <td>-73.978215</td>\n",
       "      <td>40.766933</td>\n",
       "      <td>16</td>\n",
       "    </tr>\n",
       "    <tr>\n",
       "      <th>4</th>\n",
       "      <td>01E</td>\n",
       "      <td>-73.977362</td>\n",
       "      <td>40.766524</td>\n",
       "      <td>8</td>\n",
       "    </tr>\n",
       "  </tbody>\n",
       "</table>\n",
       "</div>"
      ],
      "text/plain": [
       "  Hectare          X          Y  n_squirrels\n",
       "0     01A -73.980887  40.768198           11\n",
       "1     01B -73.980241  40.767892           27\n",
       "2     01C -73.979395  40.767560           12\n",
       "3     01D -73.978215  40.766933           16\n",
       "4     01E -73.977362  40.766524            8"
      ]
     },
     "execution_count": 19,
     "metadata": {},
     "output_type": "execute_result"
    }
   ],
   "source": [
    "hectare_coor_squirrel.head()"
   ]
  },
  {
   "cell_type": "code",
   "execution_count": 20,
   "metadata": {},
   "outputs": [
    {
     "data": {
      "text/html": [
       "<div>\n",
       "<style scoped>\n",
       "    .dataframe tbody tr th:only-of-type {\n",
       "        vertical-align: middle;\n",
       "    }\n",
       "\n",
       "    .dataframe tbody tr th {\n",
       "        vertical-align: top;\n",
       "    }\n",
       "\n",
       "    .dataframe thead th {\n",
       "        text-align: right;\n",
       "    }\n",
       "</style>\n",
       "<table border=\"1\" class=\"dataframe\">\n",
       "  <thead>\n",
       "    <tr style=\"text-align: right;\">\n",
       "      <th></th>\n",
       "      <th>Hectare</th>\n",
       "      <th>n_squirrels</th>\n",
       "      <th>letter</th>\n",
       "      <th>number</th>\n",
       "    </tr>\n",
       "  </thead>\n",
       "  <tbody>\n",
       "    <tr>\n",
       "      <th>0</th>\n",
       "      <td>14D</td>\n",
       "      <td>32</td>\n",
       "      <td>D</td>\n",
       "      <td>14</td>\n",
       "    </tr>\n",
       "    <tr>\n",
       "      <th>1</th>\n",
       "      <td>32E</td>\n",
       "      <td>30</td>\n",
       "      <td>E</td>\n",
       "      <td>32</td>\n",
       "    </tr>\n",
       "    <tr>\n",
       "      <th>2</th>\n",
       "      <td>14E</td>\n",
       "      <td>28</td>\n",
       "      <td>E</td>\n",
       "      <td>14</td>\n",
       "    </tr>\n",
       "    <tr>\n",
       "      <th>3</th>\n",
       "      <td>01B</td>\n",
       "      <td>27</td>\n",
       "      <td>B</td>\n",
       "      <td>1</td>\n",
       "    </tr>\n",
       "    <tr>\n",
       "      <th>4</th>\n",
       "      <td>07H</td>\n",
       "      <td>26</td>\n",
       "      <td>H</td>\n",
       "      <td>7</td>\n",
       "    </tr>\n",
       "    <tr>\n",
       "      <th>5</th>\n",
       "      <td>13D</td>\n",
       "      <td>25</td>\n",
       "      <td>D</td>\n",
       "      <td>13</td>\n",
       "    </tr>\n",
       "    <tr>\n",
       "      <th>6</th>\n",
       "      <td>13E</td>\n",
       "      <td>24</td>\n",
       "      <td>E</td>\n",
       "      <td>13</td>\n",
       "    </tr>\n",
       "    <tr>\n",
       "      <th>7</th>\n",
       "      <td>03D</td>\n",
       "      <td>22</td>\n",
       "      <td>D</td>\n",
       "      <td>3</td>\n",
       "    </tr>\n",
       "    <tr>\n",
       "      <th>8</th>\n",
       "      <td>33E</td>\n",
       "      <td>22</td>\n",
       "      <td>E</td>\n",
       "      <td>33</td>\n",
       "    </tr>\n",
       "    <tr>\n",
       "      <th>9</th>\n",
       "      <td>04C</td>\n",
       "      <td>22</td>\n",
       "      <td>C</td>\n",
       "      <td>4</td>\n",
       "    </tr>\n",
       "  </tbody>\n",
       "</table>\n",
       "</div>"
      ],
      "text/plain": [
       "  Hectare  n_squirrels letter  number\n",
       "0     14D           32      D      14\n",
       "1     32E           30      E      32\n",
       "2     14E           28      E      14\n",
       "3     01B           27      B       1\n",
       "4     07H           26      H       7\n",
       "5     13D           25      D      13\n",
       "6     13E           24      E      13\n",
       "7     03D           22      D       3\n",
       "8     33E           22      E      33\n",
       "9     04C           22      C       4"
      ]
     },
     "execution_count": 20,
     "metadata": {},
     "output_type": "execute_result"
    }
   ],
   "source": [
    "n_squirrels_by_hectare['letter'] = n_squirrels_by_hectare['Hectare'].apply(lambda x:x[-1])\n",
    "n_squirrels_by_hectare['number'] = n_squirrels_by_hectare['Hectare'].apply(lambda x:int(x[:-1]))\n",
    "n_squirrels_by_hectare.head(10)"
   ]
  },
  {
   "cell_type": "code",
   "execution_count": 21,
   "metadata": {},
   "outputs": [],
   "source": [
    "hectares = n_squirrels_by_hectare.pivot(index = 'number',columns = 'letter',values='n_squirrels').fillna(0)"
   ]
  },
  {
   "cell_type": "markdown",
   "metadata": {},
   "source": [
    "# Chees Table Plot"
   ]
  },
  {
   "cell_type": "code",
   "execution_count": 22,
   "metadata": {},
   "outputs": [
    {
     "data": {
      "image/png": "[encoded data removed]",
      "text/plain": [
       "<Figure size 576x1440 with 2 Axes>"
      ]
     },
     "metadata": {
      "needs_background": "light"
     },
     "output_type": "display_data"
    },
    {
     "data": {
      "text/plain": [
       "<Figure size 720x576 with 0 Axes>"
      ]
     },
     "metadata": {},
     "output_type": "display_data"
    }
   ],
   "source": [
    "fig_dims = (8, 20)\n",
    "fig, ax = plt.subplots(figsize=fig_dims)\n",
    "\n",
    "sns.heatmap(hectares,linewidths=.5,annot=True)\n",
    "plt.figure(figsize=(10,8))\n",
    "ax.set_title('Squirrels by Hectare', fontsize='15',color='black')\n",
    "plt.show()\n",
    "plt.close()\n"
   ]
  },
  {
   "cell_type": "code",
   "execution_count": 23,
   "metadata": {},
   "outputs": [],
   "source": [
    "fig = px.density_mapbox(hectare_coor_squirrel, lat='Y', lon='X', z='n_squirrels', radius=12,\n",
    "                        center=dict(lon= -73.965957, lat=40.782175), zoom=12,\n",
    "                        mapbox_style=\"stamen-terrain\",\n",
    "                        hover_data = ['Hectare','n_squirrels','Y','X'] )"
   ]
  },
  {
   "cell_type": "markdown",
   "metadata": {},
   "source": [
    "# Density Plot"
   ]
  },
  {
   "cell_type": "code",
   "execution_count": 24,
   "metadata": {},
   "outputs": [
    {
     "data": {
      "application/vnd.plotly.v1+json": {
       "config": {
        "plotlyServerURL": "https://plot.ly"
       },
       "data": [
        {
         "coloraxis": "coloraxis",
         "customdata": [
          [
           "01A",
           40.76819785240354,
           -73.98088744823467
          ],
          [
           "01B",
           40.767892285332024,
           -73.98024065593678
          ],
          [
           "01C",
           40.767560426968906,
           -73.97939536272962
          ],
          [
           "01D",
           40.76693320252869,
           -73.97821484209649
          ],
          [
           "01E",
           40.766523734470766,
           -73.9773615892424
          ],
          [
           "01F",
           40.76618793258239,
           -73.97653674404333
          ],
          [
           "01G",
           40.76552798091875,
           -73.97488875851191
          ],
          [
           "01H",
           40.765180097908626,
           -73.97390356981252
          ],
          [
           "01I",
           40.765115890367596,
           -73.97319669920165
          ],
          [
           "02A",
           40.76875454350658,
           -73.98083267466777
          ],
          [
           "02B",
           40.76848163216584,
           -73.97987272956527
          ],
          [
           "02C",
           40.76790682563448,
           -73.97895125787106
          ],
          [
           "02D",
           40.76765944019466,
           -73.97781360536642
          ],
          [
           "02E",
           40.767208426236586,
           -73.9768744656974
          ],
          [
           "02F",
           40.76678418921693,
           -73.97541150543326
          ],
          [
           "02G",
           40.766325877214,
           -73.97481210551497
          ],
          [
           "02H",
           40.765843474013565,
           -73.97329625563798
          ],
          [
           "02I",
           40.76558955958293,
           -73.97260682244162
          ],
          [
           "03A",
           40.76960876086769,
           -73.9800797763451
          ],
          [
           "03B",
           40.76906495463581,
           -73.97903070841501
          ],
          [
           "03C",
           40.7686746150023,
           -73.97835249084625
          ],
          [
           "03D",
           40.76837921863991,
           -73.97726726146382
          ],
          [
           "03E",
           40.768000656419574,
           -73.97599657940674
          ],
          [
           "03F",
           40.767369222774676,
           -73.97500962826595
          ],
          [
           "03G",
           40.7672014067052,
           -73.97420804957211
          ],
          [
           "03H",
           40.76646762572063,
           -73.97285135669587
          ],
          [
           "03I",
           40.76621404786718,
           -73.97212987921809
          ],
          [
           "04A",
           40.77056805754038,
           -73.97963290537524
          ],
          [
           "04B",
           40.76975652458685,
           -73.97878028343271
          ],
          [
           "04C",
           40.769525213877074,
           -73.97746326572114
          ],
          [
           "04D",
           40.769019656362076,
           -73.97650982663056
          ],
          [
           "04E",
           40.768621775034084,
           -73.97559452338008
          ],
          [
           "04F",
           40.768301619816825,
           -73.97472390591845
          ],
          [
           "04G",
           40.76774379998931,
           -73.97350704515286
          ],
          [
           "04H",
           40.76713105857153,
           -73.97276590165234
          ],
          [
           "04I",
           40.76693151133572,
           -73.97170483677071
          ],
          [
           "05A",
           40.77122560195377,
           -73.97896960482069
          ],
          [
           "05B",
           40.77073700607826,
           -73.97779015332331
          ],
          [
           "05C",
           40.770688902092786,
           -73.9768171760359
          ],
          [
           "05D",
           40.76988218116219,
           -73.97590707085818
          ],
          [
           "05E",
           40.769451408125434,
           -73.9750576657539
          ],
          [
           "05F",
           40.76903088344067,
           -73.97395311763584
          ],
          [
           "05G",
           40.76860252923496,
           -73.97341736233625
          ],
          [
           "05H",
           40.7681496989029,
           -73.9725669210177
          ],
          [
           "05I",
           40.7679166056415,
           -73.97084525600863
          ],
          [
           "06A",
           40.77185810164765,
           -73.97845874651095
          ],
          [
           "06B",
           40.77159531610135,
           -73.97696299503431
          ],
          [
           "06C",
           40.77123489606037,
           -73.97665123224407
          ],
          [
           "06D",
           40.77053070934789,
           -73.97558396210835
          ],
          [
           "06E",
           40.77010231056067,
           -73.97459743714253
          ],
          [
           "06F",
           40.769793838195405,
           -73.9731793033933
          ],
          [
           "06G",
           40.76931699861656,
           -73.97225423475632
          ],
          [
           "06H",
           40.76923621985328,
           -73.97131887761306
          ],
          [
           "06I",
           40.76894760909336,
           -73.97031985684156
          ],
          [
           "07A",
           40.77270635259198,
           -73.97798402805992
          ],
          [
           "07B",
           40.7726920740087,
           -73.97709729673713
          ],
          [
           "07C",
           40.77173256540637,
           -73.97610237688157
          ],
          [
           "07D",
           40.7720123158535,
           -73.97489847130805
          ],
          [
           "07E",
           40.77115863935224,
           -73.97371687222643
          ],
          [
           "07F",
           40.77061058610129,
           -73.97280041401687
          ],
          [
           "07G",
           40.77023725140886,
           -73.97195245881979
          ],
          [
           "07H",
           40.7698354924998,
           -73.97066695551831
          ],
          [
           "07I",
           40.769492920016226,
           -73.96988797925474
          ],
          [
           "08A",
           40.77347887251088,
           -73.97701650984328
          ],
          [
           "08B",
           40.77350564332341,
           -73.97641800035885
          ],
          [
           "08C",
           40.77283639756808,
           -73.97514065884704
          ],
          [
           "08D",
           40.77259965690535,
           -73.97388532296672
          ],
          [
           "08E",
           40.77189808749481,
           -73.9735201062304
          ],
          [
           "08F",
           40.77142661758421,
           -73.9724381043121
          ],
          [
           "08G",
           40.771405953436,
           -73.97137361570715
          ],
          [
           "08H",
           40.770418411068,
           -73.97010495619358
          ],
          [
           "08I",
           40.77028894986332,
           -73.96932655738978
          ],
          [
           "09A",
           40.77429304014441,
           -73.97668594122702
          ],
          [
           "09B",
           40.773868376326554,
           -73.97588770045081
          ],
          [
           "09C",
           40.77332101035957,
           -73.9749204315794
          ],
          [
           "09D",
           40.772968673090304,
           -73.9741614885128
          ],
          [
           "09E",
           40.772736128464246,
           -73.97272194170036
          ],
          [
           "09F",
           40.77220263811856,
           -73.97166731435017
          ],
          [
           "09G",
           40.77163175416787,
           -73.97085955909104
          ],
          [
           "09H",
           40.771175392615106,
           -73.96960333037858
          ],
          [
           "09I",
           40.770932231576886,
           -73.96882576168342
          ],
          [
           "10A",
           40.77514558653689,
           -73.97625837564067
          ],
          [
           "10B",
           40.7746046909131,
           -73.97514003924998
          ],
          [
           "10C",
           40.774282381418104,
           -73.97453108836287
          ],
          [
           "10D",
           40.7740754333897,
           -73.97314018464716
          ],
          [
           "10E",
           40.773225808435434,
           -73.97197398504923
          ],
          [
           "10F",
           40.772532324937586,
           -73.97092898893106
          ],
          [
           "10G",
           40.77250274368292,
           -73.97042939648938
          ],
          [
           "10H",
           40.77197679121954,
           -73.9690606963677
          ],
          [
           "10I",
           40.771867046416176,
           -73.96818248665504
          ],
          [
           "11A",
           40.77551868132906,
           -73.97571403171109
          ],
          [
           "11B",
           40.77570942033237,
           -73.97458930953304
          ],
          [
           "11C",
           40.7752481472025,
           -73.9741621946917
          ],
          [
           "11D",
           40.77467027914284,
           -73.97231083632983
          ],
          [
           "11E",
           40.77433911414635,
           -73.97147993866199
          ],
          [
           "11F",
           40.773744203621185,
           -73.97037125663878
          ],
          [
           "11G",
           40.77304190429573,
           -73.969425367944
          ],
          [
           "11H",
           40.77294773994093,
           -73.96839132820459
          ],
          [
           "11I",
           40.77249847859465,
           -73.9680151811654
          ],
          [
           "12A",
           40.776698422834066,
           -73.97463335071619
          ],
          [
           "12B",
           40.775953660084205,
           -73.97417737482446
          ],
          [
           "12C",
           40.7758548998671,
           -73.97273388950657
          ],
          [
           "12D",
           40.77539221085512,
           -73.97189486446882
          ],
          [
           "12E",
           40.77499323506129,
           -73.97125381820773
          ],
          [
           "12F",
           40.77437147725566,
           -73.96984736593565
          ],
          [
           "12G",
           40.774124576180846,
           -73.96903289555594
          ],
          [
           "12H",
           40.77398759063522,
           -73.96791699556752
          ],
          [
           "12I",
           40.7734991420941,
           -73.9670628558161
          ],
          [
           "13A",
           40.77751332655914,
           -73.97452113717964
          ],
          [
           "13B",
           40.77692091702245,
           -73.97405967885065
          ],
          [
           "13C",
           40.776305334162856,
           -73.97207327613457
          ],
          [
           "13D",
           40.77617771996671,
           -73.9714215517171
          ],
          [
           "13E",
           40.77605370080877,
           -73.97047814507197
          ],
          [
           "13F",
           40.77555641831734,
           -73.96957183826223
          ],
          [
           "13G",
           40.77493983603975,
           -73.96835562534407
          ],
          [
           "13H",
           40.77467329963396,
           -73.96760363023013
          ],
          [
           "13I",
           40.7742569936186,
           -73.9661785940531
          ],
          [
           "14A",
           40.77843413758929,
           -73.97363832683413
          ],
          [
           "14B",
           40.77816767228381,
           -73.97298359876719
          ],
          [
           "14C",
           40.77744539917324,
           -73.97147969981397
          ],
          [
           "14D",
           40.777032794355904,
           -73.9709571483404
          ],
          [
           "14E",
           40.776609256344095,
           -73.96986098032023
          ],
          [
           "14F",
           40.7763682448723,
           -73.96896086026557
          ],
          [
           "14G",
           40.775596117725925,
           -73.96787130873628
          ],
          [
           "14H",
           40.775397567645925,
           -73.96673551655856
          ],
          [
           "14I",
           40.77513733581957,
           -73.96577242166438
          ],
          [
           "15A",
           40.77918129535354,
           -73.97294243192077
          ],
          [
           "15B",
           40.778816849499385,
           -73.97249159711977
          ],
          [
           "15C",
           40.77844808288831,
           -73.9711719456888
          ],
          [
           "15D",
           40.77775891138555,
           -73.97034195632207
          ],
          [
           "15E",
           40.77734118159007,
           -73.96936712299187
          ],
          [
           "15F",
           40.776895336551235,
           -73.96848446924707
          ],
          [
           "15G",
           40.776629658004666,
           -73.96744765074523
          ],
          [
           "15H",
           40.77608023796046,
           -73.96608483864233
          ],
          [
           "15I",
           40.77598034459011,
           -73.96519426665601
          ],
          [
           "16A",
           40.77959753800541,
           -73.97271497167031
          ],
          [
           "16B",
           40.779678669673046,
           -73.97166321653398
          ],
          [
           "16C",
           40.778899406842086,
           -73.97078288769401
          ],
          [
           "16D",
           40.778490914080535,
           -73.96988990293133
          ],
          [
           "16E",
           40.77803699907142,
           -73.96852154734138
          ],
          [
           "16F",
           40.777545867555105,
           -73.9675639641515
          ],
          [
           "16G",
           40.77734334250845,
           -73.96681408355207
          ],
          [
           "16H",
           40.77659844477218,
           -73.96571660254911
          ],
          [
           "16I",
           40.77663542956742,
           -73.96475744234517
          ],
          [
           "17A",
           40.78051854205847,
           -73.97202851272615
          ],
          [
           "17B",
           40.779995228561,
           -73.97115810758793
          ],
          [
           "17C",
           40.77980844534976,
           -73.97045505708381
          ],
          [
           "17D",
           40.77935664759776,
           -73.96947960704529
          ],
          [
           "17E",
           40.77890784463292,
           -73.96779782801438
          ],
          [
           "17F",
           40.77855568957453,
           -73.9673412916161
          ],
          [
           "17G",
           40.77801964873544,
           -73.9662460239202
          ],
          [
           "17H",
           40.7776546465784,
           -73.96524992304279
          ],
          [
           "17I",
           40.77739063598672,
           -73.96428751337072
          ],
          [
           "18A",
           40.7811753898727,
           -73.97179471855026
          ],
          [
           "18C",
           40.78046266400585,
           -73.9695376155795
          ],
          [
           "18D",
           40.78051482955234,
           -73.96842641387924
          ],
          [
           "18E",
           40.7802960985637,
           -73.9678822983274
          ],
          [
           "18F",
           40.77931980204865,
           -73.96674192161315
          ],
          [
           "18G",
           40.7787903177256,
           -73.96562596889326
          ],
          [
           "18H",
           40.77810087351878,
           -73.9645174380008
          ],
          [
           "18I",
           40.77770561247116,
           -73.96388220636314
          ],
          [
           "19A",
           40.78238505830715,
           -73.97061252199438
          ],
          [
           "19B",
           40.781672024526095,
           -73.96985239492247
          ],
          [
           "19C",
           40.781518200729685,
           -73.9688658515763
          ],
          [
           "19D",
           40.78110864219348,
           -73.9682206289627
          ],
          [
           "19E",
           40.78039729321794,
           -73.96684817430051
          ],
          [
           "19F",
           40.77997432877609,
           -73.96554368600098
          ],
          [
           "19G",
           40.7798669859863,
           -73.9649522813412
          ],
          [
           "19H",
           40.779348055191186,
           -73.96442557258139
          ],
          [
           "20A",
           40.78296841120807,
           -73.97053105678454
          ],
          [
           "20B",
           40.78246148617026,
           -73.96939945831944
          ],
          [
           "20C",
           40.782048821917584,
           -73.96801703040484
          ],
          [
           "20D",
           40.78116755764267,
           -73.9672863993635
          ],
          [
           "20E",
           40.78089906687545,
           -73.9660363293049
          ],
          [
           "20F",
           40.78090339167863,
           -73.96524861442182
          ],
          [
           "20G",
           40.78069692323625,
           -73.96457642223014
          ],
          [
           "21A",
           40.783874864601366,
           -73.96984504949268
          ],
          [
           "21B",
           40.783494284617795,
           -73.96900452961565
          ],
          [
           "21C",
           40.7827571537487,
           -73.96757814001532
          ],
          [
           "21D",
           40.7825694554663,
           -73.96701948916345
          ],
          [
           "21E",
           40.78174803427016,
           -73.96533674469909
          ],
          [
           "21F",
           40.78151423583786,
           -73.96466119264907
          ],
          [
           "21G",
           40.781039279975346,
           -73.96390727096465
          ],
          [
           "21H",
           40.78096091647577,
           -73.96271839094209
          ],
          [
           "22A",
           40.78436805670426,
           -73.96921327231203
          ],
          [
           "22B",
           40.7840044348239,
           -73.9684730605109
          ],
          [
           "22C",
           40.78374390349108,
           -73.96721519188229
          ],
          [
           "22D",
           40.783452669708595,
           -73.96617780146231
          ],
          [
           "22E",
           40.78335186700485,
           -73.9656537347749
          ],
          [
           "22F",
           40.782376870042285,
           -73.96439315809697
          ],
          [
           "22G",
           40.781976070543486,
           -73.96329211090764
          ],
          [
           "22H",
           40.781416860372005,
           -73.96239113794937
          ],
          [
           "22I",
           40.781453966960335,
           -73.96114880362252
          ],
          [
           "23A",
           40.78514589825164,
           -73.96881513394332
          ],
          [
           "23B",
           40.78470577517276,
           -73.96787347461591
          ],
          [
           "23C",
           40.784334032997165,
           -73.9665572112328
          ],
          [
           "23D",
           40.7844085550945,
           -73.9661262885099
          ],
          [
           "23E",
           40.7839611840884,
           -73.9647284206644
          ],
          [
           "23F",
           40.783000465857256,
           -73.96385426887906
          ],
          [
           "23H",
           40.7818876867842,
           -73.961335649743
          ],
          [
           "23I",
           40.7819434002362,
           -73.96067097667488
          ],
          [
           "24A",
           40.786129723788754,
           -73.96816869209086
          ],
          [
           "24B",
           40.7854119342538,
           -73.967097592707
          ],
          [
           "24I",
           40.782877291358,
           -73.9600204328201
          ],
          [
           "25A",
           40.78694996314775,
           -73.96746907288896
          ],
          [
           "25B",
           40.7870709137961,
           -73.96683366597486
          ],
          [
           "25I",
           40.78351256971057,
           -73.95954410339039
          ],
          [
           "26A",
           40.78761002027805,
           -73.96720395131103
          ],
          [
           "26B",
           40.7878502338031,
           -73.9662939630722
          ],
          [
           "26I",
           40.78436137646538,
           -73.9592205632608
          ],
          [
           "27A",
           40.78860671483817,
           -73.96653770916066
          ],
          [
           "27B",
           40.788713639930904,
           -73.9657071692485
          ],
          [
           "27I",
           40.785224817625256,
           -73.95843333258416
          ],
          [
           "28A",
           40.7890915919116,
           -73.96622817826012
          ],
          [
           "28B",
           40.78903334643943,
           -73.96501569613919
          ],
          [
           "28C",
           40.78863977320825,
           -73.96418739248942
          ],
          [
           "28D",
           40.78846046904617,
           -73.96275836157619
          ],
          [
           "28I",
           40.7856132322169,
           -73.95814397493935
          ],
          [
           "29A",
           40.790375265725025,
           -73.96516386686406
          ],
          [
           "29B",
           40.78988041728979,
           -73.9640852545293
          ],
          [
           "29C",
           40.789077986635064,
           -73.96336899438012
          ],
          [
           "29D",
           40.78869161941245,
           -73.96241687527207
          ],
          [
           "29H",
           40.7874660243901,
           -73.95764490398855
          ],
          [
           "29I",
           40.7868659490397,
           -73.9576530157255
          ],
          [
           "30A",
           40.7909984242457,
           -73.96475312771186
          ],
          [
           "30B",
           40.79056890599313,
           -73.96383513013818
          ],
          [
           "30C",
           40.790518661706564,
           -73.9627685549499
          ],
          [
           "30D",
           40.789185697591705,
           -73.96142729236536
          ],
          [
           "30E",
           40.7890708653795,
           -73.96077541600746
          ],
          [
           "30F",
           40.7891382153733,
           -73.9597453664295
          ],
          [
           "30H",
           40.787600571388396,
           -73.95735217212732
          ],
          [
           "30I",
           40.78785955130574,
           -73.95682093719518
          ],
          [
           "31A",
           40.79165231927498,
           -73.96393092066019
          ],
          [
           "31B",
           40.79146429437037,
           -73.96314376308086
          ],
          [
           "31C",
           40.79123479124875,
           -73.96234360356218
          ],
          [
           "31D",
           40.790589832407235,
           -73.96111914355863
          ],
          [
           "31E",
           40.78995640698829,
           -73.95998632160601
          ],
          [
           "31F",
           40.7894355339787,
           -73.9591328309902
          ],
          [
           "31G",
           40.7890102959629,
           -73.9578316525492
          ],
          [
           "31H",
           40.78877885426712,
           -73.95727122328032
          ],
          [
           "31I",
           40.78823465892695,
           -73.95620979233703
          ],
          [
           "32A",
           40.7925491849987,
           -73.96342197062678
          ],
          [
           "32B",
           40.79210726449886,
           -73.96284404110199
          ],
          [
           "32C",
           40.791738669507225,
           -73.96155483713233
          ],
          [
           "32D",
           40.79128853012022,
           -73.96061853828573
          ],
          [
           "32E",
           40.790653807969115,
           -73.9594978575269
          ],
          [
           "32F",
           40.79058468334717,
           -73.95845593358445
          ],
          [
           "32G",
           40.79006535604944,
           -73.95756321691599
          ],
          [
           "32H",
           40.7895481953634,
           -73.9563426908892
          ],
          [
           "32I",
           40.78895603501209,
           -73.95535214327725
          ],
          [
           "33A",
           40.79348284695946,
           -73.96297057252292
          ],
          [
           "33B",
           40.792633188162135,
           -73.96176743548371
          ],
          [
           "33C",
           40.792233572268536,
           -73.96150847318539
          ],
          [
           "33D",
           40.791763172778275,
           -73.95972965464992
          ],
          [
           "33E",
           40.7914494347848,
           -73.95892875688992
          ],
          [
           "33F",
           40.79134671899513,
           -73.95838495560663
          ],
          [
           "33G",
           40.79068866201004,
           -73.95651206922892
          ],
          [
           "33H",
           40.7902344345887,
           -73.95657563620111
          ],
          [
           "33I",
           40.78985052743791,
           -73.95466138682707
          ],
          [
           "34A",
           40.794102975543225,
           -73.96245643710076
          ],
          [
           "34B",
           40.79390405592702,
           -73.96119146048548
          ],
          [
           "34C",
           40.79338736550611,
           -73.9603175820717
          ],
          [
           "34D",
           40.79295062049207,
           -73.95935726439383
          ],
          [
           "34E",
           40.79226879788025,
           -73.95827523447329
          ],
          [
           "34F",
           40.791819289760156,
           -73.9581090186636
          ],
          [
           "34G",
           40.7916312666773,
           -73.9560030469263
          ],
          [
           "34H",
           40.791089934938775,
           -73.95521844427077
          ],
          [
           "34I",
           40.790722249724425,
           -73.9545649661888
          ],
          [
           "35A",
           40.79468486542435,
           -73.96173109950955
          ],
          [
           "35B",
           40.794344139886945,
           -73.96123869704098
          ],
          [
           "35C",
           40.79407153321584,
           -73.96011568835796
          ],
          [
           "35D",
           40.79365554548957,
           -73.95881849254454
          ],
          [
           "35E",
           40.793371407928,
           -73.95754175339033
          ],
          [
           "35F",
           40.79312802913162,
           -73.95700239322268
          ],
          [
           "35G",
           40.792209700749034,
           -73.95569009859032
          ],
          [
           "35H",
           40.79201980801715,
           -73.9540826351395
          ],
          [
           "35I",
           40.7917531121825,
           -73.95377703644976
          ],
          [
           "36A",
           40.7954513055006,
           -73.9611836503172
          ],
          [
           "36B",
           40.79540357545048,
           -73.96021106916504
          ],
          [
           "36C",
           40.79483657250959,
           -73.95918280663402
          ],
          [
           "36D",
           40.794251383795434,
           -73.9583067606618
          ],
          [
           "36E",
           40.79373413462846,
           -73.9570129736666
          ],
          [
           "36F",
           40.79367625285504,
           -73.95642252840572
          ],
          [
           "36G",
           40.79319457010325,
           -73.95472550463145
          ],
          [
           "36H",
           40.7928152663948,
           -73.95426033863048
          ],
          [
           "36I",
           40.79225399636533,
           -73.95298460972266
          ],
          [
           "37A",
           40.79627279731547,
           -73.9607942453511
          ],
          [
           "37B",
           40.795950887780045,
           -73.95967139388483
          ],
          [
           "37C",
           40.79558590347163,
           -73.95874571348644
          ],
          [
           "37D",
           40.79512792648552,
           -73.95794333301541
          ],
          [
           "37E",
           40.79477693258622,
           -73.9565779607304
          ],
          [
           "37F",
           40.794295674783996,
           -73.95581761497635
          ],
          [
           "37G",
           40.79407301426009,
           -73.95441057683458
          ],
          [
           "37H",
           40.79337467072594,
           -73.95330455589729
          ],
          [
           "37I",
           40.7930882162407,
           -73.95272042326833
          ],
          [
           "38A",
           40.79725754306366,
           -73.95984819048633
          ],
          [
           "38B",
           40.79684332890903,
           -73.95928270741753
          ],
          [
           "38C",
           40.79623534950602,
           -73.95812128493992
          ],
          [
           "38D",
           40.79596373559954,
           -73.95720078371961
          ],
          [
           "38E",
           40.7954046523545,
           -73.9560837740968
          ],
          [
           "38F",
           40.79490936016011,
           -73.95481544955986
          ],
          [
           "38G",
           40.79452764342616,
           -73.95407475780284
          ],
          [
           "38H",
           40.7939874028809,
           -73.95321675991761
          ],
          [
           "38I",
           40.7936701325243,
           -73.95229224975282
          ],
          [
           "39A",
           40.79798548274452,
           -73.95959442483597
          ],
          [
           "39B",
           40.797842244916815,
           -73.95854512725202
          ],
          [
           "39C",
           40.79730786025644,
           -73.95762162632231
          ],
          [
           "39D",
           40.796745335134574,
           -73.95653888792651
          ],
          [
           "39E",
           40.79636762952123,
           -73.955544087902
          ],
          [
           "39F",
           40.7955539791501,
           -73.95445141665911
          ],
          [
           "39G",
           40.795420207094466,
           -73.9535508871705
          ],
          [
           "39H",
           40.795019009940084,
           -73.95222366667393
          ],
          [
           "39I",
           40.79467199308185,
           -73.95164758559243
          ],
          [
           "40A",
           40.798738851959435,
           -73.95880772394541
          ],
          [
           "40B",
           40.79849757182298,
           -73.95815847921432
          ],
          [
           "40C",
           40.79787474701491,
           -73.95690286067592
          ],
          [
           "40D",
           40.797565593488955,
           -73.95592721680896
          ],
          [
           "40E",
           40.79709414935811,
           -73.95520987462211
          ],
          [
           "40F",
           40.79667049286103,
           -73.95381674124035
          ],
          [
           "40G",
           40.79612674412988,
           -73.95304528923947
          ],
          [
           "40H",
           40.79532111645325,
           -73.951695797289
          ],
          [
           "40I",
           40.79517227818837,
           -73.95088637904043
          ],
          [
           "41A",
           40.79943090611381,
           -73.95836939688697
          ],
          [
           "41B",
           40.79912264810869,
           -73.95756980260396
          ],
          [
           "41C",
           40.79867313253166,
           -73.95655407432201
          ],
          [
           "41D",
           40.79835327376835,
           -73.9554289289254
          ],
          [
           "41E",
           40.798066846954676,
           -73.95425261442624
          ],
          [
           "41F",
           40.797770407998044,
           -73.95316160093404
          ],
          [
           "41G",
           40.7969408799191,
           -73.95208930698685
          ],
          [
           "41I",
           40.7961038534287,
           -73.95032579684467
          ],
          [
           "42A",
           40.7999018485157,
           -73.95798087932474
          ],
          [
           "42B",
           40.79986063067585,
           -73.95721037573915
          ],
          [
           "42C",
           40.79925386139138,
           -73.9563311586736
          ],
          [
           "42D",
           40.79876632062021,
           -73.95481510888511
          ],
          [
           "42E",
           40.798174138157854,
           -73.95389198366279
          ],
          [
           "42F",
           40.79810458369722,
           -73.95299949516891
          ],
          [
           "42G",
           40.79756593320308,
           -73.95183518690156
          ],
          [
           "42H",
           40.797531354164754,
           -73.95063862525764
          ],
          [
           "42I",
           40.79685036873007,
           -73.94990322181397
          ]
         ],
         "hovertemplate": "n_squirrels=%{z}<br>Y=%{customdata[1]}<br>X=%{customdata[2]}<br>Hectare=%{customdata[0]}<extra></extra>",
         "lat": [
          40.76819785240354,
          40.767892285332024,
          40.767560426968906,
          40.76693320252869,
          40.766523734470766,
          40.76618793258239,
          40.76552798091875,
          40.765180097908626,
          40.765115890367596,
          40.76875454350658,
          40.76848163216584,
          40.76790682563448,
          40.76765944019466,
          40.767208426236586,
          40.76678418921693,
          40.766325877214,
          40.765843474013565,
          40.76558955958293,
          40.76960876086769,
          40.76906495463581,
          40.7686746150023,
          40.76837921863991,
          40.768000656419574,
          40.767369222774676,
          40.7672014067052,
          40.76646762572063,
          40.76621404786718,
          40.77056805754038,
          40.76975652458685,
          40.769525213877074,
          40.769019656362076,
          40.768621775034084,
          40.768301619816825,
          40.76774379998931,
          40.76713105857153,
          40.76693151133572,
          40.77122560195377,
          40.77073700607826,
          40.770688902092786,
          40.76988218116219,
          40.769451408125434,
          40.76903088344067,
          40.76860252923496,
          40.7681496989029,
          40.7679166056415,
          40.77185810164765,
          40.77159531610135,
          40.77123489606037,
          40.77053070934789,
          40.77010231056067,
          40.769793838195405,
          40.76931699861656,
          40.76923621985328,
          40.76894760909336,
          40.77270635259198,
          40.7726920740087,
          40.77173256540637,
          40.7720123158535,
          40.77115863935224,
          40.77061058610129,
          40.77023725140886,
          40.7698354924998,
          40.769492920016226,
          40.77347887251088,
          40.77350564332341,
          40.77283639756808,
          40.77259965690535,
          40.77189808749481,
          40.77142661758421,
          40.771405953436,
          40.770418411068,
          40.77028894986332,
          40.77429304014441,
          40.773868376326554,
          40.77332101035957,
          40.772968673090304,
          40.772736128464246,
          40.77220263811856,
          40.77163175416787,
          40.771175392615106,
          40.770932231576886,
          40.77514558653689,
          40.7746046909131,
          40.774282381418104,
          40.7740754333897,
          40.773225808435434,
          40.772532324937586,
          40.77250274368292,
          40.77197679121954,
          40.771867046416176,
          40.77551868132906,
          40.77570942033237,
          40.7752481472025,
          40.77467027914284,
          40.77433911414635,
          40.773744203621185,
          40.77304190429573,
          40.77294773994093,
          40.77249847859465,
          40.776698422834066,
          40.775953660084205,
          40.7758548998671,
          40.77539221085512,
          40.77499323506129,
          40.77437147725566,
          40.774124576180846,
          40.77398759063522,
          40.7734991420941,
          40.77751332655914,
          40.77692091702245,
          40.776305334162856,
          40.77617771996671,
          40.77605370080877,
          40.77555641831734,
          40.77493983603975,
          40.77467329963396,
          40.7742569936186,
          40.77843413758929,
          40.77816767228381,
          40.77744539917324,
          40.777032794355904,
          40.776609256344095,
          40.7763682448723,
          40.775596117725925,
          40.775397567645925,
          40.77513733581957,
          40.77918129535354,
          40.778816849499385,
          40.77844808288831,
          40.77775891138555,
          40.77734118159007,
          40.776895336551235,
          40.776629658004666,
          40.77608023796046,
          40.77598034459011,
          40.77959753800541,
          40.779678669673046,
          40.778899406842086,
          40.778490914080535,
          40.77803699907142,
          40.777545867555105,
          40.77734334250845,
          40.77659844477218,
          40.77663542956742,
          40.78051854205847,
          40.779995228561,
          40.77980844534976,
          40.77935664759776,
          40.77890784463292,
          40.77855568957453,
          40.77801964873544,
          40.7776546465784,
          40.77739063598672,
          40.7811753898727,
          40.78046266400585,
          40.78051482955234,
          40.7802960985637,
          40.77931980204865,
          40.7787903177256,
          40.77810087351878,
          40.77770561247116,
          40.78238505830715,
          40.781672024526095,
          40.781518200729685,
          40.78110864219348,
          40.78039729321794,
          40.77997432877609,
          40.7798669859863,
          40.779348055191186,
          40.78296841120807,
          40.78246148617026,
          40.782048821917584,
          40.78116755764267,
          40.78089906687545,
          40.78090339167863,
          40.78069692323625,
          40.783874864601366,
          40.783494284617795,
          40.7827571537487,
          40.7825694554663,
          40.78174803427016,
          40.78151423583786,
          40.781039279975346,
          40.78096091647577,
          40.78436805670426,
          40.7840044348239,
          40.78374390349108,
          40.783452669708595,
          40.78335186700485,
          40.782376870042285,
          40.781976070543486,
          40.781416860372005,
          40.781453966960335,
          40.78514589825164,
          40.78470577517276,
          40.784334032997165,
          40.7844085550945,
          40.7839611840884,
          40.783000465857256,
          40.7818876867842,
          40.7819434002362,
          40.786129723788754,
          40.7854119342538,
          40.782877291358,
          40.78694996314775,
          40.7870709137961,
          40.78351256971057,
          40.78761002027805,
          40.7878502338031,
          40.78436137646538,
          40.78860671483817,
          40.788713639930904,
          40.785224817625256,
          40.7890915919116,
          40.78903334643943,
          40.78863977320825,
          40.78846046904617,
          40.7856132322169,
          40.790375265725025,
          40.78988041728979,
          40.789077986635064,
          40.78869161941245,
          40.7874660243901,
          40.7868659490397,
          40.7909984242457,
          40.79056890599313,
          40.790518661706564,
          40.789185697591705,
          40.7890708653795,
          40.7891382153733,
          40.787600571388396,
          40.78785955130574,
          40.79165231927498,
          40.79146429437037,
          40.79123479124875,
          40.790589832407235,
          40.78995640698829,
          40.7894355339787,
          40.7890102959629,
          40.78877885426712,
          40.78823465892695,
          40.7925491849987,
          40.79210726449886,
          40.791738669507225,
          40.79128853012022,
          40.790653807969115,
          40.79058468334717,
          40.79006535604944,
          40.7895481953634,
          40.78895603501209,
          40.79348284695946,
          40.792633188162135,
          40.792233572268536,
          40.791763172778275,
          40.7914494347848,
          40.79134671899513,
          40.79068866201004,
          40.7902344345887,
          40.78985052743791,
          40.794102975543225,
          40.79390405592702,
          40.79338736550611,
          40.79295062049207,
          40.79226879788025,
          40.791819289760156,
          40.7916312666773,
          40.791089934938775,
          40.790722249724425,
          40.79468486542435,
          40.794344139886945,
          40.79407153321584,
          40.79365554548957,
          40.793371407928,
          40.79312802913162,
          40.792209700749034,
          40.79201980801715,
          40.7917531121825,
          40.7954513055006,
          40.79540357545048,
          40.79483657250959,
          40.794251383795434,
          40.79373413462846,
          40.79367625285504,
          40.79319457010325,
          40.7928152663948,
          40.79225399636533,
          40.79627279731547,
          40.795950887780045,
          40.79558590347163,
          40.79512792648552,
          40.79477693258622,
          40.794295674783996,
          40.79407301426009,
          40.79337467072594,
          40.7930882162407,
          40.79725754306366,
          40.79684332890903,
          40.79623534950602,
          40.79596373559954,
          40.7954046523545,
          40.79490936016011,
          40.79452764342616,
          40.7939874028809,
          40.7936701325243,
          40.79798548274452,
          40.797842244916815,
          40.79730786025644,
          40.796745335134574,
          40.79636762952123,
          40.7955539791501,
          40.795420207094466,
          40.795019009940084,
          40.79467199308185,
          40.798738851959435,
          40.79849757182298,
          40.79787474701491,
          40.797565593488955,
          40.79709414935811,
          40.79667049286103,
          40.79612674412988,
          40.79532111645325,
          40.79517227818837,
          40.79943090611381,
          40.79912264810869,
          40.79867313253166,
          40.79835327376835,
          40.798066846954676,
          40.797770407998044,
          40.7969408799191,
          40.7961038534287,
          40.7999018485157,
          40.79986063067585,
          40.79925386139138,
          40.79876632062021,
          40.798174138157854,
          40.79810458369722,
          40.79756593320308,
          40.797531354164754,
          40.79685036873007
         ],
         "lon": [
          -73.98088744823467,
          -73.98024065593678,
          -73.97939536272962,
          -73.97821484209649,
          -73.9773615892424,
          -73.97653674404333,
          -73.97488875851191,
          -73.97390356981252,
          -73.97319669920165,
          -73.98083267466777,
          -73.97987272956527,
          -73.97895125787106,
          -73.97781360536642,
          -73.9768744656974,
          -73.97541150543326,
          -73.97481210551497,
          -73.97329625563798,
          -73.97260682244162,
          -73.9800797763451,
          -73.97903070841501,
          -73.97835249084625,
          -73.97726726146382,
          -73.97599657940674,
          -73.97500962826595,
          -73.97420804957211,
          -73.97285135669587,
          -73.97212987921809,
          -73.97963290537524,
          -73.97878028343271,
          -73.97746326572114,
          -73.97650982663056,
          -73.97559452338008,
          -73.97472390591845,
          -73.97350704515286,
          -73.97276590165234,
          -73.97170483677071,
          -73.97896960482069,
          -73.97779015332331,
          -73.9768171760359,
          -73.97590707085818,
          -73.9750576657539,
          -73.97395311763584,
          -73.97341736233625,
          -73.9725669210177,
          -73.97084525600863,
          -73.97845874651095,
          -73.97696299503431,
          -73.97665123224407,
          -73.97558396210835,
          -73.97459743714253,
          -73.9731793033933,
          -73.97225423475632,
          -73.97131887761306,
          -73.97031985684156,
          -73.97798402805992,
          -73.97709729673713,
          -73.97610237688157,
          -73.97489847130805,
          -73.97371687222643,
          -73.97280041401687,
          -73.97195245881979,
          -73.97066695551831,
          -73.96988797925474,
          -73.97701650984328,
          -73.97641800035885,
          -73.97514065884704,
          -73.97388532296672,
          -73.9735201062304,
          -73.9724381043121,
          -73.97137361570715,
          -73.97010495619358,
          -73.96932655738978,
          -73.97668594122702,
          -73.97588770045081,
          -73.9749204315794,
          -73.9741614885128,
          -73.97272194170036,
          -73.97166731435017,
          -73.97085955909104,
          -73.96960333037858,
          -73.96882576168342,
          -73.97625837564067,
          -73.97514003924998,
          -73.97453108836287,
          -73.97314018464716,
          -73.97197398504923,
          -73.97092898893106,
          -73.97042939648938,
          -73.9690606963677,
          -73.96818248665504,
          -73.97571403171109,
          -73.97458930953304,
          -73.9741621946917,
          -73.97231083632983,
          -73.97147993866199,
          -73.97037125663878,
          -73.969425367944,
          -73.96839132820459,
          -73.9680151811654,
          -73.97463335071619,
          -73.97417737482446,
          -73.97273388950657,
          -73.97189486446882,
          -73.97125381820773,
          -73.96984736593565,
          -73.96903289555594,
          -73.96791699556752,
          -73.9670628558161,
          -73.97452113717964,
          -73.97405967885065,
          -73.97207327613457,
          -73.9714215517171,
          -73.97047814507197,
          -73.96957183826223,
          -73.96835562534407,
          -73.96760363023013,
          -73.9661785940531,
          -73.97363832683413,
          -73.97298359876719,
          -73.97147969981397,
          -73.9709571483404,
          -73.96986098032023,
          -73.96896086026557,
          -73.96787130873628,
          -73.96673551655856,
          -73.96577242166438,
          -73.97294243192077,
          -73.97249159711977,
          -73.9711719456888,
          -73.97034195632207,
          -73.96936712299187,
          -73.96848446924707,
          -73.96744765074523,
          -73.96608483864233,
          -73.96519426665601,
          -73.97271497167031,
          -73.97166321653398,
          -73.97078288769401,
          -73.96988990293133,
          -73.96852154734138,
          -73.9675639641515,
          -73.96681408355207,
          -73.96571660254911,
          -73.96475744234517,
          -73.97202851272615,
          -73.97115810758793,
          -73.97045505708381,
          -73.96947960704529,
          -73.96779782801438,
          -73.9673412916161,
          -73.9662460239202,
          -73.96524992304279,
          -73.96428751337072,
          -73.97179471855026,
          -73.9695376155795,
          -73.96842641387924,
          -73.9678822983274,
          -73.96674192161315,
          -73.96562596889326,
          -73.9645174380008,
          -73.96388220636314,
          -73.97061252199438,
          -73.96985239492247,
          -73.9688658515763,
          -73.9682206289627,
          -73.96684817430051,
          -73.96554368600098,
          -73.9649522813412,
          -73.96442557258139,
          -73.97053105678454,
          -73.96939945831944,
          -73.96801703040484,
          -73.9672863993635,
          -73.9660363293049,
          -73.96524861442182,
          -73.96457642223014,
          -73.96984504949268,
          -73.96900452961565,
          -73.96757814001532,
          -73.96701948916345,
          -73.96533674469909,
          -73.96466119264907,
          -73.96390727096465,
          -73.96271839094209,
          -73.96921327231203,
          -73.9684730605109,
          -73.96721519188229,
          -73.96617780146231,
          -73.9656537347749,
          -73.96439315809697,
          -73.96329211090764,
          -73.96239113794937,
          -73.96114880362252,
          -73.96881513394332,
          -73.96787347461591,
          -73.9665572112328,
          -73.9661262885099,
          -73.9647284206644,
          -73.96385426887906,
          -73.961335649743,
          -73.96067097667488,
          -73.96816869209086,
          -73.967097592707,
          -73.9600204328201,
          -73.96746907288896,
          -73.96683366597486,
          -73.95954410339039,
          -73.96720395131103,
          -73.9662939630722,
          -73.9592205632608,
          -73.96653770916066,
          -73.9657071692485,
          -73.95843333258416,
          -73.96622817826012,
          -73.96501569613919,
          -73.96418739248942,
          -73.96275836157619,
          -73.95814397493935,
          -73.96516386686406,
          -73.9640852545293,
          -73.96336899438012,
          -73.96241687527207,
          -73.95764490398855,
          -73.9576530157255,
          -73.96475312771186,
          -73.96383513013818,
          -73.9627685549499,
          -73.96142729236536,
          -73.96077541600746,
          -73.9597453664295,
          -73.95735217212732,
          -73.95682093719518,
          -73.96393092066019,
          -73.96314376308086,
          -73.96234360356218,
          -73.96111914355863,
          -73.95998632160601,
          -73.9591328309902,
          -73.9578316525492,
          -73.95727122328032,
          -73.95620979233703,
          -73.96342197062678,
          -73.96284404110199,
          -73.96155483713233,
          -73.96061853828573,
          -73.9594978575269,
          -73.95845593358445,
          -73.95756321691599,
          -73.9563426908892,
          -73.95535214327725,
          -73.96297057252292,
          -73.96176743548371,
          -73.96150847318539,
          -73.95972965464992,
          -73.95892875688992,
          -73.95838495560663,
          -73.95651206922892,
          -73.95657563620111,
          -73.95466138682707,
          -73.96245643710076,
          -73.96119146048548,
          -73.9603175820717,
          -73.95935726439383,
          -73.95827523447329,
          -73.9581090186636,
          -73.9560030469263,
          -73.95521844427077,
          -73.9545649661888,
          -73.96173109950955,
          -73.96123869704098,
          -73.96011568835796,
          -73.95881849254454,
          -73.95754175339033,
          -73.95700239322268,
          -73.95569009859032,
          -73.9540826351395,
          -73.95377703644976,
          -73.9611836503172,
          -73.96021106916504,
          -73.95918280663402,
          -73.9583067606618,
          -73.9570129736666,
          -73.95642252840572,
          -73.95472550463145,
          -73.95426033863048,
          -73.95298460972266,
          -73.9607942453511,
          -73.95967139388483,
          -73.95874571348644,
          -73.95794333301541,
          -73.9565779607304,
          -73.95581761497635,
          -73.95441057683458,
          -73.95330455589729,
          -73.95272042326833,
          -73.95984819048633,
          -73.95928270741753,
          -73.95812128493992,
          -73.95720078371961,
          -73.9560837740968,
          -73.95481544955986,
          -73.95407475780284,
          -73.95321675991761,
          -73.95229224975282,
          -73.95959442483597,
          -73.95854512725202,
          -73.95762162632231,
          -73.95653888792651,
          -73.955544087902,
          -73.95445141665911,
          -73.9535508871705,
          -73.95222366667393,
          -73.95164758559243,
          -73.95880772394541,
          -73.95815847921432,
          -73.95690286067592,
          -73.95592721680896,
          -73.95520987462211,
          -73.95381674124035,
          -73.95304528923947,
          -73.951695797289,
          -73.95088637904043,
          -73.95836939688697,
          -73.95756980260396,
          -73.95655407432201,
          -73.9554289289254,
          -73.95425261442624,
          -73.95316160093404,
          -73.95208930698685,
          -73.95032579684467,
          -73.95798087932474,
          -73.95721037573915,
          -73.9563311586736,
          -73.95481510888511,
          -73.95389198366279,
          -73.95299949516891,
          -73.95183518690156,
          -73.95063862525764,
          -73.94990322181397
         ],
         "name": "",
         "radius": 12,
         "subplot": "mapbox",
         "type": "densitymapbox",
         "z": [
          11,
          27,
          12,
          16,
          8,
          8,
          7,
          4,
          4,
          15,
          17,
          21,
          8,
          12,
          17,
          7,
          6,
          4,
          11,
          21,
          4,
          22,
          17,
          21,
          6,
          13,
          13,
          11,
          11,
          22,
          18,
          12,
          4,
          6,
          6,
          6,
          9,
          10,
          20,
          11,
          16,
          12,
          6,
          1,
          8,
          15,
          9,
          12,
          10,
          6,
          7,
          10,
          5,
          8,
          5,
          15,
          9,
          2,
          11,
          20,
          16,
          26,
          8,
          9,
          18,
          10,
          12,
          10,
          8,
          2,
          15,
          21,
          16,
          19,
          10,
          4,
          7,
          12,
          10,
          15,
          16,
          8,
          9,
          8,
          6,
          3,
          15,
          21,
          8,
          5,
          5,
          13,
          1,
          13,
          11,
          6,
          3,
          13,
          9,
          6,
          3,
          4,
          5,
          14,
          21,
          12,
          8,
          1,
          9,
          2,
          9,
          25,
          24,
          9,
          4,
          10,
          1,
          10,
          11,
          3,
          32,
          28,
          15,
          5,
          12,
          7,
          3,
          8,
          8,
          14,
          15,
          17,
          18,
          10,
          13,
          9,
          4,
          7,
          19,
          20,
          9,
          6,
          6,
          4,
          4,
          6,
          5,
          7,
          14,
          13,
          5,
          2,
          5,
          3,
          11,
          5,
          1,
          4,
          7,
          5,
          12,
          6,
          7,
          8,
          5,
          5,
          10,
          3,
          6,
          3,
          13,
          9,
          3,
          2,
          17,
          6,
          9,
          12,
          6,
          12,
          5,
          11,
          11,
          6,
          9,
          12,
          16,
          7,
          2,
          15,
          8,
          4,
          3,
          5,
          7,
          5,
          1,
          1,
          5,
          1,
          4,
          7,
          1,
          1,
          6,
          2,
          11,
          8,
          1,
          8,
          3,
          2,
          9,
          6,
          3,
          4,
          8,
          2,
          4,
          7,
          8,
          8,
          2,
          1,
          5,
          21,
          3,
          2,
          4,
          1,
          4,
          7,
          9,
          7,
          4,
          11,
          10,
          6,
          1,
          5,
          4,
          14,
          10,
          19,
          15,
          30,
          15,
          5,
          4,
          9,
          5,
          18,
          6,
          12,
          22,
          8,
          5,
          2,
          14,
          8,
          4,
          6,
          6,
          2,
          2,
          2,
          8,
          11,
          20,
          11,
          14,
          11,
          11,
          4,
          3,
          2,
          3,
          11,
          9,
          10,
          3,
          5,
          12,
          2,
          4,
          21,
          3,
          11,
          9,
          10,
          14,
          4,
          15,
          10,
          7,
          10,
          7,
          21,
          10,
          17,
          12,
          11,
          2,
          6,
          4,
          7,
          8,
          10,
          7,
          9,
          9,
          7,
          4,
          10,
          17,
          15,
          14,
          7,
          3,
          8,
          2,
          3,
          7,
          16,
          11,
          10,
          11,
          2,
          2,
          3,
          2,
          2,
          10,
          7,
          6,
          6,
          6,
          7,
          3
         ]
        }
       ],
       "layout": {
        "coloraxis": {
         "colorbar": {
          "title": {
           "text": "n_squirrels"
          }
         },
         "colorscale": [
          [
           0,
           "#0d0887"
          ],
          [
           0.1111111111111111,
           "#46039f"
          ],
          [
           0.2222222222222222,
           "#7201a8"
          ],
          [
           0.3333333333333333,
           "#9c179e"
          ],
          [
           0.4444444444444444,
           "#bd3786"
          ],
          [
           0.5555555555555556,
           "#d8576b"
          ],
          [
           0.6666666666666666,
           "#ed7953"
          ],
          [
           0.7777777777777778,
           "#fb9f3a"
          ],
          [
           0.8888888888888888,
           "#fdca26"
          ],
          [
           1,
           "#f0f921"
          ]
         ]
        },
        "legend": {
         "tracegroupgap": 0
        },
        "mapbox": {
         "center": {
          "lat": 40.782175,
          "lon": -73.965957
         },
         "domain": {
          "x": [
           0,
           1
          ],
          "y": [
           0,
           1
          ]
         },
         "style": "stamen-terrain",
         "zoom": 12
        },
        "margin": {
         "t": 60
        },
        "template": {
         "data": {
          "bar": [
           {
            "error_x": {
             "color": "#2a3f5f"
            },
            "error_y": {
             "color": "#2a3f5f"
            },
            "marker": {
             "line": {
              "color": "#E5ECF6",
              "width": 0.5
             },
             "pattern": {
              "fillmode": "overlay",
              "size": 10,
              "solidity": 0.2
             }
            },
            "type": "bar"
           }
          ],
          "barpolar": [
           {
            "marker": {
             "line": {
              "color": "#E5ECF6",
              "width": 0.5
             },
             "pattern": {
              "fillmode": "overlay",
              "size": 10,
              "solidity": 0.2
             }
            },
            "type": "barpolar"
           }
          ],
          "carpet": [
           {
            "aaxis": {
             "endlinecolor": "#2a3f5f",
             "gridcolor": "white",
             "linecolor": "white",
             "minorgridcolor": "white",
             "startlinecolor": "#2a3f5f"
            },
            "baxis": {
             "endlinecolor": "#2a3f5f",
             "gridcolor": "white",
             "linecolor": "white",
             "minorgridcolor": "white",
             "startlinecolor": "#2a3f5f"
            },
            "type": "carpet"
           }
          ],
          "choropleth": [
           {
            "colorbar": {
             "outlinewidth": 0,
             "ticks": ""
            },
            "type": "choropleth"
           }
          ],
          "contour": [
           {
            "colorbar": {
             "outlinewidth": 0,
             "ticks": ""
            },
            "colorscale": [
             [
              0,
              "#0d0887"
             ],
             [
              0.1111111111111111,
              "#46039f"
             ],
             [
              0.2222222222222222,
              "#7201a8"
             ],
             [
              0.3333333333333333,
              "#9c179e"
             ],
             [
              0.4444444444444444,
              "#bd3786"
             ],
             [
              0.5555555555555556,
              "#d8576b"
             ],
             [
              0.6666666666666666,
              "#ed7953"
             ],
             [
              0.7777777777777778,
              "#fb9f3a"
             ],
             [
              0.8888888888888888,
              "#fdca26"
             ],
             [
              1,
              "#f0f921"
             ]
            ],
            "type": "contour"
           }
          ],
          "contourcarpet": [
           {
            "colorbar": {
             "outlinewidth": 0,
             "ticks": ""
            },
            "type": "contourcarpet"
           }
          ],
          "heatmap": [
           {
            "colorbar": {
             "outlinewidth": 0,
             "ticks": ""
            },
            "colorscale": [
             [
              0,
              "#0d0887"
             ],
             [
              0.1111111111111111,
              "#46039f"
             ],
             [
              0.2222222222222222,
              "#7201a8"
             ],
             [
              0.3333333333333333,
              "#9c179e"
             ],
             [
              0.4444444444444444,
              "#bd3786"
             ],
             [
              0.5555555555555556,
              "#d8576b"
             ],
             [
              0.6666666666666666,
              "#ed7953"
             ],
             [
              0.7777777777777778,
              "#fb9f3a"
             ],
             [
              0.8888888888888888,
              "#fdca26"
             ],
             [
              1,
              "#f0f921"
             ]
            ],
            "type": "heatmap"
           }
          ],
          "heatmapgl": [
           {
            "colorbar": {
             "outlinewidth": 0,
             "ticks": ""
            },
            "colorscale": [
             [
              0,
              "#0d0887"
             ],
             [
              0.1111111111111111,
              "#46039f"
             ],
             [
              0.2222222222222222,
              "#7201a8"
             ],
             [
              0.3333333333333333,
              "#9c179e"
             ],
             [
              0.4444444444444444,
              "#bd3786"
             ],
             [
              0.5555555555555556,
              "#d8576b"
             ],
             [
              0.6666666666666666,
              "#ed7953"
             ],
             [
              0.7777777777777778,
              "#fb9f3a"
             ],
             [
              0.8888888888888888,
              "#fdca26"
             ],
             [
              1,
              "#f0f921"
             ]
            ],
            "type": "heatmapgl"
           }
          ],
          "histogram": [
           {
            "marker": {
             "pattern": {
              "fillmode": "overlay",
              "size": 10,
              "solidity": 0.2
             }
            },
            "type": "histogram"
           }
          ],
          "histogram2d": [
           {
            "colorbar": {
             "outlinewidth": 0,
             "ticks": ""
            },
            "colorscale": [
             [
              0,
              "#0d0887"
             ],
             [
              0.1111111111111111,
              "#46039f"
             ],
             [
              0.2222222222222222,
              "#7201a8"
             ],
             [
              0.3333333333333333,
              "#9c179e"
             ],
             [
              0.4444444444444444,
              "#bd3786"
             ],
             [
              0.5555555555555556,
              "#d8576b"
             ],
             [
              0.6666666666666666,
              "#ed7953"
             ],
             [
              0.7777777777777778,
              "#fb9f3a"
             ],
             [
              0.8888888888888888,
              "#fdca26"
             ],
             [
              1,
              "#f0f921"
             ]
            ],
            "type": "histogram2d"
           }
          ],
          "histogram2dcontour": [
           {
            "colorbar": {
             "outlinewidth": 0,
             "ticks": ""
            },
            "colorscale": [
             [
              0,
              "#0d0887"
             ],
             [
              0.1111111111111111,
              "#46039f"
             ],
             [
              0.2222222222222222,
              "#7201a8"
             ],
             [
              0.3333333333333333,
              "#9c179e"
             ],
             [
              0.4444444444444444,
              "#bd3786"
             ],
             [
              0.5555555555555556,
              "#d8576b"
             ],
             [
              0.6666666666666666,
              "#ed7953"
             ],
             [
              0.7777777777777778,
              "#fb9f3a"
             ],
             [
              0.8888888888888888,
              "#fdca26"
             ],
             [
              1,
              "#f0f921"
             ]
            ],
            "type": "histogram2dcontour"
           }
          ],
          "mesh3d": [
           {
            "colorbar": {
             "outlinewidth": 0,
             "ticks": ""
            },
            "type": "mesh3d"
           }
          ],
          "parcoords": [
           {
            "line": {
             "colorbar": {
              "outlinewidth": 0,
              "ticks": ""
             }
            },
            "type": "parcoords"
           }
          ],
          "pie": [
           {
            "automargin": true,
            "type": "pie"
           }
          ],
          "scatter": [
           {
            "marker": {
             "colorbar": {
              "outlinewidth": 0,
              "ticks": ""
             }
            },
            "type": "scatter"
           }
          ],
          "scatter3d": [
           {
            "line": {
             "colorbar": {
              "outlinewidth": 0,
              "ticks": ""
             }
            },
            "marker": {
             "colorbar": {
              "outlinewidth": 0,
              "ticks": ""
             }
            },
            "type": "scatter3d"
           }
          ],
          "scattercarpet": [
           {
            "marker": {
             "colorbar": {
              "outlinewidth": 0,
              "ticks": ""
             }
            },
            "type": "scattercarpet"
           }
          ],
          "scattergeo": [
           {
            "marker": {
             "colorbar": {
              "outlinewidth": 0,
              "ticks": ""
             }
            },
            "type": "scattergeo"
           }
          ],
          "scattergl": [
           {
            "marker": {
             "colorbar": {
              "outlinewidth": 0,
              "ticks": ""
             }
            },
            "type": "scattergl"
           }
          ],
          "scattermapbox": [
           {
            "marker": {
             "colorbar": {
              "outlinewidth": 0,
              "ticks": ""
             }
            },
            "type": "scattermapbox"
           }
          ],
          "scatterpolar": [
           {
            "marker": {
             "colorbar": {
              "outlinewidth": 0,
              "ticks": ""
             }
            },
            "type": "scatterpolar"
           }
          ],
          "scatterpolargl": [
           {
            "marker": {
             "colorbar": {
              "outlinewidth": 0,
              "ticks": ""
             }
            },
            "type": "scatterpolargl"
           }
          ],
          "scatterternary": [
           {
            "marker": {
             "colorbar": {
              "outlinewidth": 0,
              "ticks": ""
             }
            },
            "type": "scatterternary"
           }
          ],
          "surface": [
           {
            "colorbar": {
             "outlinewidth": 0,
             "ticks": ""
            },
            "colorscale": [
             [
              0,
              "#0d0887"
             ],
             [
              0.1111111111111111,
              "#46039f"
             ],
             [
              0.2222222222222222,
              "#7201a8"
             ],
             [
              0.3333333333333333,
              "#9c179e"
             ],
             [
              0.4444444444444444,
              "#bd3786"
             ],
             [
              0.5555555555555556,
              "#d8576b"
             ],
             [
              0.6666666666666666,
              "#ed7953"
             ],
             [
              0.7777777777777778,
              "#fb9f3a"
             ],
             [
              0.8888888888888888,
              "#fdca26"
             ],
             [
              1,
              "#f0f921"
             ]
            ],
            "type": "surface"
           }
          ],
          "table": [
           {
            "cells": {
             "fill": {
              "color": "#EBF0F8"
             },
             "line": {
              "color": "white"
             }
            },
            "header": {
             "fill": {
              "color": "#C8D4E3"
             },
             "line": {
              "color": "white"
             }
            },
            "type": "table"
           }
          ]
         },
         "layout": {
          "annotationdefaults": {
           "arrowcolor": "#2a3f5f",
           "arrowhead": 0,
           "arrowwidth": 1
          },
          "autotypenumbers": "strict",
          "coloraxis": {
           "colorbar": {
            "outlinewidth": 0,
            "ticks": ""
           }
          },
          "colorscale": {
           "diverging": [
            [
             0,
             "#8e0152"
            ],
            [
             0.1,
             "#c51b7d"
            ],
            [
             0.2,
             "#de77ae"
            ],
            [
             0.3,
             "#f1b6da"
            ],
            [
             0.4,
             "#fde0ef"
            ],
            [
             0.5,
             "#f7f7f7"
            ],
            [
             0.6,
             "#e6f5d0"
            ],
            [
             0.7,
             "#b8e186"
            ],
            [
             0.8,
             "#7fbc41"
            ],
            [
             0.9,
             "#4d9221"
            ],
            [
             1,
             "#276419"
            ]
           ],
           "sequential": [
            [
             0,
             "#0d0887"
            ],
            [
             0.1111111111111111,
             "#46039f"
            ],
            [
             0.2222222222222222,
             "#7201a8"
            ],
            [
             0.3333333333333333,
             "#9c179e"
            ],
            [
             0.4444444444444444,
             "#bd3786"
            ],
            [
             0.5555555555555556,
             "#d8576b"
            ],
            [
             0.6666666666666666,
             "#ed7953"
            ],
            [
             0.7777777777777778,
             "#fb9f3a"
            ],
            [
             0.8888888888888888,
             "#fdca26"
            ],
            [
             1,
             "#f0f921"
            ]
           ],
           "sequentialminus": [
            [
             0,
             "#0d0887"
            ],
            [
             0.1111111111111111,
             "#46039f"
            ],
            [
             0.2222222222222222,
             "#7201a8"
            ],
            [
             0.3333333333333333,
             "#9c179e"
            ],
            [
             0.4444444444444444,
             "#bd3786"
            ],
            [
             0.5555555555555556,
             "#d8576b"
            ],
            [
             0.6666666666666666,
             "#ed7953"
            ],
            [
             0.7777777777777778,
             "#fb9f3a"
            ],
            [
             0.8888888888888888,
             "#fdca26"
            ],
            [
             1,
             "#f0f921"
            ]
           ]
          },
          "colorway": [
           "#636efa",
           "#EF553B",
           "#00cc96",
           "#ab63fa",
           "#FFA15A",
           "#19d3f3",
           "#FF6692",
           "#B6E880",
           "#FF97FF",
           "#FECB52"
          ],
          "font": {
           "color": "#2a3f5f"
          },
          "geo": {
           "bgcolor": "white",
           "lakecolor": "white",
           "landcolor": "#E5ECF6",
           "showlakes": true,
           "showland": true,
           "subunitcolor": "white"
          },
          "hoverlabel": {
           "align": "left"
          },
          "hovermode": "closest",
          "mapbox": {
           "style": "light"
          },
          "paper_bgcolor": "white",
          "plot_bgcolor": "#E5ECF6",
          "polar": {
           "angularaxis": {
            "gridcolor": "white",
            "linecolor": "white",
            "ticks": ""
           },
           "bgcolor": "#E5ECF6",
           "radialaxis": {
            "gridcolor": "white",
            "linecolor": "white",
            "ticks": ""
           }
          },
          "scene": {
           "xaxis": {
            "backgroundcolor": "#E5ECF6",
            "gridcolor": "white",
            "gridwidth": 2,
            "linecolor": "white",
            "showbackground": true,
            "ticks": "",
            "zerolinecolor": "white"
           },
           "yaxis": {
            "backgroundcolor": "#E5ECF6",
            "gridcolor": "white",
            "gridwidth": 2,
            "linecolor": "white",
            "showbackground": true,
            "ticks": "",
            "zerolinecolor": "white"
           },
           "zaxis": {
            "backgroundcolor": "#E5ECF6",
            "gridcolor": "white",
            "gridwidth": 2,
            "linecolor": "white",
            "showbackground": true,
            "ticks": "",
            "zerolinecolor": "white"
           }
          },
          "shapedefaults": {
           "line": {
            "color": "#2a3f5f"
           }
          },
          "ternary": {
           "aaxis": {
            "gridcolor": "white",
            "linecolor": "white",
            "ticks": ""
           },
           "baxis": {
            "gridcolor": "white",
            "linecolor": "white",
            "ticks": ""
           },
           "bgcolor": "#E5ECF6",
           "caxis": {
            "gridcolor": "white",
            "linecolor": "white",
            "ticks": ""
           }
          },
          "title": {
           "x": 0.05
          },
          "xaxis": {
           "automargin": true,
           "gridcolor": "white",
           "linecolor": "white",
           "ticks": "",
           "title": {
            "standoff": 15
           },
           "zerolinecolor": "white",
           "zerolinewidth": 2
          },
          "yaxis": {
           "automargin": true,
           "gridcolor": "white",
           "linecolor": "white",
           "ticks": "",
           "title": {
            "standoff": 15
           },
           "zerolinecolor": "white",
           "zerolinewidth": 2
          }
         }
        }
       }
      }
     },
     "metadata": {},
     "output_type": "display_data"
    }
   ],
   "source": [
    "fig.show()"
   ]
  },
  {
   "cell_type": "code",
   "execution_count": 25,
   "metadata": {},
   "outputs": [
    {
     "data": {
      "image/png": "[encoded data removed]",
      "text/plain": [
       "<Figure size 720x720 with 1 Axes>"
      ]
     },
     "metadata": {
      "needs_background": "light"
     },
     "output_type": "display_data"
    },
    {
     "data": {
      "text/plain": [
       "<Figure size 720x576 with 0 Axes>"
      ]
     },
     "metadata": {},
     "output_type": "display_data"
    }
   ],
   "source": [
    "plt.figure(figsize=(10,10))\n",
    "ax = plt.axes()\n",
    "sns.scatterplot(data = df,\n",
    "                x = 'X',y = 'Y',hue = 'Primary Fur Color',\n",
    "                s = 30, style='Primary Fur Color',\n",
    "                palette=['gray','brown','black'])\n",
    "plt.figure(figsize=(10,8))\n",
    "ax.set_title('Real Distribution of Squirrel in the Park', fontsize='15',color='black')\n",
    "plt.show()\n",
    "plt.close()\n"
   ]
  },
  {
   "cell_type": "code",
   "execution_count": 26,
   "metadata": {},
   "outputs": [
    {
     "data": {
      "text/plain": [
       "Location\n",
       "Above Ground     843\n",
       "Ground Plane    2116\n",
       "dtype: int64"
      ]
     },
     "execution_count": 26,
     "metadata": {},
     "output_type": "execute_result"
    }
   ],
   "source": [
    "df.groupby('Location' ).size()"
   ]
  },
  {
   "cell_type": "markdown",
   "metadata": {},
   "source": [
    "### Squirrels no jokin'. We suspect there are organized squirrel gangs (maybe dealing with nuts), can you confirm/deny this?"
   ]
  },
  {
   "cell_type": "markdown",
   "metadata": {},
   "source": [
    "I can't tell if they are gangs or a union, but the gray squirrels are the top dogs in the park (doing a google research they usually are the most common urban squirrel), in the plot above you guys can see how overwellming is their domain among the black and cinnamon. \n",
    "\n",
    "The cinammon ones are grouped in clusters or small groups while the black ones (less common) are spotted in single different spots.\n",
    "\n",
    "We may assume that the high density spots have resources (food,water)  while the spots with a small o null squirrels are zones destinate to play sports\n",
    "\n",
    "With the \"chesstype plot\" between hectare 23 and 30 we see the lack of squirrel presence (THERE IS A HUGE LAKE)"
   ]
  },
  {
   "cell_type": "markdown",
   "metadata": {},
   "source": [
    "### Does The activities vary by fur color or by age? "
   ]
  },
  {
   "cell_type": "code",
   "execution_count": 27,
   "metadata": {},
   "outputs": [
    {
     "name": "stderr",
     "output_type": "stream",
     "text": [
      "C:\\Users\\raperez\\AppData\\Local\\Temp\\ipykernel_12232\\1011028989.py:1: FutureWarning:\n",
      "\n",
      "Indexing with multiple keys (implicitly converted to a tuple of keys) will be deprecated, use a list instead.\n",
      "\n",
      "C:\\Users\\raperez\\AppData\\Local\\Temp\\ipykernel_12232\\1011028989.py:5: FutureWarning:\n",
      "\n",
      "Indexing with multiple keys (implicitly converted to a tuple of keys) will be deprecated, use a list instead.\n",
      "\n"
     ]
    }
   ],
   "source": [
    "age_activity = df.groupby('Age',as_index = True)['Running', 'Chasing', 'Climbing', 'Eating',\n",
    "       'Foraging'].sum()\n",
    "age_activity.reset_index(inplace=True)\n",
    "\n",
    "fur_activity = df.groupby('Primary Fur Color',as_index = True)['Running', 'Chasing', 'Climbing', 'Eating',\n",
    "       'Foraging'].sum()\n",
    "fur_activity.reset_index(inplace=True)\n"
   ]
  },
  {
   "cell_type": "code",
   "execution_count": 28,
   "metadata": {},
   "outputs": [],
   "source": [
    "plot_activitie_age = pd.melt(age_activity,id_vars='Age',value_vars = ['Running', 'Chasing', 'Climbing', 'Eating',\n",
    "       'Foraging'] )\n",
    "\n",
    "plot_activitie_fur = pd.melt(fur_activity,id_vars= 'Primary Fur Color',value_vars = ['Running', 'Chasing', 'Climbing', 'Eating',\n",
    "       'Foraging'] )\n",
    "\n"
   ]
  },
  {
   "cell_type": "code",
   "execution_count": 29,
   "metadata": {},
   "outputs": [],
   "source": [
    "fur_n_squirrels_dict = dict(zip(df.groupby('Primary Fur Color').size().index,df.groupby('Primary Fur Color').size().values))\n",
    "age_n_squirrels_dict = dict(zip(df.groupby('Age').size().index,df.groupby('Age').size().values))\n"
   ]
  },
  {
   "cell_type": "code",
   "execution_count": 30,
   "metadata": {},
   "outputs": [
    {
     "data": {
      "text/plain": [
       "{'Black': 103, 'Cinnamon': 392, 'Gray': 2473}"
      ]
     },
     "execution_count": 30,
     "metadata": {},
     "output_type": "execute_result"
    }
   ],
   "source": [
    "fur_n_squirrels_dict"
   ]
  },
  {
   "cell_type": "code",
   "execution_count": 31,
   "metadata": {},
   "outputs": [],
   "source": [
    "plot_activitie_fur['pct'] = plot_activitie_fur.apply(lambda x : x.value/fur_n_squirrels_dict[x['Primary Fur Color']],axis = 1)\n",
    "plot_activitie_age['pct'] = plot_activitie_age.apply(lambda x : x.value/age_n_squirrels_dict[x['Age']],axis = 1)\n"
   ]
  },
  {
   "cell_type": "markdown",
   "metadata": {},
   "source": [
    "In this table we can appreciate the different activities made by the squirrel grouped by age"
   ]
  },
  {
   "cell_type": "code",
   "execution_count": 32,
   "metadata": {},
   "outputs": [
    {
     "data": {
      "text/html": [
       "<div>\n",
       "<style scoped>\n",
       "    .dataframe tbody tr th:only-of-type {\n",
       "        vertical-align: middle;\n",
       "    }\n",
       "\n",
       "    .dataframe tbody tr th {\n",
       "        vertical-align: top;\n",
       "    }\n",
       "\n",
       "    .dataframe thead th {\n",
       "        text-align: right;\n",
       "    }\n",
       "</style>\n",
       "<table border=\"1\" class=\"dataframe\">\n",
       "  <thead>\n",
       "    <tr style=\"text-align: right;\">\n",
       "      <th></th>\n",
       "      <th>Age</th>\n",
       "      <th>variable</th>\n",
       "      <th>value</th>\n",
       "      <th>pct</th>\n",
       "    </tr>\n",
       "  </thead>\n",
       "  <tbody>\n",
       "    <tr>\n",
       "      <th>0</th>\n",
       "      <td>?</td>\n",
       "      <td>Running</td>\n",
       "      <td>1</td>\n",
       "      <td>0.250000</td>\n",
       "    </tr>\n",
       "    <tr>\n",
       "      <th>1</th>\n",
       "      <td>Adult</td>\n",
       "      <td>Running</td>\n",
       "      <td>625</td>\n",
       "      <td>0.243380</td>\n",
       "    </tr>\n",
       "    <tr>\n",
       "      <th>2</th>\n",
       "      <td>Juvenile</td>\n",
       "      <td>Running</td>\n",
       "      <td>82</td>\n",
       "      <td>0.248485</td>\n",
       "    </tr>\n",
       "    <tr>\n",
       "      <th>3</th>\n",
       "      <td>?</td>\n",
       "      <td>Chasing</td>\n",
       "      <td>0</td>\n",
       "      <td>0.000000</td>\n",
       "    </tr>\n",
       "    <tr>\n",
       "      <th>4</th>\n",
       "      <td>Adult</td>\n",
       "      <td>Chasing</td>\n",
       "      <td>227</td>\n",
       "      <td>0.088396</td>\n",
       "    </tr>\n",
       "    <tr>\n",
       "      <th>5</th>\n",
       "      <td>Juvenile</td>\n",
       "      <td>Chasing</td>\n",
       "      <td>38</td>\n",
       "      <td>0.115152</td>\n",
       "    </tr>\n",
       "    <tr>\n",
       "      <th>6</th>\n",
       "      <td>?</td>\n",
       "      <td>Climbing</td>\n",
       "      <td>0</td>\n",
       "      <td>0.000000</td>\n",
       "    </tr>\n",
       "    <tr>\n",
       "      <th>7</th>\n",
       "      <td>Adult</td>\n",
       "      <td>Climbing</td>\n",
       "      <td>556</td>\n",
       "      <td>0.216511</td>\n",
       "    </tr>\n",
       "    <tr>\n",
       "      <th>8</th>\n",
       "      <td>Juvenile</td>\n",
       "      <td>Climbing</td>\n",
       "      <td>86</td>\n",
       "      <td>0.260606</td>\n",
       "    </tr>\n",
       "    <tr>\n",
       "      <th>9</th>\n",
       "      <td>?</td>\n",
       "      <td>Eating</td>\n",
       "      <td>0</td>\n",
       "      <td>0.000000</td>\n",
       "    </tr>\n",
       "    <tr>\n",
       "      <th>10</th>\n",
       "      <td>Adult</td>\n",
       "      <td>Eating</td>\n",
       "      <td>634</td>\n",
       "      <td>0.246885</td>\n",
       "    </tr>\n",
       "    <tr>\n",
       "      <th>11</th>\n",
       "      <td>Juvenile</td>\n",
       "      <td>Eating</td>\n",
       "      <td>97</td>\n",
       "      <td>0.293939</td>\n",
       "    </tr>\n",
       "    <tr>\n",
       "      <th>12</th>\n",
       "      <td>?</td>\n",
       "      <td>Foraging</td>\n",
       "      <td>1</td>\n",
       "      <td>0.250000</td>\n",
       "    </tr>\n",
       "    <tr>\n",
       "      <th>13</th>\n",
       "      <td>Adult</td>\n",
       "      <td>Foraging</td>\n",
       "      <td>1273</td>\n",
       "      <td>0.495717</td>\n",
       "    </tr>\n",
       "    <tr>\n",
       "      <th>14</th>\n",
       "      <td>Juvenile</td>\n",
       "      <td>Foraging</td>\n",
       "      <td>118</td>\n",
       "      <td>0.357576</td>\n",
       "    </tr>\n",
       "  </tbody>\n",
       "</table>\n",
       "</div>"
      ],
      "text/plain": [
       "         Age  variable  value       pct\n",
       "0          ?   Running      1  0.250000\n",
       "1      Adult   Running    625  0.243380\n",
       "2   Juvenile   Running     82  0.248485\n",
       "3          ?   Chasing      0  0.000000\n",
       "4      Adult   Chasing    227  0.088396\n",
       "5   Juvenile   Chasing     38  0.115152\n",
       "6          ?  Climbing      0  0.000000\n",
       "7      Adult  Climbing    556  0.216511\n",
       "8   Juvenile  Climbing     86  0.260606\n",
       "9          ?    Eating      0  0.000000\n",
       "10     Adult    Eating    634  0.246885\n",
       "11  Juvenile    Eating     97  0.293939\n",
       "12         ?  Foraging      1  0.250000\n",
       "13     Adult  Foraging   1273  0.495717\n",
       "14  Juvenile  Foraging    118  0.357576"
      ]
     },
     "execution_count": 32,
     "metadata": {},
     "output_type": "execute_result"
    }
   ],
   "source": [
    "plot_activitie_age"
   ]
  },
  {
   "cell_type": "code",
   "execution_count": 33,
   "metadata": {},
   "outputs": [
    {
     "data": {
      "text/plain": [
       "<Figure size 720x720 with 0 Axes>"
      ]
     },
     "metadata": {},
     "output_type": "display_data"
    },
    {
     "data": {
      "image/png": "[encoded data removed]",
      "text/plain": [
       "<Figure size 440.125x360 with 1 Axes>"
      ]
     },
     "metadata": {
      "needs_background": "light"
     },
     "output_type": "display_data"
    }
   ],
   "source": [
    "plt.figure(figsize=(10,10))\n",
    "#ax = plt.axes()\n",
    "sns.catplot(x=\"Age\", y=\"pct\", hue=\"variable\",\n",
    "            data=plot_activitie_age,\n",
    "            kind = 'bar')\n",
    "plt.title('Activitie divided by age', fontsize='15',color='black')\n",
    "plt.show()\n",
    "plt.close()"
   ]
  },
  {
   "cell_type": "code",
   "execution_count": 34,
   "metadata": {},
   "outputs": [
    {
     "data": {
      "text/plain": [
       "<Figure size 720x720 with 0 Axes>"
      ]
     },
     "metadata": {},
     "output_type": "display_data"
    },
    {
     "data": {
      "image/png": "[encoded data removed]",
      "text/plain": [
       "<Figure size 440.125x360 with 1 Axes>"
      ]
     },
     "metadata": {
      "needs_background": "light"
     },
     "output_type": "display_data"
    }
   ],
   "source": [
    "plt.figure(figsize=(10,10))\n",
    "sns.catplot(x=\"Primary Fur Color\", y=\"pct\", hue=\"variable\",\n",
    "            data=plot_activitie_fur,\n",
    "            kind = 'bar')\n",
    "plt.title('Activitie divided by Fur Color', fontsize='15',color='black')\n",
    "plt.show()\n",
    "plt.close()"
   ]
  },
  {
   "cell_type": "markdown",
   "metadata": {},
   "source": [
    "Almost all activities have the same representation but \"foraging\" have a bigger percentage in adults, clearly all animals have to look for food but it´s a task tht usually the older or adults do!\n",
    "\n",
    "It doesn't matter the fur color is almost the same distribution!"
   ]
  },
  {
   "cell_type": "code",
   "execution_count": 37,
   "metadata": {},
   "outputs": [],
   "source": [
    "fur_shift = df.groupby(['Primary Fur Color','Shift']).size().to_frame().reset_index()\n"
   ]
  },
  {
   "cell_type": "code",
   "execution_count": 38,
   "metadata": {},
   "outputs": [
    {
     "data": {
      "text/plain": [
       "<AxesSubplot:xlabel='Shift', ylabel='0'>"
      ]
     },
     "execution_count": 38,
     "metadata": {},
     "output_type": "execute_result"
    },
    {
     "data": {
      "image/png": "[encoded data removed]",
      "text/plain": [
       "<Figure size 432x288 with 1 Axes>"
      ]
     },
     "metadata": {
      "needs_background": "light"
     },
     "output_type": "display_data"
    }
   ],
   "source": [
    "sns.barplot(data = fur_shift, x = 'Shift',y = 0,hue = 'Primary Fur Color')"
   ]
  },
  {
   "cell_type": "code",
   "execution_count": 39,
   "metadata": {},
   "outputs": [
    {
     "data": {
      "text/plain": [
       "<AxesSubplot:xlabel='Shift', ylabel='0'>"
      ]
     },
     "execution_count": 39,
     "metadata": {},
     "output_type": "execute_result"
    },
    {
     "data": {
      "image/png": "[encoded data removed]",
      "text/plain": [
       "<Figure size 432x288 with 1 Axes>"
      ]
     },
     "metadata": {
      "needs_background": "light"
     },
     "output_type": "display_data"
    }
   ],
   "source": [
    "age_shift = df.groupby(['Age','Shift']).size().to_frame().reset_index()\n",
    "sns.barplot(data = age_shift, x = 'Shift',y = 0,hue = 'Age')"
   ]
  },
  {
   "cell_type": "code",
   "execution_count": 40,
   "metadata": {},
   "outputs": [],
   "source": [
    "hectare_coor_squirrel = pd.merge(hectare_coor,n_squirrels_by_hectare,on = 'Hectare',how = 'inner')"
   ]
  },
  {
   "cell_type": "code",
   "execution_count": 41,
   "metadata": {},
   "outputs": [],
   "source": [
    "fur_hectare = df.groupby(['Hectare','Primary Fur Color']).size().to_frame().reset_index()\n",
    "fur_hectare_n = fur_hectare.groupby('Hectare',as_index=True).size().to_frame().reset_index()\n",
    "fur_hectare_n.columns = ['Hectare','n_type_fur']"
   ]
  },
  {
   "cell_type": "code",
   "execution_count": 42,
   "metadata": {},
   "outputs": [],
   "source": [
    "fur_hectare_3 = fur_hectare_n[fur_hectare_n['n_type_fur'] > 2]\n"
   ]
  },
  {
   "cell_type": "code",
   "execution_count": 43,
   "metadata": {},
   "outputs": [],
   "source": [
    "fur_hectare_2 = fur_hectare_n[fur_hectare_n['n_type_fur'] == 2]\n",
    "fur_hectare_1 = fur_hectare_n[fur_hectare_n['n_type_fur'] == 1]\n",
    "fur_hectare_multi = fur_hectare_n[fur_hectare_n['n_type_fur'] > 1]\n"
   ]
  },
  {
   "cell_type": "code",
   "execution_count": 44,
   "metadata": {},
   "outputs": [
    {
     "data": {
      "text/plain": [
       "0.05917159763313609"
      ]
     },
     "execution_count": 44,
     "metadata": {},
     "output_type": "execute_result"
    }
   ],
   "source": [
    "fur_hectare_3.shape[0]/fur_hectare_n.shape[0]"
   ]
  },
  {
   "cell_type": "code",
   "execution_count": 45,
   "metadata": {},
   "outputs": [
    {
     "data": {
      "text/plain": [
       "0.4319526627218935"
      ]
     },
     "execution_count": 45,
     "metadata": {},
     "output_type": "execute_result"
    }
   ],
   "source": [
    "fur_hectare_1.shape[0]/fur_hectare_n.shape[0]"
   ]
  },
  {
   "cell_type": "code",
   "execution_count": 46,
   "metadata": {},
   "outputs": [
    {
     "data": {
      "text/plain": [
       "0.5088757396449705"
      ]
     },
     "execution_count": 46,
     "metadata": {},
     "output_type": "execute_result"
    }
   ],
   "source": [
    "fur_hectare_2.shape[0]/fur_hectare_n.shape[0]"
   ]
  },
  {
   "cell_type": "code",
   "execution_count": 47,
   "metadata": {},
   "outputs": [],
   "source": [
    "hectares_multi = fur_hectare_multi['Hectare'].unique()"
   ]
  },
  {
   "cell_type": "code",
   "execution_count": 48,
   "metadata": {},
   "outputs": [],
   "source": [
    "fur_hectare_corr = pd.merge(fur_hectare,hectare_coor,on = 'Hectare',how = 'inner')\n",
    "fur_hectare_corr = fur_hectare_corr [fur_hectare_corr['Hectare'].isin(hectares_multi)]\n"
   ]
  },
  {
   "cell_type": "code",
   "execution_count": 49,
   "metadata": {},
   "outputs": [
    {
     "data": {
      "text/html": [
       "<div>\n",
       "<style scoped>\n",
       "    .dataframe tbody tr th:only-of-type {\n",
       "        vertical-align: middle;\n",
       "    }\n",
       "\n",
       "    .dataframe tbody tr th {\n",
       "        vertical-align: top;\n",
       "    }\n",
       "\n",
       "    .dataframe thead th {\n",
       "        text-align: right;\n",
       "    }\n",
       "</style>\n",
       "<table border=\"1\" class=\"dataframe\">\n",
       "  <thead>\n",
       "    <tr style=\"text-align: right;\">\n",
       "      <th></th>\n",
       "      <th>Hectare</th>\n",
       "      <th>Primary Fur Color</th>\n",
       "      <th>0</th>\n",
       "      <th>X</th>\n",
       "      <th>Y</th>\n",
       "    </tr>\n",
       "  </thead>\n",
       "  <tbody>\n",
       "    <tr>\n",
       "      <th>0</th>\n",
       "      <td>01A</td>\n",
       "      <td>Cinnamon</td>\n",
       "      <td>4</td>\n",
       "      <td>-73.980887</td>\n",
       "      <td>40.768198</td>\n",
       "    </tr>\n",
       "    <tr>\n",
       "      <th>1</th>\n",
       "      <td>01A</td>\n",
       "      <td>Gray</td>\n",
       "      <td>7</td>\n",
       "      <td>-73.980887</td>\n",
       "      <td>40.768198</td>\n",
       "    </tr>\n",
       "    <tr>\n",
       "      <th>2</th>\n",
       "      <td>01B</td>\n",
       "      <td>Cinnamon</td>\n",
       "      <td>7</td>\n",
       "      <td>-73.980241</td>\n",
       "      <td>40.767892</td>\n",
       "    </tr>\n",
       "    <tr>\n",
       "      <th>3</th>\n",
       "      <td>01B</td>\n",
       "      <td>Gray</td>\n",
       "      <td>20</td>\n",
       "      <td>-73.980241</td>\n",
       "      <td>40.767892</td>\n",
       "    </tr>\n",
       "    <tr>\n",
       "      <th>4</th>\n",
       "      <td>01C</td>\n",
       "      <td>Cinnamon</td>\n",
       "      <td>9</td>\n",
       "      <td>-73.979395</td>\n",
       "      <td>40.767560</td>\n",
       "    </tr>\n",
       "  </tbody>\n",
       "</table>\n",
       "</div>"
      ],
      "text/plain": [
       "  Hectare Primary Fur Color   0          X          Y\n",
       "0     01A          Cinnamon   4 -73.980887  40.768198\n",
       "1     01A              Gray   7 -73.980887  40.768198\n",
       "2     01B          Cinnamon   7 -73.980241  40.767892\n",
       "3     01B              Gray  20 -73.980241  40.767892\n",
       "4     01C          Cinnamon   9 -73.979395  40.767560"
      ]
     },
     "execution_count": 49,
     "metadata": {},
     "output_type": "execute_result"
    }
   ],
   "source": [
    "fur_hectare_corr.head()"
   ]
  },
  {
   "cell_type": "code",
   "execution_count": 50,
   "metadata": {},
   "outputs": [
    {
     "data": {
      "application/vnd.plotly.v1+json": {
       "config": {
        "plotlyServerURL": "https://plot.ly"
       },
       "data": [
        {
         "hovertemplate": "Primary Fur Color=Cinnamon<br>0=%{marker.size}<br>Y=%{lat}<br>X=%{lon}<extra></extra>",
         "lat": [
          40.76819785240354,
          40.767892285332024,
          40.767560426968906,
          40.76693320252869,
          40.766523734470766,
          40.765180097908626,
          40.765115890367596,
          40.76875454350658,
          40.76848163216584,
          40.767208426236586,
          40.76960876086769,
          40.76906495463581,
          40.7686746150023,
          40.76837921863991,
          40.768000656419574,
          40.767369222774676,
          40.76646762572063,
          40.76621404786718,
          40.76975652458685,
          40.769525213877074,
          40.769019656362076,
          40.768621775034084,
          40.768301619816825,
          40.77122560195377,
          40.770688902092786,
          40.76988218116219,
          40.769451408125434,
          40.76860252923496,
          40.77185810164765,
          40.77053070934789,
          40.77010231056067,
          40.769793838195405,
          40.76923621985328,
          40.76894760909336,
          40.77023725140886,
          40.7698354924998,
          40.769492920016226,
          40.77347887251088,
          40.77350564332341,
          40.77283639756808,
          40.77259965690535,
          40.77028894986332,
          40.77429304014441,
          40.773868376326554,
          40.77332101035957,
          40.77163175416787,
          40.770932231576886,
          40.77514558653689,
          40.7740754333897,
          40.77197679121954,
          40.77570942033237,
          40.77467027914284,
          40.77294773994093,
          40.77249847859465,
          40.776698422834066,
          40.77499323506129,
          40.77437147725566,
          40.774124576180846,
          40.77751332655914,
          40.77617771996671,
          40.77605370080877,
          40.77555641831734,
          40.77493983603975,
          40.7763682448723,
          40.775596117725925,
          40.775397567645925,
          40.77513733581957,
          40.77775891138555,
          40.776895336551235,
          40.776629658004666,
          40.77608023796046,
          40.77598034459011,
          40.77959753800541,
          40.778490914080535,
          40.77803699907142,
          40.777545867555105,
          40.77734334250845,
          40.779995228561,
          40.77855568957453,
          40.77739063598672,
          40.77770561247116,
          40.77997432877609,
          40.7798669859863,
          40.78246148617026,
          40.782048821917584,
          40.78090339167863,
          40.78069692323625,
          40.783494284617795,
          40.78151423583786,
          40.78096091647577,
          40.78436805670426,
          40.7840044348239,
          40.78374390349108,
          40.782376870042285,
          40.781416860372005,
          40.78514589825164,
          40.783000465857256,
          40.78694996314775,
          40.78351256971057,
          40.78860671483817,
          40.785224817625256,
          40.7890915919116,
          40.78846046904617,
          40.78988041728979,
          40.7909984242457,
          40.787600571388396,
          40.78785955130574,
          40.79165231927498,
          40.79210726449886,
          40.791738669507225,
          40.79128853012022,
          40.78895603501209,
          40.792633188162135,
          40.79068866201004,
          40.7902344345887,
          40.794102975543225,
          40.79390405592702,
          40.79295062049207,
          40.79468486542435,
          40.794344139886945,
          40.7917531121825,
          40.7954513055006,
          40.79483657250959,
          40.794251383795434,
          40.79225399636533,
          40.79627279731547,
          40.795950887780045,
          40.79477693258622,
          40.79407301426009,
          40.7930882162407,
          40.79684332890903,
          40.79596373559954,
          40.7954046523545,
          40.79490936016011,
          40.79452764342616,
          40.7939874028809,
          40.7936701325243,
          40.79798548274452,
          40.79636762952123,
          40.7955539791501,
          40.795019009940084,
          40.79709414935811,
          40.79612674412988,
          40.79517227818837,
          40.79912264810869,
          40.79867313253166,
          40.798066846954676,
          40.7961038534287,
          40.79876632062021,
          40.798174138157854,
          40.79756593320308,
          40.797531354164754,
          40.79685036873007
         ],
         "legendgroup": "Cinnamon",
         "lon": [
          -73.98088744823467,
          -73.98024065593678,
          -73.97939536272962,
          -73.97821484209649,
          -73.9773615892424,
          -73.97390356981252,
          -73.97319669920165,
          -73.98083267466777,
          -73.97987272956527,
          -73.9768744656974,
          -73.9800797763451,
          -73.97903070841501,
          -73.97835249084625,
          -73.97726726146382,
          -73.97599657940674,
          -73.97500962826595,
          -73.97285135669587,
          -73.97212987921809,
          -73.97878028343271,
          -73.97746326572114,
          -73.97650982663056,
          -73.97559452338008,
          -73.97472390591845,
          -73.97896960482069,
          -73.9768171760359,
          -73.97590707085818,
          -73.9750576657539,
          -73.97341736233625,
          -73.97845874651095,
          -73.97558396210835,
          -73.97459743714253,
          -73.9731793033933,
          -73.97131887761306,
          -73.97031985684156,
          -73.97195245881979,
          -73.97066695551831,
          -73.96988797925474,
          -73.97701650984328,
          -73.97641800035885,
          -73.97514065884704,
          -73.97388532296672,
          -73.96932655738978,
          -73.97668594122702,
          -73.97588770045081,
          -73.9749204315794,
          -73.97085955909104,
          -73.96882576168342,
          -73.97625837564067,
          -73.97314018464716,
          -73.9690606963677,
          -73.97458930953304,
          -73.97231083632983,
          -73.96839132820459,
          -73.9680151811654,
          -73.97463335071619,
          -73.97125381820773,
          -73.96984736593565,
          -73.96903289555594,
          -73.97452113717964,
          -73.9714215517171,
          -73.97047814507197,
          -73.96957183826223,
          -73.96835562534407,
          -73.96896086026557,
          -73.96787130873628,
          -73.96673551655856,
          -73.96577242166438,
          -73.97034195632207,
          -73.96848446924707,
          -73.96744765074523,
          -73.96608483864233,
          -73.96519426665601,
          -73.97271497167031,
          -73.96988990293133,
          -73.96852154734138,
          -73.9675639641515,
          -73.96681408355207,
          -73.97115810758793,
          -73.9673412916161,
          -73.96428751337072,
          -73.96388220636314,
          -73.96554368600098,
          -73.9649522813412,
          -73.96939945831944,
          -73.96801703040484,
          -73.96524861442182,
          -73.96457642223014,
          -73.96900452961565,
          -73.96466119264907,
          -73.96271839094209,
          -73.96921327231203,
          -73.9684730605109,
          -73.96721519188229,
          -73.96439315809697,
          -73.96239113794937,
          -73.96881513394332,
          -73.96385426887906,
          -73.96746907288896,
          -73.95954410339039,
          -73.96653770916066,
          -73.95843333258416,
          -73.96622817826012,
          -73.96275836157619,
          -73.9640852545293,
          -73.96475312771186,
          -73.95735217212732,
          -73.95682093719518,
          -73.96393092066019,
          -73.96284404110199,
          -73.96155483713233,
          -73.96061853828573,
          -73.95535214327725,
          -73.96176743548371,
          -73.95651206922892,
          -73.95657563620111,
          -73.96245643710076,
          -73.96119146048548,
          -73.95935726439383,
          -73.96173109950955,
          -73.96123869704098,
          -73.95377703644976,
          -73.9611836503172,
          -73.95918280663402,
          -73.9583067606618,
          -73.95298460972266,
          -73.9607942453511,
          -73.95967139388483,
          -73.9565779607304,
          -73.95441057683458,
          -73.95272042326833,
          -73.95928270741753,
          -73.95720078371961,
          -73.9560837740968,
          -73.95481544955986,
          -73.95407475780284,
          -73.95321675991761,
          -73.95229224975282,
          -73.95959442483597,
          -73.955544087902,
          -73.95445141665911,
          -73.95222366667393,
          -73.95520987462211,
          -73.95304528923947,
          -73.95088637904043,
          -73.95756980260396,
          -73.95655407432201,
          -73.95425261442624,
          -73.95032579684467,
          -73.95481510888511,
          -73.95389198366279,
          -73.95183518690156,
          -73.95063862525764,
          -73.94990322181397
         ],
         "marker": {
          "color": "#636efa",
          "size": [
           4,
           7,
           9,
           4,
           1,
           1,
           1,
           2,
           3,
           4,
           5,
           2,
           2,
           12,
           1,
           6,
           1,
           2,
           2,
           4,
           14,
           2,
           2,
           2,
           10,
           1,
           6,
           1,
           5,
           1,
           4,
           4,
           2,
           2,
           3,
           2,
           3,
           1,
           3,
           3,
           1,
           1,
           4,
           5,
           2,
           1,
           6,
           2,
           2,
           3,
           1,
           3,
           4,
           1,
           1,
           5,
           7,
           2,
           1,
           2,
           2,
           2,
           1,
           5,
           2,
           1,
           2,
           1,
           5,
           1,
           2,
           2,
           1,
           1,
           5,
           1,
           2,
           1,
           5,
           3,
           6,
           5,
           2,
           1,
           3,
           3,
           1,
           3,
           8,
           1,
           1,
           4,
           3,
           4,
           3,
           1,
           1,
           1,
           3,
           1,
           1,
           2,
           3,
           1,
           1,
           1,
           1,
           2,
           1,
           1,
           4,
           2,
           1,
           1,
           1,
           1,
           1,
           1,
           3,
           1,
           1,
           1,
           1,
           1,
           3,
           2,
           1,
           4,
           2,
           2,
           1,
           2,
           1,
           1,
           1,
           1,
           2,
           1,
           1,
           1,
           1,
           1,
           1,
           2,
           3,
           2,
           3,
           1,
           2,
           1,
           1,
           2,
           2
          ],
          "sizemode": "area",
          "sizeref": 0.065
         },
         "mode": "markers",
         "name": "Cinnamon",
         "showlegend": true,
         "subplot": "mapbox",
         "type": "scattermapbox"
        },
        {
         "hovertemplate": "Primary Fur Color=Gray<br>0=%{marker.size}<br>Y=%{lat}<br>X=%{lon}<extra></extra>",
         "lat": [
          40.76819785240354,
          40.767892285332024,
          40.767560426968906,
          40.76693320252869,
          40.766523734470766,
          40.76552798091875,
          40.765180097908626,
          40.765115890367596,
          40.76875454350658,
          40.76848163216584,
          40.76790682563448,
          40.767208426236586,
          40.765843474013565,
          40.76960876086769,
          40.76906495463581,
          40.7686746150023,
          40.76837921863991,
          40.768000656419574,
          40.767369222774676,
          40.76646762572063,
          40.76621404786718,
          40.76975652458685,
          40.769525213877074,
          40.769019656362076,
          40.768621775034084,
          40.768301619816825,
          40.76774379998931,
          40.76713105857153,
          40.76693151133572,
          40.77122560195377,
          40.770688902092786,
          40.76988218116219,
          40.769451408125434,
          40.76860252923496,
          40.7679166056415,
          40.77185810164765,
          40.77053070934789,
          40.77010231056067,
          40.769793838195405,
          40.76923621985328,
          40.76894760909336,
          40.77023725140886,
          40.7698354924998,
          40.769492920016226,
          40.77347887251088,
          40.77350564332341,
          40.77283639756808,
          40.77259965690535,
          40.77189808749481,
          40.770418411068,
          40.77028894986332,
          40.77429304014441,
          40.773868376326554,
          40.77332101035957,
          40.77220263811856,
          40.77163175416787,
          40.770932231576886,
          40.77514558653689,
          40.7740754333897,
          40.773225808435434,
          40.772532324937586,
          40.77250274368292,
          40.77197679121954,
          40.77570942033237,
          40.77467027914284,
          40.77433911414635,
          40.77294773994093,
          40.77249847859465,
          40.776698422834066,
          40.77499323506129,
          40.77437147725566,
          40.774124576180846,
          40.77751332655914,
          40.77617771996671,
          40.77605370080877,
          40.77555641831734,
          40.77493983603975,
          40.7763682448723,
          40.775596117725925,
          40.775397567645925,
          40.77513733581957,
          40.77844808288831,
          40.77775891138555,
          40.776895336551235,
          40.776629658004666,
          40.77608023796046,
          40.77598034459011,
          40.77959753800541,
          40.778490914080535,
          40.77803699907142,
          40.777545867555105,
          40.77734334250845,
          40.779995228561,
          40.77890784463292,
          40.77855568957453,
          40.77739063598672,
          40.78046266400585,
          40.77770561247116,
          40.77997432877609,
          40.7798669859863,
          40.78246148617026,
          40.782048821917584,
          40.78090339167863,
          40.78069692323625,
          40.783494284617795,
          40.78151423583786,
          40.78096091647577,
          40.78436805670426,
          40.7840044348239,
          40.78374390349108,
          40.782376870042285,
          40.781416860372005,
          40.78514589825164,
          40.783000465857256,
          40.78694996314775,
          40.78351256971057,
          40.78860671483817,
          40.785224817625256,
          40.7890915919116,
          40.78863977320825,
          40.78846046904617,
          40.790375265725025,
          40.78988041728979,
          40.789077986635064,
          40.78869161941245,
          40.7909984242457,
          40.787600571388396,
          40.78785955130574,
          40.79165231927498,
          40.79210726449886,
          40.791738669507225,
          40.79128853012022,
          40.790653807969115,
          40.79058468334717,
          40.79006535604944,
          40.78895603501209,
          40.792633188162135,
          40.791763172778275,
          40.7914494347848,
          40.79134671899513,
          40.79068866201004,
          40.7902344345887,
          40.78985052743791,
          40.794102975543225,
          40.79390405592702,
          40.79338736550611,
          40.79295062049207,
          40.79226879788025,
          40.7916312666773,
          40.791089934938775,
          40.79468486542435,
          40.794344139886945,
          40.792209700749034,
          40.7917531121825,
          40.7954513055006,
          40.79540357545048,
          40.79483657250959,
          40.794251383795434,
          40.79225399636533,
          40.79627279731547,
          40.795950887780045,
          40.79477693258622,
          40.79407301426009,
          40.7930882162407,
          40.79725754306366,
          40.79684332890903,
          40.79623534950602,
          40.79596373559954,
          40.7954046523545,
          40.79490936016011,
          40.79452764342616,
          40.7939874028809,
          40.7936701325243,
          40.79798548274452,
          40.79636762952123,
          40.7955539791501,
          40.795019009940084,
          40.79787474701491,
          40.79709414935811,
          40.79612674412988,
          40.79517227818837,
          40.79943090611381,
          40.79912264810869,
          40.79867313253166,
          40.798066846954676,
          40.7961038534287,
          40.79986063067585,
          40.79876632062021,
          40.798174138157854,
          40.79756593320308,
          40.797531354164754,
          40.79685036873007
         ],
         "legendgroup": "Gray",
         "lon": [
          -73.98088744823467,
          -73.98024065593678,
          -73.97939536272962,
          -73.97821484209649,
          -73.9773615892424,
          -73.97488875851191,
          -73.97390356981252,
          -73.97319669920165,
          -73.98083267466777,
          -73.97987272956527,
          -73.97895125787106,
          -73.9768744656974,
          -73.97329625563798,
          -73.9800797763451,
          -73.97903070841501,
          -73.97835249084625,
          -73.97726726146382,
          -73.97599657940674,
          -73.97500962826595,
          -73.97285135669587,
          -73.97212987921809,
          -73.97878028343271,
          -73.97746326572114,
          -73.97650982663056,
          -73.97559452338008,
          -73.97472390591845,
          -73.97350704515286,
          -73.97276590165234,
          -73.97170483677071,
          -73.97896960482069,
          -73.9768171760359,
          -73.97590707085818,
          -73.9750576657539,
          -73.97341736233625,
          -73.97084525600863,
          -73.97845874651095,
          -73.97558396210835,
          -73.97459743714253,
          -73.9731793033933,
          -73.97131887761306,
          -73.97031985684156,
          -73.97195245881979,
          -73.97066695551831,
          -73.96988797925474,
          -73.97701650984328,
          -73.97641800035885,
          -73.97514065884704,
          -73.97388532296672,
          -73.9735201062304,
          -73.97010495619358,
          -73.96932655738978,
          -73.97668594122702,
          -73.97588770045081,
          -73.9749204315794,
          -73.97166731435017,
          -73.97085955909104,
          -73.96882576168342,
          -73.97625837564067,
          -73.97314018464716,
          -73.97197398504923,
          -73.97092898893106,
          -73.97042939648938,
          -73.9690606963677,
          -73.97458930953304,
          -73.97231083632983,
          -73.97147993866199,
          -73.96839132820459,
          -73.9680151811654,
          -73.97463335071619,
          -73.97125381820773,
          -73.96984736593565,
          -73.96903289555594,
          -73.97452113717964,
          -73.9714215517171,
          -73.97047814507197,
          -73.96957183826223,
          -73.96835562534407,
          -73.96896086026557,
          -73.96787130873628,
          -73.96673551655856,
          -73.96577242166438,
          -73.9711719456888,
          -73.97034195632207,
          -73.96848446924707,
          -73.96744765074523,
          -73.96608483864233,
          -73.96519426665601,
          -73.97271497167031,
          -73.96988990293133,
          -73.96852154734138,
          -73.9675639641515,
          -73.96681408355207,
          -73.97115810758793,
          -73.96779782801438,
          -73.9673412916161,
          -73.96428751337072,
          -73.9695376155795,
          -73.96388220636314,
          -73.96554368600098,
          -73.9649522813412,
          -73.96939945831944,
          -73.96801703040484,
          -73.96524861442182,
          -73.96457642223014,
          -73.96900452961565,
          -73.96466119264907,
          -73.96271839094209,
          -73.96921327231203,
          -73.9684730605109,
          -73.96721519188229,
          -73.96439315809697,
          -73.96239113794937,
          -73.96881513394332,
          -73.96385426887906,
          -73.96746907288896,
          -73.95954410339039,
          -73.96653770916066,
          -73.95843333258416,
          -73.96622817826012,
          -73.96418739248942,
          -73.96275836157619,
          -73.96516386686406,
          -73.9640852545293,
          -73.96336899438012,
          -73.96241687527207,
          -73.96475312771186,
          -73.95735217212732,
          -73.95682093719518,
          -73.96393092066019,
          -73.96284404110199,
          -73.96155483713233,
          -73.96061853828573,
          -73.9594978575269,
          -73.95845593358445,
          -73.95756321691599,
          -73.95535214327725,
          -73.96176743548371,
          -73.95972965464992,
          -73.95892875688992,
          -73.95838495560663,
          -73.95651206922892,
          -73.95657563620111,
          -73.95466138682707,
          -73.96245643710076,
          -73.96119146048548,
          -73.9603175820717,
          -73.95935726439383,
          -73.95827523447329,
          -73.9560030469263,
          -73.95521844427077,
          -73.96173109950955,
          -73.96123869704098,
          -73.95569009859032,
          -73.95377703644976,
          -73.9611836503172,
          -73.96021106916504,
          -73.95918280663402,
          -73.9583067606618,
          -73.95298460972266,
          -73.9607942453511,
          -73.95967139388483,
          -73.9565779607304,
          -73.95441057683458,
          -73.95272042326833,
          -73.95984819048633,
          -73.95928270741753,
          -73.95812128493992,
          -73.95720078371961,
          -73.9560837740968,
          -73.95481544955986,
          -73.95407475780284,
          -73.95321675991761,
          -73.95229224975282,
          -73.95959442483597,
          -73.955544087902,
          -73.95445141665911,
          -73.95222366667393,
          -73.95690286067592,
          -73.95520987462211,
          -73.95304528923947,
          -73.95088637904043,
          -73.95836939688697,
          -73.95756980260396,
          -73.95655407432201,
          -73.95425261442624,
          -73.95032579684467,
          -73.95721037573915,
          -73.95481510888511,
          -73.95389198366279,
          -73.95183518690156,
          -73.95063862525764,
          -73.94990322181397
         ],
         "marker": {
          "color": "#EF553B",
          "size": [
           7,
           20,
           3,
           12,
           7,
           5,
           3,
           3,
           13,
           14,
           19,
           8,
           4,
           6,
           17,
           2,
           10,
           16,
           14,
           9,
           8,
           9,
           18,
           4,
           10,
           2,
           5,
           5,
           2,
           7,
           10,
           9,
           10,
           5,
           6,
           10,
           9,
           1,
           3,
           2,
           4,
           13,
           23,
           3,
           6,
           15,
           7,
           11,
           9,
           14,
           20,
           8,
           13,
           7,
           9,
           9,
           10,
           6,
           4,
           2,
           12,
           18,
           3,
           12,
           8,
           10,
           9,
           8,
           5,
           8,
           13,
           9,
           8,
           23,
           22,
           7,
           3,
           9,
           3,
           11,
           5,
           7,
           12,
           12,
           15,
           8,
           11,
           7,
           17,
           15,
           8,
           4,
           4,
           13,
           8,
           2,
           9,
           6,
           5,
           1,
           12,
           6,
           14,
           5,
           8,
           3,
           5,
           8,
           8,
           13,
           11,
           1,
           3,
           4,
           5,
           7,
           2,
           7,
           4,
           3,
           1,
           3,
           6,
           6,
           7,
           4,
           3,
           6,
           7,
           9,
           18,
           11,
           26,
           14,
           4,
           6,
           14,
           4,
           15,
           7,
           3,
           1,
           10,
           7,
           3,
           4,
           2,
           1,
           1,
           7,
           17,
           9,
           2,
           2,
           10,
           8,
           9,
           2,
           18,
           1,
           9,
           9,
           13,
           5,
           9,
           6,
           20,
           6,
           16,
           11,
           10,
           1,
           4,
           3,
           6,
           8,
           6,
           14,
           6,
           7,
           1,
           5,
           11,
           8,
           8,
           2,
           1,
           5,
           5,
           5,
           4,
           1
          ],
          "sizemode": "area",
          "sizeref": 0.065
         },
         "mode": "markers",
         "name": "Gray",
         "showlegend": true,
         "subplot": "mapbox",
         "type": "scattermapbox"
        },
        {
         "hovertemplate": "Primary Fur Color=Black<br>0=%{marker.size}<br>Y=%{lat}<br>X=%{lon}<extra></extra>",
         "lat": [
          40.76552798091875,
          40.76790682563448,
          40.765843474013565,
          40.767369222774676,
          40.76646762572063,
          40.76621404786718,
          40.76774379998931,
          40.76713105857153,
          40.76693151133572,
          40.7679166056415,
          40.76894760909336,
          40.7698354924998,
          40.769492920016226,
          40.77189808749481,
          40.770418411068,
          40.77332101035957,
          40.77220263811856,
          40.773225808435434,
          40.772532324937586,
          40.77250274368292,
          40.77467027914284,
          40.77433911414635,
          40.77499323506129,
          40.77437147725566,
          40.77844808288831,
          40.77959753800541,
          40.779995228561,
          40.77890784463292,
          40.78046266400585,
          40.78514589825164,
          40.78863977320825,
          40.78846046904617,
          40.790375265725025,
          40.789077986635064,
          40.78869161941245,
          40.790653807969115,
          40.79058468334717,
          40.79006535604944,
          40.792633188162135,
          40.791763172778275,
          40.7914494347848,
          40.79134671899513,
          40.78985052743791,
          40.79338736550611,
          40.79295062049207,
          40.79226879788025,
          40.7916312666773,
          40.791089934938775,
          40.792209700749034,
          40.79540357545048,
          40.795950887780045,
          40.79725754306366,
          40.79623534950602,
          40.79596373559954,
          40.79787474701491,
          40.79943090611381,
          40.79912264810869,
          40.79867313253166,
          40.79986063067585
         ],
         "legendgroup": "Black",
         "lon": [
          -73.97488875851191,
          -73.97895125787106,
          -73.97329625563798,
          -73.97500962826595,
          -73.97285135669587,
          -73.97212987921809,
          -73.97350704515286,
          -73.97276590165234,
          -73.97170483677071,
          -73.97084525600863,
          -73.97031985684156,
          -73.97066695551831,
          -73.96988797925474,
          -73.9735201062304,
          -73.97010495619358,
          -73.9749204315794,
          -73.97166731435017,
          -73.97197398504923,
          -73.97092898893106,
          -73.97042939648938,
          -73.97231083632983,
          -73.97147993866199,
          -73.97125381820773,
          -73.96984736593565,
          -73.9711719456888,
          -73.97271497167031,
          -73.97115810758793,
          -73.96779782801438,
          -73.9695376155795,
          -73.96881513394332,
          -73.96418739248942,
          -73.96275836157619,
          -73.96516386686406,
          -73.96336899438012,
          -73.96241687527207,
          -73.9594978575269,
          -73.95845593358445,
          -73.95756321691599,
          -73.96176743548371,
          -73.95972965464992,
          -73.95892875688992,
          -73.95838495560663,
          -73.95466138682707,
          -73.9603175820717,
          -73.95935726439383,
          -73.95827523447329,
          -73.9560030469263,
          -73.95521844427077,
          -73.95569009859032,
          -73.96021106916504,
          -73.95967139388483,
          -73.95984819048633,
          -73.95812128493992,
          -73.95720078371961,
          -73.95690286067592,
          -73.95836939688697,
          -73.95756980260396,
          -73.95655407432201,
          -73.95721037573915
         ],
         "marker": {
          "color": "#00cc96",
          "size": [
           2,
           1,
           2,
           1,
           3,
           3,
           1,
           1,
           3,
           2,
           2,
           1,
           2,
           1,
           1,
           1,
           3,
           1,
           3,
           3,
           2,
           1,
           1,
           1,
           1,
           1,
           1,
           1,
           2,
           1,
           1,
           4,
           1,
           2,
           1,
           4,
           1,
           1,
           1,
           8,
           7,
           1,
           2,
           2,
           3,
           1,
           1,
           1,
           1,
           1,
           1,
           1,
           1,
           1,
           1,
           2,
           1,
           1,
           1
          ],
          "sizemode": "area",
          "sizeref": 0.065
         },
         "mode": "markers",
         "name": "Black",
         "showlegend": true,
         "subplot": "mapbox",
         "type": "scattermapbox"
        }
       ],
       "layout": {
        "height": 300,
        "legend": {
         "itemsizing": "constant",
         "title": {
          "text": "Primary Fur Color"
         },
         "tracegroupgap": 0
        },
        "mapbox": {
         "center": {
          "lat": 41,
          "lon": -73.965957
         },
         "domain": {
          "x": [
           0,
           1
          ],
          "y": [
           0,
           1
          ]
         },
         "style": "stamen-terrain",
         "zoom": 6
        },
        "margin": {
         "b": 0,
         "l": 0,
         "r": 0,
         "t": 0
        },
        "template": {
         "data": {
          "bar": [
           {
            "error_x": {
             "color": "#2a3f5f"
            },
            "error_y": {
             "color": "#2a3f5f"
            },
            "marker": {
             "line": {
              "color": "#E5ECF6",
              "width": 0.5
             },
             "pattern": {
              "fillmode": "overlay",
              "size": 10,
              "solidity": 0.2
             }
            },
            "type": "bar"
           }
          ],
          "barpolar": [
           {
            "marker": {
             "line": {
              "color": "#E5ECF6",
              "width": 0.5
             },
             "pattern": {
              "fillmode": "overlay",
              "size": 10,
              "solidity": 0.2
             }
            },
            "type": "barpolar"
           }
          ],
          "carpet": [
           {
            "aaxis": {
             "endlinecolor": "#2a3f5f",
             "gridcolor": "white",
             "linecolor": "white",
             "minorgridcolor": "white",
             "startlinecolor": "#2a3f5f"
            },
            "baxis": {
             "endlinecolor": "#2a3f5f",
             "gridcolor": "white",
             "linecolor": "white",
             "minorgridcolor": "white",
             "startlinecolor": "#2a3f5f"
            },
            "type": "carpet"
           }
          ],
          "choropleth": [
           {
            "colorbar": {
             "outlinewidth": 0,
             "ticks": ""
            },
            "type": "choropleth"
           }
          ],
          "contour": [
           {
            "colorbar": {
             "outlinewidth": 0,
             "ticks": ""
            },
            "colorscale": [
             [
              0,
              "#0d0887"
             ],
             [
              0.1111111111111111,
              "#46039f"
             ],
             [
              0.2222222222222222,
              "#7201a8"
             ],
             [
              0.3333333333333333,
              "#9c179e"
             ],
             [
              0.4444444444444444,
              "#bd3786"
             ],
             [
              0.5555555555555556,
              "#d8576b"
             ],
             [
              0.6666666666666666,
              "#ed7953"
             ],
             [
              0.7777777777777778,
              "#fb9f3a"
             ],
             [
              0.8888888888888888,
              "#fdca26"
             ],
             [
              1,
              "#f0f921"
             ]
            ],
            "type": "contour"
           }
          ],
          "contourcarpet": [
           {
            "colorbar": {
             "outlinewidth": 0,
             "ticks": ""
            },
            "type": "contourcarpet"
           }
          ],
          "heatmap": [
           {
            "colorbar": {
             "outlinewidth": 0,
             "ticks": ""
            },
            "colorscale": [
             [
              0,
              "#0d0887"
             ],
             [
              0.1111111111111111,
              "#46039f"
             ],
             [
              0.2222222222222222,
              "#7201a8"
             ],
             [
              0.3333333333333333,
              "#9c179e"
             ],
             [
              0.4444444444444444,
              "#bd3786"
             ],
             [
              0.5555555555555556,
              "#d8576b"
             ],
             [
              0.6666666666666666,
              "#ed7953"
             ],
             [
              0.7777777777777778,
              "#fb9f3a"
             ],
             [
              0.8888888888888888,
              "#fdca26"
             ],
             [
              1,
              "#f0f921"
             ]
            ],
            "type": "heatmap"
           }
          ],
          "heatmapgl": [
           {
            "colorbar": {
             "outlinewidth": 0,
             "ticks": ""
            },
            "colorscale": [
             [
              0,
              "#0d0887"
             ],
             [
              0.1111111111111111,
              "#46039f"
             ],
             [
              0.2222222222222222,
              "#7201a8"
             ],
             [
              0.3333333333333333,
              "#9c179e"
             ],
             [
              0.4444444444444444,
              "#bd3786"
             ],
             [
              0.5555555555555556,
              "#d8576b"
             ],
             [
              0.6666666666666666,
              "#ed7953"
             ],
             [
              0.7777777777777778,
              "#fb9f3a"
             ],
             [
              0.8888888888888888,
              "#fdca26"
             ],
             [
              1,
              "#f0f921"
             ]
            ],
            "type": "heatmapgl"
           }
          ],
          "histogram": [
           {
            "marker": {
             "pattern": {
              "fillmode": "overlay",
              "size": 10,
              "solidity": 0.2
             }
            },
            "type": "histogram"
           }
          ],
          "histogram2d": [
           {
            "colorbar": {
             "outlinewidth": 0,
             "ticks": ""
            },
            "colorscale": [
             [
              0,
              "#0d0887"
             ],
             [
              0.1111111111111111,
              "#46039f"
             ],
             [
              0.2222222222222222,
              "#7201a8"
             ],
             [
              0.3333333333333333,
              "#9c179e"
             ],
             [
              0.4444444444444444,
              "#bd3786"
             ],
             [
              0.5555555555555556,
              "#d8576b"
             ],
             [
              0.6666666666666666,
              "#ed7953"
             ],
             [
              0.7777777777777778,
              "#fb9f3a"
             ],
             [
              0.8888888888888888,
              "#fdca26"
             ],
             [
              1,
              "#f0f921"
             ]
            ],
            "type": "histogram2d"
           }
          ],
          "histogram2dcontour": [
           {
            "colorbar": {
             "outlinewidth": 0,
             "ticks": ""
            },
            "colorscale": [
             [
              0,
              "#0d0887"
             ],
             [
              0.1111111111111111,
              "#46039f"
             ],
             [
              0.2222222222222222,
              "#7201a8"
             ],
             [
              0.3333333333333333,
              "#9c179e"
             ],
             [
              0.4444444444444444,
              "#bd3786"
             ],
             [
              0.5555555555555556,
              "#d8576b"
             ],
             [
              0.6666666666666666,
              "#ed7953"
             ],
             [
              0.7777777777777778,
              "#fb9f3a"
             ],
             [
              0.8888888888888888,
              "#fdca26"
             ],
             [
              1,
              "#f0f921"
             ]
            ],
            "type": "histogram2dcontour"
           }
          ],
          "mesh3d": [
           {
            "colorbar": {
             "outlinewidth": 0,
             "ticks": ""
            },
            "type": "mesh3d"
           }
          ],
          "parcoords": [
           {
            "line": {
             "colorbar": {
              "outlinewidth": 0,
              "ticks": ""
             }
            },
            "type": "parcoords"
           }
          ],
          "pie": [
           {
            "automargin": true,
            "type": "pie"
           }
          ],
          "scatter": [
           {
            "marker": {
             "colorbar": {
              "outlinewidth": 0,
              "ticks": ""
             }
            },
            "type": "scatter"
           }
          ],
          "scatter3d": [
           {
            "line": {
             "colorbar": {
              "outlinewidth": 0,
              "ticks": ""
             }
            },
            "marker": {
             "colorbar": {
              "outlinewidth": 0,
              "ticks": ""
             }
            },
            "type": "scatter3d"
           }
          ],
          "scattercarpet": [
           {
            "marker": {
             "colorbar": {
              "outlinewidth": 0,
              "ticks": ""
             }
            },
            "type": "scattercarpet"
           }
          ],
          "scattergeo": [
           {
            "marker": {
             "colorbar": {
              "outlinewidth": 0,
              "ticks": ""
             }
            },
            "type": "scattergeo"
           }
          ],
          "scattergl": [
           {
            "marker": {
             "colorbar": {
              "outlinewidth": 0,
              "ticks": ""
             }
            },
            "type": "scattergl"
           }
          ],
          "scattermapbox": [
           {
            "marker": {
             "colorbar": {
              "outlinewidth": 0,
              "ticks": ""
             }
            },
            "type": "scattermapbox"
           }
          ],
          "scatterpolar": [
           {
            "marker": {
             "colorbar": {
              "outlinewidth": 0,
              "ticks": ""
             }
            },
            "type": "scatterpolar"
           }
          ],
          "scatterpolargl": [
           {
            "marker": {
             "colorbar": {
              "outlinewidth": 0,
              "ticks": ""
             }
            },
            "type": "scatterpolargl"
           }
          ],
          "scatterternary": [
           {
            "marker": {
             "colorbar": {
              "outlinewidth": 0,
              "ticks": ""
             }
            },
            "type": "scatterternary"
           }
          ],
          "surface": [
           {
            "colorbar": {
             "outlinewidth": 0,
             "ticks": ""
            },
            "colorscale": [
             [
              0,
              "#0d0887"
             ],
             [
              0.1111111111111111,
              "#46039f"
             ],
             [
              0.2222222222222222,
              "#7201a8"
             ],
             [
              0.3333333333333333,
              "#9c179e"
             ],
             [
              0.4444444444444444,
              "#bd3786"
             ],
             [
              0.5555555555555556,
              "#d8576b"
             ],
             [
              0.6666666666666666,
              "#ed7953"
             ],
             [
              0.7777777777777778,
              "#fb9f3a"
             ],
             [
              0.8888888888888888,
              "#fdca26"
             ],
             [
              1,
              "#f0f921"
             ]
            ],
            "type": "surface"
           }
          ],
          "table": [
           {
            "cells": {
             "fill": {
              "color": "#EBF0F8"
             },
             "line": {
              "color": "white"
             }
            },
            "header": {
             "fill": {
              "color": "#C8D4E3"
             },
             "line": {
              "color": "white"
             }
            },
            "type": "table"
           }
          ]
         },
         "layout": {
          "annotationdefaults": {
           "arrowcolor": "#2a3f5f",
           "arrowhead": 0,
           "arrowwidth": 1
          },
          "autotypenumbers": "strict",
          "coloraxis": {
           "colorbar": {
            "outlinewidth": 0,
            "ticks": ""
           }
          },
          "colorscale": {
           "diverging": [
            [
             0,
             "#8e0152"
            ],
            [
             0.1,
             "#c51b7d"
            ],
            [
             0.2,
             "#de77ae"
            ],
            [
             0.3,
             "#f1b6da"
            ],
            [
             0.4,
             "#fde0ef"
            ],
            [
             0.5,
             "#f7f7f7"
            ],
            [
             0.6,
             "#e6f5d0"
            ],
            [
             0.7,
             "#b8e186"
            ],
            [
             0.8,
             "#7fbc41"
            ],
            [
             0.9,
             "#4d9221"
            ],
            [
             1,
             "#276419"
            ]
           ],
           "sequential": [
            [
             0,
             "#0d0887"
            ],
            [
             0.1111111111111111,
             "#46039f"
            ],
            [
             0.2222222222222222,
             "#7201a8"
            ],
            [
             0.3333333333333333,
             "#9c179e"
            ],
            [
             0.4444444444444444,
             "#bd3786"
            ],
            [
             0.5555555555555556,
             "#d8576b"
            ],
            [
             0.6666666666666666,
             "#ed7953"
            ],
            [
             0.7777777777777778,
             "#fb9f3a"
            ],
            [
             0.8888888888888888,
             "#fdca26"
            ],
            [
             1,
             "#f0f921"
            ]
           ],
           "sequentialminus": [
            [
             0,
             "#0d0887"
            ],
            [
             0.1111111111111111,
             "#46039f"
            ],
            [
             0.2222222222222222,
             "#7201a8"
            ],
            [
             0.3333333333333333,
             "#9c179e"
            ],
            [
             0.4444444444444444,
             "#bd3786"
            ],
            [
             0.5555555555555556,
             "#d8576b"
            ],
            [
             0.6666666666666666,
             "#ed7953"
            ],
            [
             0.7777777777777778,
             "#fb9f3a"
            ],
            [
             0.8888888888888888,
             "#fdca26"
            ],
            [
             1,
             "#f0f921"
            ]
           ]
          },
          "colorway": [
           "#636efa",
           "#EF553B",
           "#00cc96",
           "#ab63fa",
           "#FFA15A",
           "#19d3f3",
           "#FF6692",
           "#B6E880",
           "#FF97FF",
           "#FECB52"
          ],
          "font": {
           "color": "#2a3f5f"
          },
          "geo": {
           "bgcolor": "white",
           "lakecolor": "white",
           "landcolor": "#E5ECF6",
           "showlakes": true,
           "showland": true,
           "subunitcolor": "white"
          },
          "hoverlabel": {
           "align": "left"
          },
          "hovermode": "closest",
          "mapbox": {
           "style": "light"
          },
          "paper_bgcolor": "white",
          "plot_bgcolor": "#E5ECF6",
          "polar": {
           "angularaxis": {
            "gridcolor": "white",
            "linecolor": "white",
            "ticks": ""
           },
           "bgcolor": "#E5ECF6",
           "radialaxis": {
            "gridcolor": "white",
            "linecolor": "white",
            "ticks": ""
           }
          },
          "scene": {
           "xaxis": {
            "backgroundcolor": "#E5ECF6",
            "gridcolor": "white",
            "gridwidth": 2,
            "linecolor": "white",
            "showbackground": true,
            "ticks": "",
            "zerolinecolor": "white"
           },
           "yaxis": {
            "backgroundcolor": "#E5ECF6",
            "gridcolor": "white",
            "gridwidth": 2,
            "linecolor": "white",
            "showbackground": true,
            "ticks": "",
            "zerolinecolor": "white"
           },
           "zaxis": {
            "backgroundcolor": "#E5ECF6",
            "gridcolor": "white",
            "gridwidth": 2,
            "linecolor": "white",
            "showbackground": true,
            "ticks": "",
            "zerolinecolor": "white"
           }
          },
          "shapedefaults": {
           "line": {
            "color": "#2a3f5f"
           }
          },
          "ternary": {
           "aaxis": {
            "gridcolor": "white",
            "linecolor": "white",
            "ticks": ""
           },
           "baxis": {
            "gridcolor": "white",
            "linecolor": "white",
            "ticks": ""
           },
           "bgcolor": "#E5ECF6",
           "caxis": {
            "gridcolor": "white",
            "linecolor": "white",
            "ticks": ""
           }
          },
          "title": {
           "x": 0.05
          },
          "xaxis": {
           "automargin": true,
           "gridcolor": "white",
           "linecolor": "white",
           "ticks": "",
           "title": {
            "standoff": 15
           },
           "zerolinecolor": "white",
           "zerolinewidth": 2
          },
          "yaxis": {
           "automargin": true,
           "gridcolor": "white",
           "linecolor": "white",
           "ticks": "",
           "title": {
            "standoff": 15
           },
           "zerolinecolor": "white",
           "zerolinewidth": 2
          }
         }
        }
       }
      }
     },
     "metadata": {},
     "output_type": "display_data"
    }
   ],
   "source": [
    "\n",
    "\n",
    "fig = px.scatter_mapbox(fur_hectare_corr, lat=\"Y\", lon=\"X\", color=\"Primary Fur Color\", zoom=12, height=300,center=dict(lon= -73.965957, lat=40.782175),size = 0)\n",
    "\n",
    "fig.update_layout(mapbox_style=\"stamen-terrain\", mapbox_zoom=6, mapbox_center_lat = 41,\n",
    "    margin={\"r\":0,\"t\":0,\"l\":0,\"b\":0})\n",
    "\n",
    "fig.show()\n"
   ]
  },
  {
   "cell_type": "markdown",
   "metadata": {},
   "source": [
    "We can see that just in 6% of the Hectares all three fur colors were spotted, in 50% of the land lots two types were register, the remaining 43% juts one color was spotted(Gray), by this i can asume that they do interacte with eachother but like i say earlier the grays one have the power in numbers!"
   ]
  },
  {
   "cell_type": "markdown",
   "metadata": {},
   "source": [
    "### Do they interact with humans? Either fur color or age have infulence? The location is a factor for  the interactions?"
   ]
  },
  {
   "cell_type": "code",
   "execution_count": 35,
   "metadata": {},
   "outputs": [],
   "source": [
    "columns_activities = ['Running', 'Chasing', 'Climbing', 'Eating','Other Activities','Foraging']"
   ]
  },
  {
   "cell_type": "code",
   "execution_count": 51,
   "metadata": {},
   "outputs": [
    {
     "name": "stderr",
     "output_type": "stream",
     "text": [
      "C:\\Users\\raperez\\AppData\\Local\\Temp\\ipykernel_12232\\3010480614.py:1: FutureWarning:\n",
      "\n",
      "Indexing with multiple keys (implicitly converted to a tuple of keys) will be deprecated, use a list instead.\n",
      "\n"
     ]
    }
   ],
   "source": [
    "interaction_per_hectare = df.groupby('Hectare')['Kuks', 'Quaas', 'Moans', 'Tail flags',\n",
    "       'Tail twitches', 'Approaches', 'Runs from',\n",
    "       'Other Interactions'].sum().reset_index()\n",
    "\n",
    "no_interaction_per_hectare = df.groupby('Hectare')['Indifferent'].sum().reset_index()"
   ]
  },
  {
   "cell_type": "code",
   "execution_count": 61,
   "metadata": {},
   "outputs": [
    {
     "data": {
      "text/plain": [
       "1454"
      ]
     },
     "execution_count": 61,
     "metadata": {},
     "output_type": "execute_result"
    }
   ],
   "source": [
    "\n",
    "no_interaction_per_hectare['Indifferent'].sum()"
   ]
  },
  {
   "cell_type": "code",
   "execution_count": 52,
   "metadata": {},
   "outputs": [
    {
     "data": {
      "text/html": [
       "<div>\n",
       "<style scoped>\n",
       "    .dataframe tbody tr th:only-of-type {\n",
       "        vertical-align: middle;\n",
       "    }\n",
       "\n",
       "    .dataframe tbody tr th {\n",
       "        vertical-align: top;\n",
       "    }\n",
       "\n",
       "    .dataframe thead th {\n",
       "        text-align: right;\n",
       "    }\n",
       "</style>\n",
       "<table border=\"1\" class=\"dataframe\">\n",
       "  <thead>\n",
       "    <tr style=\"text-align: right;\">\n",
       "      <th></th>\n",
       "      <th>Hectare</th>\n",
       "      <th>n_interactions</th>\n",
       "    </tr>\n",
       "  </thead>\n",
       "  <tbody>\n",
       "    <tr>\n",
       "      <th>0</th>\n",
       "      <td>38C</td>\n",
       "      <td>29</td>\n",
       "    </tr>\n",
       "    <tr>\n",
       "      <th>1</th>\n",
       "      <td>33D</td>\n",
       "      <td>20</td>\n",
       "    </tr>\n",
       "    <tr>\n",
       "      <th>2</th>\n",
       "      <td>38G</td>\n",
       "      <td>19</td>\n",
       "    </tr>\n",
       "    <tr>\n",
       "      <th>3</th>\n",
       "      <td>32D</td>\n",
       "      <td>18</td>\n",
       "    </tr>\n",
       "    <tr>\n",
       "      <th>4</th>\n",
       "      <td>16E</td>\n",
       "      <td>17</td>\n",
       "    </tr>\n",
       "    <tr>\n",
       "      <th>5</th>\n",
       "      <td>07H</td>\n",
       "      <td>17</td>\n",
       "    </tr>\n",
       "    <tr>\n",
       "      <th>6</th>\n",
       "      <td>03F</td>\n",
       "      <td>17</td>\n",
       "    </tr>\n",
       "    <tr>\n",
       "      <th>7</th>\n",
       "      <td>09B</td>\n",
       "      <td>16</td>\n",
       "    </tr>\n",
       "    <tr>\n",
       "      <th>8</th>\n",
       "      <td>30B</td>\n",
       "      <td>15</td>\n",
       "    </tr>\n",
       "    <tr>\n",
       "      <th>9</th>\n",
       "      <td>36I</td>\n",
       "      <td>15</td>\n",
       "    </tr>\n",
       "  </tbody>\n",
       "</table>\n",
       "</div>"
      ],
      "text/plain": [
       "  Hectare  n_interactions\n",
       "0     38C              29\n",
       "1     33D              20\n",
       "2     38G              19\n",
       "3     32D              18\n",
       "4     16E              17\n",
       "5     07H              17\n",
       "6     03F              17\n",
       "7     09B              16\n",
       "8     30B              15\n",
       "9     36I              15"
      ]
     },
     "execution_count": 52,
     "metadata": {},
     "output_type": "execute_result"
    }
   ],
   "source": [
    "interaction_per_hectare = interaction_per_hectare.set_index('Hectare').sum(axis = 1).sort_values(ascending = False).to_frame().reset_index()\n",
    "interaction_per_hectare.columns = ['Hectare',\"n_interactions\"]\n",
    "interaction_per_hectare.head(10)"
   ]
  },
  {
   "cell_type": "code",
   "execution_count": 63,
   "metadata": {},
   "outputs": [
    {
     "data": {
      "text/plain": [
       "1600"
      ]
     },
     "execution_count": 63,
     "metadata": {},
     "output_type": "execute_result"
    }
   ],
   "source": [
    "interaction_per_hectare['n_interactions'].sum()"
   ]
  },
  {
   "cell_type": "code",
   "execution_count": 53,
   "metadata": {},
   "outputs": [],
   "source": [
    "n_squirrels_interactions = pd.merge(n_squirrels_by_hectare[['Hectare','n_squirrels']],interaction_per_hectare,on = 'Hectare',how = 'inner')"
   ]
  },
  {
   "cell_type": "code",
   "execution_count": 54,
   "metadata": {},
   "outputs": [
    {
     "name": "stderr",
     "output_type": "stream",
     "text": [
      "c:\\Users\\raperez\\Documents\\seedtag-data-science-codetest\\data-science-test-main\\seedtag\\lib\\site-packages\\statsmodels\\compat\\pandas.py:65: FutureWarning:\n",
      "\n",
      "pandas.Int64Index is deprecated and will be removed from pandas in a future version. Use pandas.Index with the appropriate dtype instead.\n",
      "\n"
     ]
    },
    {
     "data": {
      "application/vnd.plotly.v1+json": {
       "config": {
        "plotlyServerURL": "https://plot.ly"
       },
       "data": [
        {
         "hovertemplate": "n_squirrels=%{x}<br>n_interactions=%{y}<extra></extra>",
         "legendgroup": "",
         "marker": {
          "color": "#636efa",
          "symbol": "circle"
         },
         "mode": "markers",
         "name": "",
         "orientation": "v",
         "showlegend": false,
         "type": "scatter",
         "x": [
          32,
          30,
          28,
          27,
          26,
          25,
          24,
          22,
          22,
          22,
          21,
          21,
          21,
          21,
          21,
          21,
          21,
          21,
          21,
          20,
          20,
          20,
          20,
          19,
          19,
          19,
          18,
          18,
          18,
          18,
          17,
          17,
          17,
          17,
          17,
          17,
          17,
          16,
          16,
          16,
          16,
          16,
          16,
          16,
          15,
          15,
          15,
          15,
          15,
          15,
          15,
          15,
          15,
          15,
          15,
          15,
          15,
          14,
          14,
          14,
          14,
          14,
          14,
          14,
          14,
          13,
          13,
          13,
          13,
          13,
          13,
          13,
          13,
          12,
          12,
          12,
          12,
          12,
          12,
          12,
          12,
          12,
          12,
          12,
          12,
          12,
          12,
          12,
          12,
          11,
          11,
          11,
          11,
          11,
          11,
          11,
          11,
          11,
          11,
          11,
          11,
          11,
          11,
          11,
          11,
          11,
          11,
          11,
          11,
          11,
          11,
          10,
          10,
          10,
          10,
          10,
          10,
          10,
          10,
          10,
          10,
          10,
          10,
          10,
          10,
          10,
          10,
          10,
          10,
          10,
          10,
          10,
          10,
          9,
          9,
          9,
          9,
          9,
          9,
          9,
          9,
          9,
          9,
          9,
          9,
          9,
          9,
          9,
          9,
          9,
          9,
          9,
          9,
          9,
          8,
          8,
          8,
          8,
          8,
          8,
          8,
          8,
          8,
          8,
          8,
          8,
          8,
          8,
          8,
          8,
          8,
          8,
          8,
          8,
          8,
          8,
          8,
          8,
          8,
          7,
          7,
          7,
          7,
          7,
          7,
          7,
          7,
          7,
          7,
          7,
          7,
          7,
          7,
          7,
          7,
          7,
          7,
          7,
          7,
          7,
          7,
          7,
          7,
          6,
          6,
          6,
          6,
          6,
          6,
          6,
          6,
          6,
          6,
          6,
          6,
          6,
          6,
          6,
          6,
          6,
          6,
          6,
          6,
          6,
          6,
          6,
          6,
          6,
          6,
          6,
          6,
          5,
          5,
          5,
          5,
          5,
          5,
          5,
          5,
          5,
          5,
          5,
          5,
          5,
          5,
          5,
          5,
          5,
          5,
          5,
          5,
          5,
          5,
          5,
          4,
          4,
          4,
          4,
          4,
          4,
          4,
          4,
          4,
          4,
          4,
          4,
          4,
          4,
          4,
          4,
          4,
          4,
          4,
          4,
          4,
          4,
          4,
          4,
          4,
          4,
          4,
          3,
          3,
          3,
          3,
          3,
          3,
          3,
          3,
          3,
          3,
          3,
          3,
          3,
          3,
          3,
          3,
          3,
          3,
          3,
          3,
          3,
          2,
          2,
          2,
          2,
          2,
          2,
          2,
          2,
          2,
          2,
          2,
          2,
          2,
          2,
          2,
          2,
          2,
          2,
          2,
          2,
          2,
          2,
          2,
          1,
          1,
          1,
          1,
          1,
          1,
          1,
          1,
          1,
          1,
          1,
          1,
          1,
          1
         ],
         "xaxis": "x",
         "y": [
          11,
          15,
          7,
          4,
          17,
          11,
          12,
          11,
          8,
          9,
          15,
          7,
          7,
          7,
          14,
          17,
          29,
          15,
          6,
          6,
          14,
          17,
          5,
          8,
          7,
          16,
          12,
          10,
          7,
          11,
          15,
          7,
          5,
          3,
          12,
          11,
          9,
          4,
          5,
          6,
          7,
          4,
          10,
          8,
          3,
          5,
          9,
          1,
          18,
          5,
          3,
          11,
          3,
          9,
          10,
          4,
          1,
          2,
          7,
          10,
          1,
          5,
          10,
          10,
          9,
          8,
          8,
          6,
          6,
          6,
          1,
          9,
          4,
          5,
          3,
          20,
          5,
          5,
          6,
          8,
          6,
          2,
          2,
          10,
          6,
          3,
          2,
          4,
          3,
          5,
          5,
          13,
          2,
          19,
          11,
          3,
          9,
          7,
          7,
          5,
          9,
          8,
          12,
          8,
          7,
          3,
          6,
          10,
          5,
          2,
          3,
          5,
          6,
          7,
          11,
          5,
          9,
          4,
          1,
          7,
          5,
          3,
          4,
          4,
          4,
          1,
          4,
          2,
          7,
          2,
          10,
          6,
          8,
          6,
          5,
          7,
          7,
          5,
          7,
          1,
          8,
          0,
          7,
          6,
          10,
          1,
          10,
          6,
          9,
          7,
          3,
          10,
          2,
          0,
          6,
          2,
          1,
          2,
          3,
          5,
          3,
          6,
          5,
          11,
          4,
          1,
          5,
          1,
          1,
          7,
          2,
          8,
          4,
          5,
          5,
          3,
          4,
          2,
          4,
          3,
          0,
          4,
          5,
          2,
          10,
          3,
          3,
          8,
          2,
          2,
          7,
          6,
          4,
          8,
          4,
          3,
          5,
          1,
          2,
          4,
          7,
          1,
          4,
          4,
          6,
          7,
          2,
          4,
          3,
          2,
          4,
          8,
          4,
          3,
          2,
          3,
          1,
          5,
          2,
          6,
          7,
          4,
          8,
          1,
          0,
          4,
          1,
          2,
          0,
          8,
          4,
          2,
          5,
          1,
          4,
          2,
          2,
          1,
          1,
          3,
          3,
          2,
          6,
          2,
          2,
          1,
          5,
          2,
          2,
          3,
          1,
          3,
          0,
          1,
          5,
          2,
          4,
          1,
          3,
          2,
          0,
          1,
          8,
          0,
          2,
          5,
          2,
          2,
          3,
          2,
          2,
          2,
          3,
          0,
          2,
          5,
          3,
          4,
          3,
          4,
          2,
          1,
          0,
          0,
          1,
          1,
          2,
          2,
          2,
          4,
          4,
          2,
          0,
          0,
          5,
          0,
          2,
          3,
          1,
          2,
          2,
          0,
          1,
          1,
          0,
          0,
          3,
          0,
          1,
          0,
          1,
          1,
          0,
          0,
          2,
          1,
          0,
          1,
          2,
          1,
          1,
          2,
          2,
          0,
          0,
          1,
          1,
          0,
          1,
          2,
          2,
          0,
          0,
          0,
          1,
          0,
          0,
          2,
          1
         ],
         "yaxis": "y"
        },
        {
         "hovertemplate": "<b>OLS trendline</b><br>n_interactions = 0.465462 * n_squirrels + 0.569054<br>R<sup>2</sup>=0.433192<br><br>n_squirrels=%{x}<br>n_interactions=%{y} <b>(trend)</b><extra></extra>",
         "legendgroup": "",
         "marker": {
          "color": "#636efa",
          "symbol": "circle"
         },
         "mode": "lines",
         "name": "",
         "showlegend": false,
         "type": "scatter",
         "x": [
          1,
          1,
          1,
          1,
          1,
          1,
          1,
          1,
          1,
          1,
          1,
          1,
          1,
          1,
          2,
          2,
          2,
          2,
          2,
          2,
          2,
          2,
          2,
          2,
          2,
          2,
          2,
          2,
          2,
          2,
          2,
          2,
          2,
          2,
          2,
          2,
          2,
          3,
          3,
          3,
          3,
          3,
          3,
          3,
          3,
          3,
          3,
          3,
          3,
          3,
          3,
          3,
          3,
          3,
          3,
          3,
          3,
          3,
          4,
          4,
          4,
          4,
          4,
          4,
          4,
          4,
          4,
          4,
          4,
          4,
          4,
          4,
          4,
          4,
          4,
          4,
          4,
          4,
          4,
          4,
          4,
          4,
          4,
          4,
          4,
          5,
          5,
          5,
          5,
          5,
          5,
          5,
          5,
          5,
          5,
          5,
          5,
          5,
          5,
          5,
          5,
          5,
          5,
          5,
          5,
          5,
          5,
          5,
          6,
          6,
          6,
          6,
          6,
          6,
          6,
          6,
          6,
          6,
          6,
          6,
          6,
          6,
          6,
          6,
          6,
          6,
          6,
          6,
          6,
          6,
          6,
          6,
          6,
          6,
          6,
          6,
          7,
          7,
          7,
          7,
          7,
          7,
          7,
          7,
          7,
          7,
          7,
          7,
          7,
          7,
          7,
          7,
          7,
          7,
          7,
          7,
          7,
          7,
          7,
          7,
          8,
          8,
          8,
          8,
          8,
          8,
          8,
          8,
          8,
          8,
          8,
          8,
          8,
          8,
          8,
          8,
          8,
          8,
          8,
          8,
          8,
          8,
          8,
          8,
          8,
          9,
          9,
          9,
          9,
          9,
          9,
          9,
          9,
          9,
          9,
          9,
          9,
          9,
          9,
          9,
          9,
          9,
          9,
          9,
          9,
          9,
          10,
          10,
          10,
          10,
          10,
          10,
          10,
          10,
          10,
          10,
          10,
          10,
          10,
          10,
          10,
          10,
          10,
          10,
          10,
          10,
          10,
          10,
          11,
          11,
          11,
          11,
          11,
          11,
          11,
          11,
          11,
          11,
          11,
          11,
          11,
          11,
          11,
          11,
          11,
          11,
          11,
          11,
          11,
          11,
          12,
          12,
          12,
          12,
          12,
          12,
          12,
          12,
          12,
          12,
          12,
          12,
          12,
          12,
          12,
          12,
          13,
          13,
          13,
          13,
          13,
          13,
          13,
          13,
          14,
          14,
          14,
          14,
          14,
          14,
          14,
          14,
          15,
          15,
          15,
          15,
          15,
          15,
          15,
          15,
          15,
          15,
          15,
          15,
          15,
          16,
          16,
          16,
          16,
          16,
          16,
          16,
          17,
          17,
          17,
          17,
          17,
          17,
          17,
          18,
          18,
          18,
          18,
          19,
          19,
          19,
          20,
          20,
          20,
          20,
          21,
          21,
          21,
          21,
          21,
          21,
          21,
          21,
          21,
          22,
          22,
          22,
          24,
          25,
          26,
          27,
          28,
          30,
          32
         ],
         "xaxis": "x",
         "y": [
          1.0345160396479394,
          1.0345160396479394,
          1.0345160396479394,
          1.0345160396479394,
          1.0345160396479394,
          1.0345160396479394,
          1.0345160396479394,
          1.0345160396479394,
          1.0345160396479394,
          1.0345160396479394,
          1.0345160396479394,
          1.0345160396479394,
          1.0345160396479394,
          1.0345160396479394,
          1.4999776873973243,
          1.4999776873973243,
          1.4999776873973243,
          1.4999776873973243,
          1.4999776873973243,
          1.4999776873973243,
          1.4999776873973243,
          1.4999776873973243,
          1.4999776873973243,
          1.4999776873973243,
          1.4999776873973243,
          1.4999776873973243,
          1.4999776873973243,
          1.4999776873973243,
          1.4999776873973243,
          1.4999776873973243,
          1.4999776873973243,
          1.4999776873973243,
          1.4999776873973243,
          1.4999776873973243,
          1.4999776873973243,
          1.4999776873973243,
          1.4999776873973243,
          1.9654393351467092,
          1.9654393351467092,
          1.9654393351467092,
          1.9654393351467092,
          1.9654393351467092,
          1.9654393351467092,
          1.9654393351467092,
          1.9654393351467092,
          1.9654393351467092,
          1.9654393351467092,
          1.9654393351467092,
          1.9654393351467092,
          1.9654393351467092,
          1.9654393351467092,
          1.9654393351467092,
          1.9654393351467092,
          1.9654393351467092,
          1.9654393351467092,
          1.9654393351467092,
          1.9654393351467092,
          1.9654393351467092,
          2.430900982896094,
          2.430900982896094,
          2.430900982896094,
          2.430900982896094,
          2.430900982896094,
          2.430900982896094,
          2.430900982896094,
          2.430900982896094,
          2.430900982896094,
          2.430900982896094,
          2.430900982896094,
          2.430900982896094,
          2.430900982896094,
          2.430900982896094,
          2.430900982896094,
          2.430900982896094,
          2.430900982896094,
          2.430900982896094,
          2.430900982896094,
          2.430900982896094,
          2.430900982896094,
          2.430900982896094,
          2.430900982896094,
          2.430900982896094,
          2.430900982896094,
          2.430900982896094,
          2.430900982896094,
          2.8963626306454793,
          2.8963626306454793,
          2.8963626306454793,
          2.8963626306454793,
          2.8963626306454793,
          2.8963626306454793,
          2.8963626306454793,
          2.8963626306454793,
          2.8963626306454793,
          2.8963626306454793,
          2.8963626306454793,
          2.8963626306454793,
          2.8963626306454793,
          2.8963626306454793,
          2.8963626306454793,
          2.8963626306454793,
          2.8963626306454793,
          2.8963626306454793,
          2.8963626306454793,
          2.8963626306454793,
          2.8963626306454793,
          2.8963626306454793,
          2.8963626306454793,
          3.361824278394864,
          3.361824278394864,
          3.361824278394864,
          3.361824278394864,
          3.361824278394864,
          3.361824278394864,
          3.361824278394864,
          3.361824278394864,
          3.361824278394864,
          3.361824278394864,
          3.361824278394864,
          3.361824278394864,
          3.361824278394864,
          3.361824278394864,
          3.361824278394864,
          3.361824278394864,
          3.361824278394864,
          3.361824278394864,
          3.361824278394864,
          3.361824278394864,
          3.361824278394864,
          3.361824278394864,
          3.361824278394864,
          3.361824278394864,
          3.361824278394864,
          3.361824278394864,
          3.361824278394864,
          3.361824278394864,
          3.8272859261442487,
          3.8272859261442487,
          3.8272859261442487,
          3.8272859261442487,
          3.8272859261442487,
          3.8272859261442487,
          3.8272859261442487,
          3.8272859261442487,
          3.8272859261442487,
          3.8272859261442487,
          3.8272859261442487,
          3.8272859261442487,
          3.8272859261442487,
          3.8272859261442487,
          3.8272859261442487,
          3.8272859261442487,
          3.8272859261442487,
          3.8272859261442487,
          3.8272859261442487,
          3.8272859261442487,
          3.8272859261442487,
          3.8272859261442487,
          3.8272859261442487,
          3.8272859261442487,
          4.292747573893633,
          4.292747573893633,
          4.292747573893633,
          4.292747573893633,
          4.292747573893633,
          4.292747573893633,
          4.292747573893633,
          4.292747573893633,
          4.292747573893633,
          4.292747573893633,
          4.292747573893633,
          4.292747573893633,
          4.292747573893633,
          4.292747573893633,
          4.292747573893633,
          4.292747573893633,
          4.292747573893633,
          4.292747573893633,
          4.292747573893633,
          4.292747573893633,
          4.292747573893633,
          4.292747573893633,
          4.292747573893633,
          4.292747573893633,
          4.292747573893633,
          4.758209221643019,
          4.758209221643019,
          4.758209221643019,
          4.758209221643019,
          4.758209221643019,
          4.758209221643019,
          4.758209221643019,
          4.758209221643019,
          4.758209221643019,
          4.758209221643019,
          4.758209221643019,
          4.758209221643019,
          4.758209221643019,
          4.758209221643019,
          4.758209221643019,
          4.758209221643019,
          4.758209221643019,
          4.758209221643019,
          4.758209221643019,
          4.758209221643019,
          4.758209221643019,
          5.223670869392404,
          5.223670869392404,
          5.223670869392404,
          5.223670869392404,
          5.223670869392404,
          5.223670869392404,
          5.223670869392404,
          5.223670869392404,
          5.223670869392404,
          5.223670869392404,
          5.223670869392404,
          5.223670869392404,
          5.223670869392404,
          5.223670869392404,
          5.223670869392404,
          5.223670869392404,
          5.223670869392404,
          5.223670869392404,
          5.223670869392404,
          5.223670869392404,
          5.223670869392404,
          5.223670869392404,
          5.689132517141788,
          5.689132517141788,
          5.689132517141788,
          5.689132517141788,
          5.689132517141788,
          5.689132517141788,
          5.689132517141788,
          5.689132517141788,
          5.689132517141788,
          5.689132517141788,
          5.689132517141788,
          5.689132517141788,
          5.689132517141788,
          5.689132517141788,
          5.689132517141788,
          5.689132517141788,
          5.689132517141788,
          5.689132517141788,
          5.689132517141788,
          5.689132517141788,
          5.689132517141788,
          5.689132517141788,
          6.154594164891174,
          6.154594164891174,
          6.154594164891174,
          6.154594164891174,
          6.154594164891174,
          6.154594164891174,
          6.154594164891174,
          6.154594164891174,
          6.154594164891174,
          6.154594164891174,
          6.154594164891174,
          6.154594164891174,
          6.154594164891174,
          6.154594164891174,
          6.154594164891174,
          6.154594164891174,
          6.620055812640558,
          6.620055812640558,
          6.620055812640558,
          6.620055812640558,
          6.620055812640558,
          6.620055812640558,
          6.620055812640558,
          6.620055812640558,
          7.0855174603899425,
          7.0855174603899425,
          7.0855174603899425,
          7.0855174603899425,
          7.0855174603899425,
          7.0855174603899425,
          7.0855174603899425,
          7.0855174603899425,
          7.5509791081393285,
          7.5509791081393285,
          7.5509791081393285,
          7.5509791081393285,
          7.5509791081393285,
          7.5509791081393285,
          7.5509791081393285,
          7.5509791081393285,
          7.5509791081393285,
          7.5509791081393285,
          7.5509791081393285,
          7.5509791081393285,
          7.5509791081393285,
          8.016440755888713,
          8.016440755888713,
          8.016440755888713,
          8.016440755888713,
          8.016440755888713,
          8.016440755888713,
          8.016440755888713,
          8.481902403638099,
          8.481902403638099,
          8.481902403638099,
          8.481902403638099,
          8.481902403638099,
          8.481902403638099,
          8.481902403638099,
          8.947364051387483,
          8.947364051387483,
          8.947364051387483,
          8.947364051387483,
          9.412825699136867,
          9.412825699136867,
          9.412825699136867,
          9.878287346886253,
          9.878287346886253,
          9.878287346886253,
          9.878287346886253,
          10.343748994635638,
          10.343748994635638,
          10.343748994635638,
          10.343748994635638,
          10.343748994635638,
          10.343748994635638,
          10.343748994635638,
          10.343748994635638,
          10.343748994635638,
          10.809210642385022,
          10.809210642385022,
          10.809210642385022,
          11.740133937883792,
          12.205595585633176,
          12.671057233382562,
          13.136518881131947,
          13.601980528881331,
          14.532903824380101,
          15.463827119878871
         ],
         "yaxis": "y"
        }
       ],
       "layout": {
        "legend": {
         "tracegroupgap": 0
        },
        "margin": {
         "t": 60
        },
        "template": {
         "data": {
          "bar": [
           {
            "error_x": {
             "color": "#2a3f5f"
            },
            "error_y": {
             "color": "#2a3f5f"
            },
            "marker": {
             "line": {
              "color": "#E5ECF6",
              "width": 0.5
             },
             "pattern": {
              "fillmode": "overlay",
              "size": 10,
              "solidity": 0.2
             }
            },
            "type": "bar"
           }
          ],
          "barpolar": [
           {
            "marker": {
             "line": {
              "color": "#E5ECF6",
              "width": 0.5
             },
             "pattern": {
              "fillmode": "overlay",
              "size": 10,
              "solidity": 0.2
             }
            },
            "type": "barpolar"
           }
          ],
          "carpet": [
           {
            "aaxis": {
             "endlinecolor": "#2a3f5f",
             "gridcolor": "white",
             "linecolor": "white",
             "minorgridcolor": "white",
             "startlinecolor": "#2a3f5f"
            },
            "baxis": {
             "endlinecolor": "#2a3f5f",
             "gridcolor": "white",
             "linecolor": "white",
             "minorgridcolor": "white",
             "startlinecolor": "#2a3f5f"
            },
            "type": "carpet"
           }
          ],
          "choropleth": [
           {
            "colorbar": {
             "outlinewidth": 0,
             "ticks": ""
            },
            "type": "choropleth"
           }
          ],
          "contour": [
           {
            "colorbar": {
             "outlinewidth": 0,
             "ticks": ""
            },
            "colorscale": [
             [
              0,
              "#0d0887"
             ],
             [
              0.1111111111111111,
              "#46039f"
             ],
             [
              0.2222222222222222,
              "#7201a8"
             ],
             [
              0.3333333333333333,
              "#9c179e"
             ],
             [
              0.4444444444444444,
              "#bd3786"
             ],
             [
              0.5555555555555556,
              "#d8576b"
             ],
             [
              0.6666666666666666,
              "#ed7953"
             ],
             [
              0.7777777777777778,
              "#fb9f3a"
             ],
             [
              0.8888888888888888,
              "#fdca26"
             ],
             [
              1,
              "#f0f921"
             ]
            ],
            "type": "contour"
           }
          ],
          "contourcarpet": [
           {
            "colorbar": {
             "outlinewidth": 0,
             "ticks": ""
            },
            "type": "contourcarpet"
           }
          ],
          "heatmap": [
           {
            "colorbar": {
             "outlinewidth": 0,
             "ticks": ""
            },
            "colorscale": [
             [
              0,
              "#0d0887"
             ],
             [
              0.1111111111111111,
              "#46039f"
             ],
             [
              0.2222222222222222,
              "#7201a8"
             ],
             [
              0.3333333333333333,
              "#9c179e"
             ],
             [
              0.4444444444444444,
              "#bd3786"
             ],
             [
              0.5555555555555556,
              "#d8576b"
             ],
             [
              0.6666666666666666,
              "#ed7953"
             ],
             [
              0.7777777777777778,
              "#fb9f3a"
             ],
             [
              0.8888888888888888,
              "#fdca26"
             ],
             [
              1,
              "#f0f921"
             ]
            ],
            "type": "heatmap"
           }
          ],
          "heatmapgl": [
           {
            "colorbar": {
             "outlinewidth": 0,
             "ticks": ""
            },
            "colorscale": [
             [
              0,
              "#0d0887"
             ],
             [
              0.1111111111111111,
              "#46039f"
             ],
             [
              0.2222222222222222,
              "#7201a8"
             ],
             [
              0.3333333333333333,
              "#9c179e"
             ],
             [
              0.4444444444444444,
              "#bd3786"
             ],
             [
              0.5555555555555556,
              "#d8576b"
             ],
             [
              0.6666666666666666,
              "#ed7953"
             ],
             [
              0.7777777777777778,
              "#fb9f3a"
             ],
             [
              0.8888888888888888,
              "#fdca26"
             ],
             [
              1,
              "#f0f921"
             ]
            ],
            "type": "heatmapgl"
           }
          ],
          "histogram": [
           {
            "marker": {
             "pattern": {
              "fillmode": "overlay",
              "size": 10,
              "solidity": 0.2
             }
            },
            "type": "histogram"
           }
          ],
          "histogram2d": [
           {
            "colorbar": {
             "outlinewidth": 0,
             "ticks": ""
            },
            "colorscale": [
             [
              0,
              "#0d0887"
             ],
             [
              0.1111111111111111,
              "#46039f"
             ],
             [
              0.2222222222222222,
              "#7201a8"
             ],
             [
              0.3333333333333333,
              "#9c179e"
             ],
             [
              0.4444444444444444,
              "#bd3786"
             ],
             [
              0.5555555555555556,
              "#d8576b"
             ],
             [
              0.6666666666666666,
              "#ed7953"
             ],
             [
              0.7777777777777778,
              "#fb9f3a"
             ],
             [
              0.8888888888888888,
              "#fdca26"
             ],
             [
              1,
              "#f0f921"
             ]
            ],
            "type": "histogram2d"
           }
          ],
          "histogram2dcontour": [
           {
            "colorbar": {
             "outlinewidth": 0,
             "ticks": ""
            },
            "colorscale": [
             [
              0,
              "#0d0887"
             ],
             [
              0.1111111111111111,
              "#46039f"
             ],
             [
              0.2222222222222222,
              "#7201a8"
             ],
             [
              0.3333333333333333,
              "#9c179e"
             ],
             [
              0.4444444444444444,
              "#bd3786"
             ],
             [
              0.5555555555555556,
              "#d8576b"
             ],
             [
              0.6666666666666666,
              "#ed7953"
             ],
             [
              0.7777777777777778,
              "#fb9f3a"
             ],
             [
              0.8888888888888888,
              "#fdca26"
             ],
             [
              1,
              "#f0f921"
             ]
            ],
            "type": "histogram2dcontour"
           }
          ],
          "mesh3d": [
           {
            "colorbar": {
             "outlinewidth": 0,
             "ticks": ""
            },
            "type": "mesh3d"
           }
          ],
          "parcoords": [
           {
            "line": {
             "colorbar": {
              "outlinewidth": 0,
              "ticks": ""
             }
            },
            "type": "parcoords"
           }
          ],
          "pie": [
           {
            "automargin": true,
            "type": "pie"
           }
          ],
          "scatter": [
           {
            "marker": {
             "colorbar": {
              "outlinewidth": 0,
              "ticks": ""
             }
            },
            "type": "scatter"
           }
          ],
          "scatter3d": [
           {
            "line": {
             "colorbar": {
              "outlinewidth": 0,
              "ticks": ""
             }
            },
            "marker": {
             "colorbar": {
              "outlinewidth": 0,
              "ticks": ""
             }
            },
            "type": "scatter3d"
           }
          ],
          "scattercarpet": [
           {
            "marker": {
             "colorbar": {
              "outlinewidth": 0,
              "ticks": ""
             }
            },
            "type": "scattercarpet"
           }
          ],
          "scattergeo": [
           {
            "marker": {
             "colorbar": {
              "outlinewidth": 0,
              "ticks": ""
             }
            },
            "type": "scattergeo"
           }
          ],
          "scattergl": [
           {
            "marker": {
             "colorbar": {
              "outlinewidth": 0,
              "ticks": ""
             }
            },
            "type": "scattergl"
           }
          ],
          "scattermapbox": [
           {
            "marker": {
             "colorbar": {
              "outlinewidth": 0,
              "ticks": ""
             }
            },
            "type": "scattermapbox"
           }
          ],
          "scatterpolar": [
           {
            "marker": {
             "colorbar": {
              "outlinewidth": 0,
              "ticks": ""
             }
            },
            "type": "scatterpolar"
           }
          ],
          "scatterpolargl": [
           {
            "marker": {
             "colorbar": {
              "outlinewidth": 0,
              "ticks": ""
             }
            },
            "type": "scatterpolargl"
           }
          ],
          "scatterternary": [
           {
            "marker": {
             "colorbar": {
              "outlinewidth": 0,
              "ticks": ""
             }
            },
            "type": "scatterternary"
           }
          ],
          "surface": [
           {
            "colorbar": {
             "outlinewidth": 0,
             "ticks": ""
            },
            "colorscale": [
             [
              0,
              "#0d0887"
             ],
             [
              0.1111111111111111,
              "#46039f"
             ],
             [
              0.2222222222222222,
              "#7201a8"
             ],
             [
              0.3333333333333333,
              "#9c179e"
             ],
             [
              0.4444444444444444,
              "#bd3786"
             ],
             [
              0.5555555555555556,
              "#d8576b"
             ],
             [
              0.6666666666666666,
              "#ed7953"
             ],
             [
              0.7777777777777778,
              "#fb9f3a"
             ],
             [
              0.8888888888888888,
              "#fdca26"
             ],
             [
              1,
              "#f0f921"
             ]
            ],
            "type": "surface"
           }
          ],
          "table": [
           {
            "cells": {
             "fill": {
              "color": "#EBF0F8"
             },
             "line": {
              "color": "white"
             }
            },
            "header": {
             "fill": {
              "color": "#C8D4E3"
             },
             "line": {
              "color": "white"
             }
            },
            "type": "table"
           }
          ]
         },
         "layout": {
          "annotationdefaults": {
           "arrowcolor": "#2a3f5f",
           "arrowhead": 0,
           "arrowwidth": 1
          },
          "autotypenumbers": "strict",
          "coloraxis": {
           "colorbar": {
            "outlinewidth": 0,
            "ticks": ""
           }
          },
          "colorscale": {
           "diverging": [
            [
             0,
             "#8e0152"
            ],
            [
             0.1,
             "#c51b7d"
            ],
            [
             0.2,
             "#de77ae"
            ],
            [
             0.3,
             "#f1b6da"
            ],
            [
             0.4,
             "#fde0ef"
            ],
            [
             0.5,
             "#f7f7f7"
            ],
            [
             0.6,
             "#e6f5d0"
            ],
            [
             0.7,
             "#b8e186"
            ],
            [
             0.8,
             "#7fbc41"
            ],
            [
             0.9,
             "#4d9221"
            ],
            [
             1,
             "#276419"
            ]
           ],
           "sequential": [
            [
             0,
             "#0d0887"
            ],
            [
             0.1111111111111111,
             "#46039f"
            ],
            [
             0.2222222222222222,
             "#7201a8"
            ],
            [
             0.3333333333333333,
             "#9c179e"
            ],
            [
             0.4444444444444444,
             "#bd3786"
            ],
            [
             0.5555555555555556,
             "#d8576b"
            ],
            [
             0.6666666666666666,
             "#ed7953"
            ],
            [
             0.7777777777777778,
             "#fb9f3a"
            ],
            [
             0.8888888888888888,
             "#fdca26"
            ],
            [
             1,
             "#f0f921"
            ]
           ],
           "sequentialminus": [
            [
             0,
             "#0d0887"
            ],
            [
             0.1111111111111111,
             "#46039f"
            ],
            [
             0.2222222222222222,
             "#7201a8"
            ],
            [
             0.3333333333333333,
             "#9c179e"
            ],
            [
             0.4444444444444444,
             "#bd3786"
            ],
            [
             0.5555555555555556,
             "#d8576b"
            ],
            [
             0.6666666666666666,
             "#ed7953"
            ],
            [
             0.7777777777777778,
             "#fb9f3a"
            ],
            [
             0.8888888888888888,
             "#fdca26"
            ],
            [
             1,
             "#f0f921"
            ]
           ]
          },
          "colorway": [
           "#636efa",
           "#EF553B",
           "#00cc96",
           "#ab63fa",
           "#FFA15A",
           "#19d3f3",
           "#FF6692",
           "#B6E880",
           "#FF97FF",
           "#FECB52"
          ],
          "font": {
           "color": "#2a3f5f"
          },
          "geo": {
           "bgcolor": "white",
           "lakecolor": "white",
           "landcolor": "#E5ECF6",
           "showlakes": true,
           "showland": true,
           "subunitcolor": "white"
          },
          "hoverlabel": {
           "align": "left"
          },
          "hovermode": "closest",
          "mapbox": {
           "style": "light"
          },
          "paper_bgcolor": "white",
          "plot_bgcolor": "#E5ECF6",
          "polar": {
           "angularaxis": {
            "gridcolor": "white",
            "linecolor": "white",
            "ticks": ""
           },
           "bgcolor": "#E5ECF6",
           "radialaxis": {
            "gridcolor": "white",
            "linecolor": "white",
            "ticks": ""
           }
          },
          "scene": {
           "xaxis": {
            "backgroundcolor": "#E5ECF6",
            "gridcolor": "white",
            "gridwidth": 2,
            "linecolor": "white",
            "showbackground": true,
            "ticks": "",
            "zerolinecolor": "white"
           },
           "yaxis": {
            "backgroundcolor": "#E5ECF6",
            "gridcolor": "white",
            "gridwidth": 2,
            "linecolor": "white",
            "showbackground": true,
            "ticks": "",
            "zerolinecolor": "white"
           },
           "zaxis": {
            "backgroundcolor": "#E5ECF6",
            "gridcolor": "white",
            "gridwidth": 2,
            "linecolor": "white",
            "showbackground": true,
            "ticks": "",
            "zerolinecolor": "white"
           }
          },
          "shapedefaults": {
           "line": {
            "color": "#2a3f5f"
           }
          },
          "ternary": {
           "aaxis": {
            "gridcolor": "white",
            "linecolor": "white",
            "ticks": ""
           },
           "baxis": {
            "gridcolor": "white",
            "linecolor": "white",
            "ticks": ""
           },
           "bgcolor": "#E5ECF6",
           "caxis": {
            "gridcolor": "white",
            "linecolor": "white",
            "ticks": ""
           }
          },
          "title": {
           "x": 0.05
          },
          "xaxis": {
           "automargin": true,
           "gridcolor": "white",
           "linecolor": "white",
           "ticks": "",
           "title": {
            "standoff": 15
           },
           "zerolinecolor": "white",
           "zerolinewidth": 2
          },
          "yaxis": {
           "automargin": true,
           "gridcolor": "white",
           "linecolor": "white",
           "ticks": "",
           "title": {
            "standoff": 15
           },
           "zerolinecolor": "white",
           "zerolinewidth": 2
          }
         }
        },
        "xaxis": {
         "anchor": "y",
         "domain": [
          0,
          1
         ],
         "title": {
          "text": "n_squirrels"
         }
        },
        "yaxis": {
         "anchor": "x",
         "domain": [
          0,
          1
         ],
         "title": {
          "text": "n_interactions"
         }
        }
       }
      }
     },
     "metadata": {},
     "output_type": "display_data"
    }
   ],
   "source": [
    "import plotly.express as px\n",
    "fig = px.scatter(n_squirrels_interactions, x ='n_squirrels',y = 'n_interactions',trendline=\"ols\")\n",
    "fig.show()"
   ]
  },
  {
   "cell_type": "markdown",
   "metadata": {},
   "source": [
    "### Conclusions\n",
    "\n",
    "    * Gray Squirrels are the ones how have control inside the park\n",
    "    * Most interactions are in the hectare number 30 and 38, maybe in this areas people sparse, lay on the grass and have a chill day\n",
    "    * Adult Squirrels look for food more than younger ones.\n",
    "    * Usually with more squirrels sopotted more interaction we have.\n",
    "    * There were 1454 squirrels that had som sort of interaction with humans and 1600 interactions with humans, so there is almos a 50% chance that some squirrels interact with you!"
   ]
  }
 ],
 "metadata": {
  "interpreter": {
   "hash": "1baa965d5efe3ac65b79dfc60c0d706280b1da80fedb7760faf2759126c4f253"
  },
  "kernelspec": {
   "display_name": "Python 3.8.8 64-bit",
   "name": "python3"
  },
  "language_info": {
   "codemirror_mode": {
    "name": "ipython",
    "version": 3
   },
   "file_extension": ".py",
   "mimetype": "text/x-python",
   "name": "python",
   "nbconvert_exporter": "python",
   "pygments_lexer": "ipython3",
   "version": "3.8.8"
  },
  "orig_nbformat": 4
 },
 "nbformat": 4,
 "nbformat_minor": 2
}
